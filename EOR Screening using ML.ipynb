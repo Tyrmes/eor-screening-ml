{
 "cells": [
  {
   "cell_type": "markdown",
   "metadata": {},
   "source": [
    "# EOR Screening Using ML Algorithms\n",
    "\n",
    "\n",
    "This project consists of implementing an EOR Screening by using Machine Learning algorithms. It must be mentioned that the dataset used for training and evaluating these algorithms have a size of roughly 200 successful EOR Projects (Rows or observations) from some countries, as well as 7 reservoir parameters, which are the feature or dependent variables. Furthermore, the target variable of this model is a categorical variable, which contains 5 EOR Methods (classes) such as the steam injection method, CO2 injection method, HC injection method, polymer injection method, and combustion in situ method."
   ]
  },
  {
   "cell_type": "markdown",
   "metadata": {},
   "source": [
    "## 1) Import Python Packages for Data Science"
   ]
  },
  {
   "cell_type": "code",
   "execution_count": 64,
   "metadata": {},
   "outputs": [],
   "source": [
    "import numpy as np\n",
    "import pandas as pd\n",
    "import matplotlib.pyplot as plt\n",
    "import plotly.express as px\n",
    "import seaborn as sns"
   ]
  },
  {
   "cell_type": "code",
   "execution_count": 65,
   "metadata": {},
   "outputs": [
    {
     "name": "stdout",
     "output_type": "stream",
     "text": [
      "C:\\Users\\fredd\n"
     ]
    }
   ],
   "source": [
    "cd"
   ]
  },
  {
   "cell_type": "code",
   "execution_count": 66,
   "metadata": {},
   "outputs": [
    {
     "name": "stdout",
     "output_type": "stream",
     "text": [
      "C:\\Users\\fredd\\OneDrive\n"
     ]
    }
   ],
   "source": [
    "cd OneDrive"
   ]
  },
  {
   "cell_type": "code",
   "execution_count": 67,
   "metadata": {},
   "outputs": [
    {
     "name": "stdout",
     "output_type": "stream",
     "text": [
      "C:\\Users\\fredd\\OneDrive\\Escritorio\n"
     ]
    }
   ],
   "source": [
    "cd Escritorio"
   ]
  },
  {
   "cell_type": "code",
   "execution_count": 68,
   "metadata": {},
   "outputs": [
    {
     "name": "stdout",
     "output_type": "stream",
     "text": [
      "C:\\Users\\fredd\\OneDrive\\Escritorio\\M.Sc\n"
     ]
    }
   ],
   "source": [
    "cd M.Sc"
   ]
  },
  {
   "cell_type": "markdown",
   "metadata": {},
   "source": [
    "## 2) Import the Dataset"
   ]
  },
  {
   "cell_type": "code",
   "execution_count": 69,
   "metadata": {},
   "outputs": [],
   "source": [
    "data = pd.read_csv('DATA WORLWIDE EOR PROJECTSP.csv')"
   ]
  },
  {
   "cell_type": "code",
   "execution_count": 70,
   "metadata": {},
   "outputs": [
    {
     "data": {
      "text/html": [
       "<div>\n",
       "<style scoped>\n",
       "    .dataframe tbody tr th:only-of-type {\n",
       "        vertical-align: middle;\n",
       "    }\n",
       "\n",
       "    .dataframe tbody tr th {\n",
       "        vertical-align: top;\n",
       "    }\n",
       "\n",
       "    .dataframe thead th {\n",
       "        text-align: right;\n",
       "    }\n",
       "</style>\n",
       "<table border=\"1\" class=\"dataframe\">\n",
       "  <thead>\n",
       "    <tr style=\"text-align: right;\">\n",
       "      <th></th>\n",
       "      <th>Country</th>\n",
       "      <th>EOR_Method</th>\n",
       "      <th>Porosity</th>\n",
       "      <th>Permiability</th>\n",
       "      <th>Depth</th>\n",
       "      <th>Gravity</th>\n",
       "      <th>Viscocity</th>\n",
       "      <th>Temperature</th>\n",
       "      <th>Oil_Saturation</th>\n",
       "      <th>Project_Eval</th>\n",
       "      <th>Profit</th>\n",
       "    </tr>\n",
       "  </thead>\n",
       "  <tbody>\n",
       "    <tr>\n",
       "      <th>0</th>\n",
       "      <td>USA</td>\n",
       "      <td>Polymer</td>\n",
       "      <td>14.0</td>\n",
       "      <td>40.0</td>\n",
       "      <td>4800.0</td>\n",
       "      <td>34.0</td>\n",
       "      <td>2.63</td>\n",
       "      <td>102.0</td>\n",
       "      <td>50.0</td>\n",
       "      <td>succ</td>\n",
       "      <td>No</td>\n",
       "    </tr>\n",
       "    <tr>\n",
       "      <th>1</th>\n",
       "      <td>Norway</td>\n",
       "      <td>Steam Injection</td>\n",
       "      <td>31.0</td>\n",
       "      <td>205.0</td>\n",
       "      <td>1200.0</td>\n",
       "      <td>19.0</td>\n",
       "      <td>32.00</td>\n",
       "      <td>105.0</td>\n",
       "      <td>57.0</td>\n",
       "      <td>Disc.</td>\n",
       "      <td>No</td>\n",
       "    </tr>\n",
       "    <tr>\n",
       "      <th>2</th>\n",
       "      <td>USA</td>\n",
       "      <td>CO2 Injection</td>\n",
       "      <td>23.0</td>\n",
       "      <td>30.0</td>\n",
       "      <td>2680.0</td>\n",
       "      <td>40.0</td>\n",
       "      <td>1.00</td>\n",
       "      <td>82.0</td>\n",
       "      <td>60.0</td>\n",
       "      <td>Disc.</td>\n",
       "      <td>No</td>\n",
       "    </tr>\n",
       "    <tr>\n",
       "      <th>3</th>\n",
       "      <td>USA</td>\n",
       "      <td>CO2 Injection</td>\n",
       "      <td>16.0</td>\n",
       "      <td>20.0</td>\n",
       "      <td>4500.0</td>\n",
       "      <td>41.0</td>\n",
       "      <td>1.10</td>\n",
       "      <td>97.0</td>\n",
       "      <td>35.0</td>\n",
       "      <td>Disc.</td>\n",
       "      <td>good</td>\n",
       "    </tr>\n",
       "    <tr>\n",
       "      <th>4</th>\n",
       "      <td>USA</td>\n",
       "      <td>CO2 Injection</td>\n",
       "      <td>18.0</td>\n",
       "      <td>2.0</td>\n",
       "      <td>5400.0</td>\n",
       "      <td>42.0</td>\n",
       "      <td>0.40</td>\n",
       "      <td>104.0</td>\n",
       "      <td>39.0</td>\n",
       "      <td>Disc.</td>\n",
       "      <td>good</td>\n",
       "    </tr>\n",
       "    <tr>\n",
       "      <th>...</th>\n",
       "      <td>...</td>\n",
       "      <td>...</td>\n",
       "      <td>...</td>\n",
       "      <td>...</td>\n",
       "      <td>...</td>\n",
       "      <td>...</td>\n",
       "      <td>...</td>\n",
       "      <td>...</td>\n",
       "      <td>...</td>\n",
       "      <td>...</td>\n",
       "      <td>...</td>\n",
       "    </tr>\n",
       "    <tr>\n",
       "      <th>198</th>\n",
       "      <td>USA</td>\n",
       "      <td>HC injection</td>\n",
       "      <td>25.0</td>\n",
       "      <td>150.0</td>\n",
       "      <td>4500.0</td>\n",
       "      <td>18.0</td>\n",
       "      <td>100.00</td>\n",
       "      <td>85.0</td>\n",
       "      <td>65.0</td>\n",
       "      <td>succ</td>\n",
       "      <td>No</td>\n",
       "    </tr>\n",
       "    <tr>\n",
       "      <th>199</th>\n",
       "      <td>USA</td>\n",
       "      <td>HC injection</td>\n",
       "      <td>25.0</td>\n",
       "      <td>150.0</td>\n",
       "      <td>4900.0</td>\n",
       "      <td>20.0</td>\n",
       "      <td>100.00</td>\n",
       "      <td>100.0</td>\n",
       "      <td>65.0</td>\n",
       "      <td>succ</td>\n",
       "      <td>No</td>\n",
       "    </tr>\n",
       "    <tr>\n",
       "      <th>200</th>\n",
       "      <td>Canada</td>\n",
       "      <td>Steam Injection</td>\n",
       "      <td>33.0</td>\n",
       "      <td>7000.0</td>\n",
       "      <td>1600.0</td>\n",
       "      <td>10.0</td>\n",
       "      <td>500000.00</td>\n",
       "      <td>55.0</td>\n",
       "      <td>85.0</td>\n",
       "      <td>succ</td>\n",
       "      <td>No</td>\n",
       "    </tr>\n",
       "    <tr>\n",
       "      <th>201</th>\n",
       "      <td>Canada</td>\n",
       "      <td>Steam Injection</td>\n",
       "      <td>33.0</td>\n",
       "      <td>7000.0</td>\n",
       "      <td>4226.6</td>\n",
       "      <td>26.9</td>\n",
       "      <td>8837.30</td>\n",
       "      <td>129.8</td>\n",
       "      <td>60.0</td>\n",
       "      <td>succ</td>\n",
       "      <td>No</td>\n",
       "    </tr>\n",
       "    <tr>\n",
       "      <th>202</th>\n",
       "      <td>Canada</td>\n",
       "      <td>CO2 Injection</td>\n",
       "      <td>8.5</td>\n",
       "      <td>54.0</td>\n",
       "      <td>8300.0</td>\n",
       "      <td>41.0</td>\n",
       "      <td>0.40</td>\n",
       "      <td>225.0</td>\n",
       "      <td>30.0</td>\n",
       "      <td>succ</td>\n",
       "      <td>No</td>\n",
       "    </tr>\n",
       "  </tbody>\n",
       "</table>\n",
       "<p>203 rows × 11 columns</p>\n",
       "</div>"
      ],
      "text/plain": [
       "    Country       EOR_Method  Porosity   Permiability   Depth  Gravity  \\\n",
       "0       USA          Polymer       14.0          40.0  4800.0     34.0   \n",
       "1    Norway  Steam Injection       31.0         205.0  1200.0     19.0   \n",
       "2       USA    CO2 Injection       23.0          30.0  2680.0     40.0   \n",
       "3       USA    CO2 Injection       16.0          20.0  4500.0     41.0   \n",
       "4       USA    CO2 Injection       18.0           2.0  5400.0     42.0   \n",
       "..      ...              ...        ...           ...     ...      ...   \n",
       "198     USA     HC injection       25.0         150.0  4500.0     18.0   \n",
       "199     USA     HC injection       25.0         150.0  4900.0     20.0   \n",
       "200  Canada  Steam Injection       33.0        7000.0  1600.0     10.0   \n",
       "201  Canada  Steam Injection       33.0        7000.0  4226.6     26.9   \n",
       "202  Canada    CO2 Injection        8.5          54.0  8300.0     41.0   \n",
       "\n",
       "     Viscocity  Temperature  Oil_Saturation Project_Eval  Profit  \n",
       "0         2.63        102.0            50.0          succ     No  \n",
       "1        32.00        105.0            57.0         Disc.     No  \n",
       "2         1.00         82.0            60.0         Disc.     No  \n",
       "3         1.10         97.0            35.0         Disc.   good  \n",
       "4         0.40        104.0            39.0         Disc.   good  \n",
       "..         ...          ...             ...           ...    ...  \n",
       "198     100.00         85.0            65.0          succ     No  \n",
       "199     100.00        100.0            65.0          succ     No  \n",
       "200  500000.00         55.0            85.0          succ     No  \n",
       "201    8837.30        129.8            60.0          succ     No  \n",
       "202       0.40        225.0            30.0          succ     No  \n",
       "\n",
       "[203 rows x 11 columns]"
      ]
     },
     "execution_count": 70,
     "metadata": {},
     "output_type": "execute_result"
    }
   ],
   "source": [
    "data"
   ]
  },
  {
   "cell_type": "markdown",
   "metadata": {},
   "source": [
    "## 3) Data Preparation"
   ]
  },
  {
   "cell_type": "markdown",
   "metadata": {},
   "source": [
    "### 3.1) Exploratory Data Analysis (EDA)"
   ]
  },
  {
   "cell_type": "markdown",
   "metadata": {},
   "source": [
    "### 3.1.1) Data Description"
   ]
  },
  {
   "cell_type": "code",
   "execution_count": 71,
   "metadata": {},
   "outputs": [
    {
     "name": "stdout",
     "output_type": "stream",
     "text": [
      "<class 'pandas.core.frame.DataFrame'>\n",
      "RangeIndex: 203 entries, 0 to 202\n",
      "Data columns (total 11 columns):\n",
      " #   Column          Non-Null Count  Dtype  \n",
      "---  ------          --------------  -----  \n",
      " 0   Country         203 non-null    object \n",
      " 1   EOR_Method      203 non-null    object \n",
      " 2   Porosity        203 non-null    float64\n",
      " 3   Permiability    203 non-null    float64\n",
      " 4   Depth           203 non-null    float64\n",
      " 5   Gravity         203 non-null    float64\n",
      " 6   Viscocity       203 non-null    float64\n",
      " 7   Temperature     203 non-null    float64\n",
      " 8   Oil_Saturation  203 non-null    float64\n",
      " 9   Project_Eval    203 non-null    object \n",
      " 10  Profit          203 non-null    object \n",
      "dtypes: float64(7), object(4)\n",
      "memory usage: 17.6+ KB\n"
     ]
    }
   ],
   "source": [
    "data.info() "
   ]
  },
  {
   "cell_type": "markdown",
   "metadata": {},
   "source": [
    "### 3.1.2) Statistical Summary"
   ]
  },
  {
   "cell_type": "code",
   "execution_count": 72,
   "metadata": {},
   "outputs": [
    {
     "data": {
      "text/html": [
       "<div>\n",
       "<style scoped>\n",
       "    .dataframe tbody tr th:only-of-type {\n",
       "        vertical-align: middle;\n",
       "    }\n",
       "\n",
       "    .dataframe tbody tr th {\n",
       "        vertical-align: top;\n",
       "    }\n",
       "\n",
       "    .dataframe thead th {\n",
       "        text-align: right;\n",
       "    }\n",
       "</style>\n",
       "<table border=\"1\" class=\"dataframe\">\n",
       "  <thead>\n",
       "    <tr style=\"text-align: right;\">\n",
       "      <th></th>\n",
       "      <th>Porosity</th>\n",
       "      <th>Permiability</th>\n",
       "      <th>Depth</th>\n",
       "      <th>Gravity</th>\n",
       "      <th>Viscocity</th>\n",
       "      <th>Temperature</th>\n",
       "      <th>Oil_Saturation</th>\n",
       "    </tr>\n",
       "  </thead>\n",
       "  <tbody>\n",
       "    <tr>\n",
       "      <th>count</th>\n",
       "      <td>203.000000</td>\n",
       "      <td>203.000000</td>\n",
       "      <td>203.000000</td>\n",
       "      <td>203.000000</td>\n",
       "      <td>203.000000</td>\n",
       "      <td>203.000000</td>\n",
       "      <td>203.000000</td>\n",
       "    </tr>\n",
       "    <tr>\n",
       "      <th>mean</th>\n",
       "      <td>23.176502</td>\n",
       "      <td>1398.012315</td>\n",
       "      <td>4226.613793</td>\n",
       "      <td>26.879803</td>\n",
       "      <td>8837.250296</td>\n",
       "      <td>129.815764</td>\n",
       "      <td>60.040394</td>\n",
       "    </tr>\n",
       "    <tr>\n",
       "      <th>std</th>\n",
       "      <td>22.877027</td>\n",
       "      <td>2385.858371</td>\n",
       "      <td>2831.695135</td>\n",
       "      <td>11.300216</td>\n",
       "      <td>46386.283444</td>\n",
       "      <td>76.529299</td>\n",
       "      <td>16.831308</td>\n",
       "    </tr>\n",
       "    <tr>\n",
       "      <th>min</th>\n",
       "      <td>0.280000</td>\n",
       "      <td>1.000000</td>\n",
       "      <td>175.000000</td>\n",
       "      <td>8.000000</td>\n",
       "      <td>0.140000</td>\n",
       "      <td>54.000000</td>\n",
       "      <td>0.800000</td>\n",
       "    </tr>\n",
       "    <tr>\n",
       "      <th>25%</th>\n",
       "      <td>12.000000</td>\n",
       "      <td>10.000000</td>\n",
       "      <td>1500.000000</td>\n",
       "      <td>14.000000</td>\n",
       "      <td>1.000000</td>\n",
       "      <td>99.000000</td>\n",
       "      <td>50.000000</td>\n",
       "    </tr>\n",
       "    <tr>\n",
       "      <th>50%</th>\n",
       "      <td>20.000000</td>\n",
       "      <td>160.000000</td>\n",
       "      <td>4500.000000</td>\n",
       "      <td>30.000000</td>\n",
       "      <td>2.300000</td>\n",
       "      <td>106.000000</td>\n",
       "      <td>60.000000</td>\n",
       "    </tr>\n",
       "    <tr>\n",
       "      <th>75%</th>\n",
       "      <td>30.000000</td>\n",
       "      <td>2000.000000</td>\n",
       "      <td>6000.000000</td>\n",
       "      <td>36.000000</td>\n",
       "      <td>1612.500000</td>\n",
       "      <td>154.000000</td>\n",
       "      <td>70.000000</td>\n",
       "    </tr>\n",
       "    <tr>\n",
       "      <th>max</th>\n",
       "      <td>303.000000</td>\n",
       "      <td>10000.000000</td>\n",
       "      <td>10000.000000</td>\n",
       "      <td>48.000000</td>\n",
       "      <td>500000.000000</td>\n",
       "      <td>1000.000000</td>\n",
       "      <td>94.000000</td>\n",
       "    </tr>\n",
       "  </tbody>\n",
       "</table>\n",
       "</div>"
      ],
      "text/plain": [
       "        Porosity   Permiability         Depth     Gravity      Viscocity  \\\n",
       "count  203.000000    203.000000    203.000000  203.000000     203.000000   \n",
       "mean    23.176502   1398.012315   4226.613793   26.879803    8837.250296   \n",
       "std     22.877027   2385.858371   2831.695135   11.300216   46386.283444   \n",
       "min      0.280000      1.000000    175.000000    8.000000       0.140000   \n",
       "25%     12.000000     10.000000   1500.000000   14.000000       1.000000   \n",
       "50%     20.000000    160.000000   4500.000000   30.000000       2.300000   \n",
       "75%     30.000000   2000.000000   6000.000000   36.000000    1612.500000   \n",
       "max    303.000000  10000.000000  10000.000000   48.000000  500000.000000   \n",
       "\n",
       "       Temperature  Oil_Saturation  \n",
       "count   203.000000      203.000000  \n",
       "mean    129.815764       60.040394  \n",
       "std      76.529299       16.831308  \n",
       "min      54.000000        0.800000  \n",
       "25%      99.000000       50.000000  \n",
       "50%     106.000000       60.000000  \n",
       "75%     154.000000       70.000000  \n",
       "max    1000.000000       94.000000  "
      ]
     },
     "execution_count": 72,
     "metadata": {},
     "output_type": "execute_result"
    }
   ],
   "source": [
    "data.describe()"
   ]
  },
  {
   "cell_type": "markdown",
   "metadata": {},
   "source": [
    "### 3.1.3) Visualizations"
   ]
  },
  {
   "cell_type": "markdown",
   "metadata": {},
   "source": [
    "Boxplots of the categorical variable EOR method vs its feature variables are shown as follows:"
   ]
  },
  {
   "cell_type": "code",
   "execution_count": 73,
   "metadata": {},
   "outputs": [
    {
     "data": {
      "application/vnd.plotly.v1+json": {
       "config": {
        "plotlyServerURL": "https://plot.ly"
       },
       "data": [
        {
         "alignmentgroup": "True",
         "hovertemplate": "EOR_Method=%{x}<br>Permiability=%{y}<extra></extra>",
         "legendgroup": "",
         "marker": {
          "color": "#636efa"
         },
         "name": "",
         "notched": false,
         "offsetgroup": "",
         "orientation": "v",
         "showlegend": false,
         "type": "box",
         "x": [
          "Polymer",
          "Steam Injection",
          "CO2 Injection",
          "CO2 Injection",
          "CO2 Injection",
          "CO2 Injection",
          "CO2 Injection",
          "HC injection",
          "HC injection",
          "Steam Injection",
          "Steam Injection",
          "Steam Injection",
          "Steam Injection",
          "Steam Injection",
          "Steam Injection",
          "Steam Injection",
          "Steam Injection",
          "Steam Injection",
          "Steam Injection",
          "Steam Injection",
          "Steam Injection",
          "CO2 Injection",
          "CO2 Injection",
          "CO2 Injection",
          "CO2 Injection",
          "CO2 Injection",
          "CO2 Injection",
          "CO2 Injection",
          "CO2 Injection",
          "CO2 Injection",
          "CO2 Injection",
          "CO2 Injection",
          "HC injection",
          "Combustion",
          "Combustion",
          "Polymer",
          "Steam Injection",
          "Steam Injection",
          "Steam Injection",
          "Steam Injection",
          "Steam Injection",
          "Steam Injection",
          "Steam Injection",
          "Steam Injection",
          "Steam Injection",
          "Steam Injection",
          "Steam Injection",
          "Steam Injection",
          "Steam Injection",
          "Steam Injection",
          "Steam Injection",
          "Steam Injection",
          "Steam Injection",
          "Steam Injection",
          "Steam Injection",
          "Steam Injection",
          "Steam Injection",
          "Steam Injection",
          "Steam Injection",
          "Steam Injection",
          "Steam Injection",
          "Steam Injection",
          "Steam Injection",
          "Steam Injection",
          "Steam Injection",
          "Steam Injection",
          "Steam Injection",
          "Steam Injection",
          "Steam Injection",
          "Steam Injection",
          "Steam Injection",
          "Steam Injection",
          "Steam Injection",
          "Steam Injection",
          "Steam Injection",
          "Steam Injection",
          "Steam Injection",
          "Steam Injection",
          "Steam Injection",
          "Steam Injection",
          "Steam Injection",
          "Steam Injection",
          "Steam Injection",
          "Steam Injection",
          "Steam Injection",
          "Steam Injection",
          "Steam Injection",
          "Steam Injection",
          "Steam Injection",
          "CO2 Injection",
          "CO2 Injection",
          "CO2 Injection",
          "CO2 Injection",
          "CO2 Injection",
          "CO2 Injection",
          "CO2 Injection",
          "CO2 Injection",
          "CO2 Injection",
          "CO2 Injection",
          "CO2 Injection",
          "CO2 Injection",
          "CO2 Injection",
          "CO2 Injection",
          "CO2 Injection",
          "CO2 Injection",
          "CO2 Injection",
          "CO2 Injection",
          "CO2 Injection",
          "CO2 Injection",
          "CO2 Injection",
          "CO2 Injection",
          "CO2 Injection",
          "CO2 Injection",
          "CO2 Injection",
          "CO2 Injection",
          "CO2 Injection",
          "CO2 Injection",
          "CO2 Injection",
          "CO2 Injection",
          "CO2 Injection",
          "CO2 Injection",
          "CO2 Injection",
          "CO2 Injection",
          "CO2 Injection",
          "CO2 Injection",
          "CO2 Injection",
          "CO2 Injection",
          "CO2 Injection",
          "CO2 Injection",
          "CO2 Injection",
          "CO2 Injection",
          "CO2 Injection",
          "CO2 Injection",
          "CO2 Injection",
          "CO2 Injection",
          "CO2 Injection",
          "CO2 Injection",
          "CO2 Injection",
          "HC injection",
          "HC injection",
          "HC injection",
          "HC injection",
          "HC injection",
          "HC injection",
          "HC injection",
          "HC injection",
          "HC injection",
          "HC injection",
          "HC injection",
          "HC injection",
          "HC injection",
          "HC injection",
          "HC injection",
          "HC injection",
          "HC injection",
          "HC injection",
          "HC injection",
          "HC injection",
          "HC injection",
          "HC injection",
          "HC injection",
          "HC injection",
          "HC injection",
          "Combustion",
          "Combustion",
          "Combustion",
          "Combustion",
          "Combustion",
          "Combustion",
          "Combustion",
          "Combustion",
          "Combustion",
          "Combustion",
          "Combustion",
          "Polymer",
          "Polymer",
          "Polymer",
          "Polymer",
          "Polymer",
          "Polymer",
          "Polymer",
          "Steam Injection",
          "Steam Injection",
          "Steam Injection",
          "Steam Injection",
          "Steam Injection",
          "Steam Injection",
          "Steam Injection",
          "Steam Injection",
          "Steam Injection",
          "Steam Injection",
          "Steam Injection",
          "CO2 Injection",
          "CO2 Injection",
          "CO2 Injection",
          "CO2 Injection",
          "CO2 Injection",
          "CO2 Injection",
          "HC injection",
          "HC injection",
          "Steam Injection",
          "Steam Injection",
          "CO2 Injection"
         ],
         "x0": " ",
         "xaxis": "x",
         "y": [
          40,
          205,
          30,
          20,
          2,
          2,
          3,
          50,
          50,
          3,
          4000,
          1,
          100,
          3048,
          955,
          2000,
          10000,
          10000,
          10000,
          95,
          265,
          1000,
          10,
          50,
          2,
          5,
          6,
          37,
          4,
          30,
          300,
          7.5,
          300,
          10,
          10,
          16,
          2000,
          1000,
          2000,
          2000,
          2000,
          3000,
          3000,
          4500,
          3000,
          300,
          5,
          5000,
          2000,
          2260,
          3500,
          3000,
          2000,
          1500,
          5,
          2700,
          3000,
          1300,
          2250,
          1510,
          2000,
          6700,
          2000,
          2800,
          2000,
          1500,
          1300,
          8000,
          1000,
          1000,
          4000,
          3500,
          7500,
          1500,
          3000,
          1500,
          3000,
          4000,
          3000,
          200,
          20,
          10000,
          10000,
          10000,
          10000,
          2000,
          1600,
          500,
          19,
          75,
          32,
          31,
          4,
          10,
          20,
          5,
          44,
          4,
          5,
          6,
          3,
          2,
          5,
          42,
          5,
          15,
          4,
          12,
          70,
          5,
          2,
          8,
          4,
          4,
          5,
          4,
          4,
          4,
          2,
          8,
          8,
          5,
          2,
          2,
          5,
          48,
          100,
          2,
          6,
          250,
          107,
          500,
          600,
          1800,
          1000,
          175,
          500,
          112,
          400,
          130,
          50,
          100,
          200,
          1300,
          4000,
          40,
          200,
          54,
          300,
          40,
          300,
          1000,
          900,
          2020,
          1060,
          540,
          3100,
          2400,
          1970,
          1375,
          180,
          320,
          160,
          650,
          15,
          10,
          10,
          10,
          10,
          10,
          10,
          10,
          10,
          6600,
          25,
          30,
          75,
          30,
          20,
          3000,
          7000,
          1500,
          1,
          800,
          3500,
          100,
          500,
          1500,
          2000,
          4000,
          10000,
          750,
          10,
          32,
          50,
          20,
          112,
          112,
          150,
          150,
          7000,
          7000,
          54
         ],
         "y0": " ",
         "yaxis": "y"
        }
       ],
       "layout": {
        "boxmode": "group",
        "legend": {
         "tracegroupgap": 0
        },
        "margin": {
         "t": 60
        },
        "template": {
         "data": {
          "bar": [
           {
            "error_x": {
             "color": "#2a3f5f"
            },
            "error_y": {
             "color": "#2a3f5f"
            },
            "marker": {
             "line": {
              "color": "#E5ECF6",
              "width": 0.5
             }
            },
            "type": "bar"
           }
          ],
          "barpolar": [
           {
            "marker": {
             "line": {
              "color": "#E5ECF6",
              "width": 0.5
             }
            },
            "type": "barpolar"
           }
          ],
          "carpet": [
           {
            "aaxis": {
             "endlinecolor": "#2a3f5f",
             "gridcolor": "white",
             "linecolor": "white",
             "minorgridcolor": "white",
             "startlinecolor": "#2a3f5f"
            },
            "baxis": {
             "endlinecolor": "#2a3f5f",
             "gridcolor": "white",
             "linecolor": "white",
             "minorgridcolor": "white",
             "startlinecolor": "#2a3f5f"
            },
            "type": "carpet"
           }
          ],
          "choropleth": [
           {
            "colorbar": {
             "outlinewidth": 0,
             "ticks": ""
            },
            "type": "choropleth"
           }
          ],
          "contour": [
           {
            "colorbar": {
             "outlinewidth": 0,
             "ticks": ""
            },
            "colorscale": [
             [
              0,
              "#0d0887"
             ],
             [
              0.1111111111111111,
              "#46039f"
             ],
             [
              0.2222222222222222,
              "#7201a8"
             ],
             [
              0.3333333333333333,
              "#9c179e"
             ],
             [
              0.4444444444444444,
              "#bd3786"
             ],
             [
              0.5555555555555556,
              "#d8576b"
             ],
             [
              0.6666666666666666,
              "#ed7953"
             ],
             [
              0.7777777777777778,
              "#fb9f3a"
             ],
             [
              0.8888888888888888,
              "#fdca26"
             ],
             [
              1,
              "#f0f921"
             ]
            ],
            "type": "contour"
           }
          ],
          "contourcarpet": [
           {
            "colorbar": {
             "outlinewidth": 0,
             "ticks": ""
            },
            "type": "contourcarpet"
           }
          ],
          "heatmap": [
           {
            "colorbar": {
             "outlinewidth": 0,
             "ticks": ""
            },
            "colorscale": [
             [
              0,
              "#0d0887"
             ],
             [
              0.1111111111111111,
              "#46039f"
             ],
             [
              0.2222222222222222,
              "#7201a8"
             ],
             [
              0.3333333333333333,
              "#9c179e"
             ],
             [
              0.4444444444444444,
              "#bd3786"
             ],
             [
              0.5555555555555556,
              "#d8576b"
             ],
             [
              0.6666666666666666,
              "#ed7953"
             ],
             [
              0.7777777777777778,
              "#fb9f3a"
             ],
             [
              0.8888888888888888,
              "#fdca26"
             ],
             [
              1,
              "#f0f921"
             ]
            ],
            "type": "heatmap"
           }
          ],
          "heatmapgl": [
           {
            "colorbar": {
             "outlinewidth": 0,
             "ticks": ""
            },
            "colorscale": [
             [
              0,
              "#0d0887"
             ],
             [
              0.1111111111111111,
              "#46039f"
             ],
             [
              0.2222222222222222,
              "#7201a8"
             ],
             [
              0.3333333333333333,
              "#9c179e"
             ],
             [
              0.4444444444444444,
              "#bd3786"
             ],
             [
              0.5555555555555556,
              "#d8576b"
             ],
             [
              0.6666666666666666,
              "#ed7953"
             ],
             [
              0.7777777777777778,
              "#fb9f3a"
             ],
             [
              0.8888888888888888,
              "#fdca26"
             ],
             [
              1,
              "#f0f921"
             ]
            ],
            "type": "heatmapgl"
           }
          ],
          "histogram": [
           {
            "marker": {
             "colorbar": {
              "outlinewidth": 0,
              "ticks": ""
             }
            },
            "type": "histogram"
           }
          ],
          "histogram2d": [
           {
            "colorbar": {
             "outlinewidth": 0,
             "ticks": ""
            },
            "colorscale": [
             [
              0,
              "#0d0887"
             ],
             [
              0.1111111111111111,
              "#46039f"
             ],
             [
              0.2222222222222222,
              "#7201a8"
             ],
             [
              0.3333333333333333,
              "#9c179e"
             ],
             [
              0.4444444444444444,
              "#bd3786"
             ],
             [
              0.5555555555555556,
              "#d8576b"
             ],
             [
              0.6666666666666666,
              "#ed7953"
             ],
             [
              0.7777777777777778,
              "#fb9f3a"
             ],
             [
              0.8888888888888888,
              "#fdca26"
             ],
             [
              1,
              "#f0f921"
             ]
            ],
            "type": "histogram2d"
           }
          ],
          "histogram2dcontour": [
           {
            "colorbar": {
             "outlinewidth": 0,
             "ticks": ""
            },
            "colorscale": [
             [
              0,
              "#0d0887"
             ],
             [
              0.1111111111111111,
              "#46039f"
             ],
             [
              0.2222222222222222,
              "#7201a8"
             ],
             [
              0.3333333333333333,
              "#9c179e"
             ],
             [
              0.4444444444444444,
              "#bd3786"
             ],
             [
              0.5555555555555556,
              "#d8576b"
             ],
             [
              0.6666666666666666,
              "#ed7953"
             ],
             [
              0.7777777777777778,
              "#fb9f3a"
             ],
             [
              0.8888888888888888,
              "#fdca26"
             ],
             [
              1,
              "#f0f921"
             ]
            ],
            "type": "histogram2dcontour"
           }
          ],
          "mesh3d": [
           {
            "colorbar": {
             "outlinewidth": 0,
             "ticks": ""
            },
            "type": "mesh3d"
           }
          ],
          "parcoords": [
           {
            "line": {
             "colorbar": {
              "outlinewidth": 0,
              "ticks": ""
             }
            },
            "type": "parcoords"
           }
          ],
          "pie": [
           {
            "automargin": true,
            "type": "pie"
           }
          ],
          "scatter": [
           {
            "marker": {
             "colorbar": {
              "outlinewidth": 0,
              "ticks": ""
             }
            },
            "type": "scatter"
           }
          ],
          "scatter3d": [
           {
            "line": {
             "colorbar": {
              "outlinewidth": 0,
              "ticks": ""
             }
            },
            "marker": {
             "colorbar": {
              "outlinewidth": 0,
              "ticks": ""
             }
            },
            "type": "scatter3d"
           }
          ],
          "scattercarpet": [
           {
            "marker": {
             "colorbar": {
              "outlinewidth": 0,
              "ticks": ""
             }
            },
            "type": "scattercarpet"
           }
          ],
          "scattergeo": [
           {
            "marker": {
             "colorbar": {
              "outlinewidth": 0,
              "ticks": ""
             }
            },
            "type": "scattergeo"
           }
          ],
          "scattergl": [
           {
            "marker": {
             "colorbar": {
              "outlinewidth": 0,
              "ticks": ""
             }
            },
            "type": "scattergl"
           }
          ],
          "scattermapbox": [
           {
            "marker": {
             "colorbar": {
              "outlinewidth": 0,
              "ticks": ""
             }
            },
            "type": "scattermapbox"
           }
          ],
          "scatterpolar": [
           {
            "marker": {
             "colorbar": {
              "outlinewidth": 0,
              "ticks": ""
             }
            },
            "type": "scatterpolar"
           }
          ],
          "scatterpolargl": [
           {
            "marker": {
             "colorbar": {
              "outlinewidth": 0,
              "ticks": ""
             }
            },
            "type": "scatterpolargl"
           }
          ],
          "scatterternary": [
           {
            "marker": {
             "colorbar": {
              "outlinewidth": 0,
              "ticks": ""
             }
            },
            "type": "scatterternary"
           }
          ],
          "surface": [
           {
            "colorbar": {
             "outlinewidth": 0,
             "ticks": ""
            },
            "colorscale": [
             [
              0,
              "#0d0887"
             ],
             [
              0.1111111111111111,
              "#46039f"
             ],
             [
              0.2222222222222222,
              "#7201a8"
             ],
             [
              0.3333333333333333,
              "#9c179e"
             ],
             [
              0.4444444444444444,
              "#bd3786"
             ],
             [
              0.5555555555555556,
              "#d8576b"
             ],
             [
              0.6666666666666666,
              "#ed7953"
             ],
             [
              0.7777777777777778,
              "#fb9f3a"
             ],
             [
              0.8888888888888888,
              "#fdca26"
             ],
             [
              1,
              "#f0f921"
             ]
            ],
            "type": "surface"
           }
          ],
          "table": [
           {
            "cells": {
             "fill": {
              "color": "#EBF0F8"
             },
             "line": {
              "color": "white"
             }
            },
            "header": {
             "fill": {
              "color": "#C8D4E3"
             },
             "line": {
              "color": "white"
             }
            },
            "type": "table"
           }
          ]
         },
         "layout": {
          "annotationdefaults": {
           "arrowcolor": "#2a3f5f",
           "arrowhead": 0,
           "arrowwidth": 1
          },
          "coloraxis": {
           "colorbar": {
            "outlinewidth": 0,
            "ticks": ""
           }
          },
          "colorscale": {
           "diverging": [
            [
             0,
             "#8e0152"
            ],
            [
             0.1,
             "#c51b7d"
            ],
            [
             0.2,
             "#de77ae"
            ],
            [
             0.3,
             "#f1b6da"
            ],
            [
             0.4,
             "#fde0ef"
            ],
            [
             0.5,
             "#f7f7f7"
            ],
            [
             0.6,
             "#e6f5d0"
            ],
            [
             0.7,
             "#b8e186"
            ],
            [
             0.8,
             "#7fbc41"
            ],
            [
             0.9,
             "#4d9221"
            ],
            [
             1,
             "#276419"
            ]
           ],
           "sequential": [
            [
             0,
             "#0d0887"
            ],
            [
             0.1111111111111111,
             "#46039f"
            ],
            [
             0.2222222222222222,
             "#7201a8"
            ],
            [
             0.3333333333333333,
             "#9c179e"
            ],
            [
             0.4444444444444444,
             "#bd3786"
            ],
            [
             0.5555555555555556,
             "#d8576b"
            ],
            [
             0.6666666666666666,
             "#ed7953"
            ],
            [
             0.7777777777777778,
             "#fb9f3a"
            ],
            [
             0.8888888888888888,
             "#fdca26"
            ],
            [
             1,
             "#f0f921"
            ]
           ],
           "sequentialminus": [
            [
             0,
             "#0d0887"
            ],
            [
             0.1111111111111111,
             "#46039f"
            ],
            [
             0.2222222222222222,
             "#7201a8"
            ],
            [
             0.3333333333333333,
             "#9c179e"
            ],
            [
             0.4444444444444444,
             "#bd3786"
            ],
            [
             0.5555555555555556,
             "#d8576b"
            ],
            [
             0.6666666666666666,
             "#ed7953"
            ],
            [
             0.7777777777777778,
             "#fb9f3a"
            ],
            [
             0.8888888888888888,
             "#fdca26"
            ],
            [
             1,
             "#f0f921"
            ]
           ]
          },
          "colorway": [
           "#636efa",
           "#EF553B",
           "#00cc96",
           "#ab63fa",
           "#FFA15A",
           "#19d3f3",
           "#FF6692",
           "#B6E880",
           "#FF97FF",
           "#FECB52"
          ],
          "font": {
           "color": "#2a3f5f"
          },
          "geo": {
           "bgcolor": "white",
           "lakecolor": "white",
           "landcolor": "#E5ECF6",
           "showlakes": true,
           "showland": true,
           "subunitcolor": "white"
          },
          "hoverlabel": {
           "align": "left"
          },
          "hovermode": "closest",
          "mapbox": {
           "style": "light"
          },
          "paper_bgcolor": "white",
          "plot_bgcolor": "#E5ECF6",
          "polar": {
           "angularaxis": {
            "gridcolor": "white",
            "linecolor": "white",
            "ticks": ""
           },
           "bgcolor": "#E5ECF6",
           "radialaxis": {
            "gridcolor": "white",
            "linecolor": "white",
            "ticks": ""
           }
          },
          "scene": {
           "xaxis": {
            "backgroundcolor": "#E5ECF6",
            "gridcolor": "white",
            "gridwidth": 2,
            "linecolor": "white",
            "showbackground": true,
            "ticks": "",
            "zerolinecolor": "white"
           },
           "yaxis": {
            "backgroundcolor": "#E5ECF6",
            "gridcolor": "white",
            "gridwidth": 2,
            "linecolor": "white",
            "showbackground": true,
            "ticks": "",
            "zerolinecolor": "white"
           },
           "zaxis": {
            "backgroundcolor": "#E5ECF6",
            "gridcolor": "white",
            "gridwidth": 2,
            "linecolor": "white",
            "showbackground": true,
            "ticks": "",
            "zerolinecolor": "white"
           }
          },
          "shapedefaults": {
           "line": {
            "color": "#2a3f5f"
           }
          },
          "ternary": {
           "aaxis": {
            "gridcolor": "white",
            "linecolor": "white",
            "ticks": ""
           },
           "baxis": {
            "gridcolor": "white",
            "linecolor": "white",
            "ticks": ""
           },
           "bgcolor": "#E5ECF6",
           "caxis": {
            "gridcolor": "white",
            "linecolor": "white",
            "ticks": ""
           }
          },
          "title": {
           "x": 0.05
          },
          "xaxis": {
           "automargin": true,
           "gridcolor": "white",
           "linecolor": "white",
           "ticks": "",
           "title": {
            "standoff": 15
           },
           "zerolinecolor": "white",
           "zerolinewidth": 2
          },
          "yaxis": {
           "automargin": true,
           "gridcolor": "white",
           "linecolor": "white",
           "ticks": "",
           "title": {
            "standoff": 15
           },
           "zerolinecolor": "white",
           "zerolinewidth": 2
          }
         }
        },
        "xaxis": {
         "anchor": "y",
         "domain": [
          0,
          1
         ],
         "title": {
          "text": "EOR_Method"
         }
        },
        "yaxis": {
         "anchor": "x",
         "domain": [
          0,
          1
         ],
         "title": {
          "text": "Permiability"
         }
        }
       }
      },
      "text/html": [
       "<div>                            <div id=\"6cb64c8e-f1d5-4e06-b571-1c5ea7bca537\" class=\"plotly-graph-div\" style=\"height:525px; width:100%;\"></div>            <script type=\"text/javascript\">                require([\"plotly\"], function(Plotly) {                    window.PLOTLYENV=window.PLOTLYENV || {};                                    if (document.getElementById(\"6cb64c8e-f1d5-4e06-b571-1c5ea7bca537\")) {                    Plotly.newPlot(                        \"6cb64c8e-f1d5-4e06-b571-1c5ea7bca537\",                        [{\"alignmentgroup\": \"True\", \"hovertemplate\": \"EOR_Method=%{x}<br>Permiability=%{y}<extra></extra>\", \"legendgroup\": \"\", \"marker\": {\"color\": \"#636efa\"}, \"name\": \"\", \"notched\": false, \"offsetgroup\": \"\", \"orientation\": \"v\", \"showlegend\": false, \"type\": \"box\", \"x\": [\"Polymer\", \"Steam Injection\", \"CO2 Injection\", \"CO2 Injection\", \"CO2 Injection\", \"CO2 Injection\", \"CO2 Injection\", \"HC injection\", \"HC injection\", \"Steam Injection\", \"Steam Injection\", \"Steam Injection\", \"Steam Injection\", \"Steam Injection\", \"Steam Injection\", \"Steam Injection\", \"Steam Injection\", \"Steam Injection\", \"Steam Injection\", \"Steam Injection\", \"Steam Injection\", \"CO2 Injection\", \"CO2 Injection\", \"CO2 Injection\", \"CO2 Injection\", \"CO2 Injection\", \"CO2 Injection\", \"CO2 Injection\", \"CO2 Injection\", \"CO2 Injection\", \"CO2 Injection\", \"CO2 Injection\", \"HC injection\", \"Combustion\", \"Combustion\", \"Polymer\", \"Steam Injection\", \"Steam Injection\", \"Steam Injection\", \"Steam Injection\", \"Steam Injection\", \"Steam Injection\", \"Steam Injection\", \"Steam Injection\", \"Steam Injection\", \"Steam Injection\", \"Steam Injection\", \"Steam Injection\", \"Steam Injection\", \"Steam Injection\", \"Steam Injection\", \"Steam Injection\", \"Steam Injection\", \"Steam Injection\", \"Steam Injection\", \"Steam Injection\", \"Steam Injection\", \"Steam Injection\", \"Steam Injection\", \"Steam Injection\", \"Steam Injection\", \"Steam Injection\", \"Steam Injection\", \"Steam Injection\", \"Steam Injection\", \"Steam Injection\", \"Steam Injection\", \"Steam Injection\", \"Steam Injection\", \"Steam Injection\", \"Steam Injection\", \"Steam Injection\", \"Steam Injection\", \"Steam Injection\", \"Steam Injection\", \"Steam Injection\", \"Steam Injection\", \"Steam Injection\", \"Steam Injection\", \"Steam Injection\", \"Steam Injection\", \"Steam Injection\", \"Steam Injection\", \"Steam Injection\", \"Steam Injection\", \"Steam Injection\", \"Steam Injection\", \"Steam Injection\", \"Steam Injection\", \"CO2 Injection\", \"CO2 Injection\", \"CO2 Injection\", \"CO2 Injection\", \"CO2 Injection\", \"CO2 Injection\", \"CO2 Injection\", \"CO2 Injection\", \"CO2 Injection\", \"CO2 Injection\", \"CO2 Injection\", \"CO2 Injection\", \"CO2 Injection\", \"CO2 Injection\", \"CO2 Injection\", \"CO2 Injection\", \"CO2 Injection\", \"CO2 Injection\", \"CO2 Injection\", \"CO2 Injection\", \"CO2 Injection\", \"CO2 Injection\", \"CO2 Injection\", \"CO2 Injection\", \"CO2 Injection\", \"CO2 Injection\", \"CO2 Injection\", \"CO2 Injection\", \"CO2 Injection\", \"CO2 Injection\", \"CO2 Injection\", \"CO2 Injection\", \"CO2 Injection\", \"CO2 Injection\", \"CO2 Injection\", \"CO2 Injection\", \"CO2 Injection\", \"CO2 Injection\", \"CO2 Injection\", \"CO2 Injection\", \"CO2 Injection\", \"CO2 Injection\", \"CO2 Injection\", \"CO2 Injection\", \"CO2 Injection\", \"CO2 Injection\", \"CO2 Injection\", \"CO2 Injection\", \"CO2 Injection\", \"HC injection\", \"HC injection\", \"HC injection\", \"HC injection\", \"HC injection\", \"HC injection\", \"HC injection\", \"HC injection\", \"HC injection\", \"HC injection\", \"HC injection\", \"HC injection\", \"HC injection\", \"HC injection\", \"HC injection\", \"HC injection\", \"HC injection\", \"HC injection\", \"HC injection\", \"HC injection\", \"HC injection\", \"HC injection\", \"HC injection\", \"HC injection\", \"HC injection\", \"Combustion\", \"Combustion\", \"Combustion\", \"Combustion\", \"Combustion\", \"Combustion\", \"Combustion\", \"Combustion\", \"Combustion\", \"Combustion\", \"Combustion\", \"Polymer\", \"Polymer\", \"Polymer\", \"Polymer\", \"Polymer\", \"Polymer\", \"Polymer\", \"Steam Injection\", \"Steam Injection\", \"Steam Injection\", \"Steam Injection\", \"Steam Injection\", \"Steam Injection\", \"Steam Injection\", \"Steam Injection\", \"Steam Injection\", \"Steam Injection\", \"Steam Injection\", \"CO2 Injection\", \"CO2 Injection\", \"CO2 Injection\", \"CO2 Injection\", \"CO2 Injection\", \"CO2 Injection\", \"HC injection\", \"HC injection\", \"Steam Injection\", \"Steam Injection\", \"CO2 Injection\"], \"x0\": \" \", \"xaxis\": \"x\", \"y\": [40.0, 205.0, 30.0, 20.0, 2.0, 2.0, 3.0, 50.0, 50.0, 3.0, 4000.0, 1.0, 100.0, 3048.0, 955.0, 2000.0, 10000.0, 10000.0, 10000.0, 95.0, 265.0, 1000.0, 10.0, 50.0, 2.0, 5.0, 6.0, 37.0, 4.0, 30.0, 300.0, 7.5, 300.0, 10.0, 10.0, 16.0, 2000.0, 1000.0, 2000.0, 2000.0, 2000.0, 3000.0, 3000.0, 4500.0, 3000.0, 300.0, 5.0, 5000.0, 2000.0, 2260.0, 3500.0, 3000.0, 2000.0, 1500.0, 5.0, 2700.0, 3000.0, 1300.0, 2250.0, 1510.0, 2000.0, 6700.0, 2000.0, 2800.0, 2000.0, 1500.0, 1300.0, 8000.0, 1000.0, 1000.0, 4000.0, 3500.0, 7500.0, 1500.0, 3000.0, 1500.0, 3000.0, 4000.0, 3000.0, 200.0, 20.0, 10000.0, 10000.0, 10000.0, 10000.0, 2000.0, 1600.0, 500.0, 19.0, 75.0, 32.0, 31.0, 4.0, 10.0, 20.0, 5.0, 44.0, 4.0, 5.0, 6.0, 3.0, 2.0, 5.0, 42.0, 5.0, 15.0, 4.0, 12.0, 70.0, 5.0, 2.0, 8.0, 4.0, 4.0, 5.0, 4.0, 4.0, 4.0, 2.0, 8.0, 8.0, 5.0, 2.0, 2.0, 5.0, 48.0, 100.0, 2.0, 6.0, 250.0, 107.0, 500.0, 600.0, 1800.0, 1000.0, 175.0, 500.0, 112.0, 400.0, 130.0, 50.0, 100.0, 200.0, 1300.0, 4000.0, 40.0, 200.0, 54.0, 300.0, 40.0, 300.0, 1000.0, 900.0, 2020.0, 1060.0, 540.0, 3100.0, 2400.0, 1970.0, 1375.0, 180.0, 320.0, 160.0, 650.0, 15.0, 10.0, 10.0, 10.0, 10.0, 10.0, 10.0, 10.0, 10.0, 6600.0, 25.0, 30.0, 75.0, 30.0, 20.0, 3000.0, 7000.0, 1500.0, 1.0, 800.0, 3500.0, 100.0, 500.0, 1500.0, 2000.0, 4000.0, 10000.0, 750.0, 10.0, 32.0, 50.0, 20.0, 112.0, 112.0, 150.0, 150.0, 7000.0, 7000.0, 54.0], \"y0\": \" \", \"yaxis\": \"y\"}],                        {\"boxmode\": \"group\", \"legend\": {\"tracegroupgap\": 0}, \"margin\": {\"t\": 60}, \"template\": {\"data\": {\"bar\": [{\"error_x\": {\"color\": \"#2a3f5f\"}, \"error_y\": {\"color\": \"#2a3f5f\"}, \"marker\": {\"line\": {\"color\": \"#E5ECF6\", \"width\": 0.5}}, \"type\": \"bar\"}], \"barpolar\": [{\"marker\": {\"line\": {\"color\": \"#E5ECF6\", \"width\": 0.5}}, \"type\": \"barpolar\"}], \"carpet\": [{\"aaxis\": {\"endlinecolor\": \"#2a3f5f\", \"gridcolor\": \"white\", \"linecolor\": \"white\", \"minorgridcolor\": \"white\", \"startlinecolor\": \"#2a3f5f\"}, \"baxis\": {\"endlinecolor\": \"#2a3f5f\", \"gridcolor\": \"white\", \"linecolor\": \"white\", \"minorgridcolor\": \"white\", \"startlinecolor\": \"#2a3f5f\"}, \"type\": \"carpet\"}], \"choropleth\": [{\"colorbar\": {\"outlinewidth\": 0, \"ticks\": \"\"}, \"type\": \"choropleth\"}], \"contour\": [{\"colorbar\": {\"outlinewidth\": 0, \"ticks\": \"\"}, \"colorscale\": [[0.0, \"#0d0887\"], [0.1111111111111111, \"#46039f\"], [0.2222222222222222, \"#7201a8\"], [0.3333333333333333, \"#9c179e\"], [0.4444444444444444, \"#bd3786\"], [0.5555555555555556, \"#d8576b\"], [0.6666666666666666, \"#ed7953\"], [0.7777777777777778, \"#fb9f3a\"], [0.8888888888888888, \"#fdca26\"], [1.0, \"#f0f921\"]], \"type\": \"contour\"}], \"contourcarpet\": [{\"colorbar\": {\"outlinewidth\": 0, \"ticks\": \"\"}, \"type\": \"contourcarpet\"}], \"heatmap\": [{\"colorbar\": {\"outlinewidth\": 0, \"ticks\": \"\"}, \"colorscale\": [[0.0, \"#0d0887\"], [0.1111111111111111, \"#46039f\"], [0.2222222222222222, \"#7201a8\"], [0.3333333333333333, \"#9c179e\"], [0.4444444444444444, \"#bd3786\"], [0.5555555555555556, \"#d8576b\"], [0.6666666666666666, \"#ed7953\"], [0.7777777777777778, \"#fb9f3a\"], [0.8888888888888888, \"#fdca26\"], [1.0, \"#f0f921\"]], \"type\": \"heatmap\"}], \"heatmapgl\": [{\"colorbar\": {\"outlinewidth\": 0, \"ticks\": \"\"}, \"colorscale\": [[0.0, \"#0d0887\"], [0.1111111111111111, \"#46039f\"], [0.2222222222222222, \"#7201a8\"], [0.3333333333333333, \"#9c179e\"], [0.4444444444444444, \"#bd3786\"], [0.5555555555555556, \"#d8576b\"], [0.6666666666666666, \"#ed7953\"], [0.7777777777777778, \"#fb9f3a\"], [0.8888888888888888, \"#fdca26\"], [1.0, \"#f0f921\"]], \"type\": \"heatmapgl\"}], \"histogram\": [{\"marker\": {\"colorbar\": {\"outlinewidth\": 0, \"ticks\": \"\"}}, \"type\": \"histogram\"}], \"histogram2d\": [{\"colorbar\": {\"outlinewidth\": 0, \"ticks\": \"\"}, \"colorscale\": [[0.0, \"#0d0887\"], [0.1111111111111111, \"#46039f\"], [0.2222222222222222, \"#7201a8\"], [0.3333333333333333, \"#9c179e\"], [0.4444444444444444, \"#bd3786\"], [0.5555555555555556, \"#d8576b\"], [0.6666666666666666, \"#ed7953\"], [0.7777777777777778, \"#fb9f3a\"], [0.8888888888888888, \"#fdca26\"], [1.0, \"#f0f921\"]], \"type\": \"histogram2d\"}], \"histogram2dcontour\": [{\"colorbar\": {\"outlinewidth\": 0, \"ticks\": \"\"}, \"colorscale\": [[0.0, \"#0d0887\"], [0.1111111111111111, \"#46039f\"], [0.2222222222222222, \"#7201a8\"], [0.3333333333333333, \"#9c179e\"], [0.4444444444444444, \"#bd3786\"], [0.5555555555555556, \"#d8576b\"], [0.6666666666666666, \"#ed7953\"], [0.7777777777777778, \"#fb9f3a\"], [0.8888888888888888, \"#fdca26\"], [1.0, \"#f0f921\"]], \"type\": \"histogram2dcontour\"}], \"mesh3d\": [{\"colorbar\": {\"outlinewidth\": 0, \"ticks\": \"\"}, \"type\": \"mesh3d\"}], \"parcoords\": [{\"line\": {\"colorbar\": {\"outlinewidth\": 0, \"ticks\": \"\"}}, \"type\": \"parcoords\"}], \"pie\": [{\"automargin\": true, \"type\": \"pie\"}], \"scatter\": [{\"marker\": {\"colorbar\": {\"outlinewidth\": 0, \"ticks\": \"\"}}, \"type\": \"scatter\"}], \"scatter3d\": [{\"line\": {\"colorbar\": {\"outlinewidth\": 0, \"ticks\": \"\"}}, \"marker\": {\"colorbar\": {\"outlinewidth\": 0, \"ticks\": \"\"}}, \"type\": \"scatter3d\"}], \"scattercarpet\": [{\"marker\": {\"colorbar\": {\"outlinewidth\": 0, \"ticks\": \"\"}}, \"type\": \"scattercarpet\"}], \"scattergeo\": [{\"marker\": {\"colorbar\": {\"outlinewidth\": 0, \"ticks\": \"\"}}, \"type\": \"scattergeo\"}], \"scattergl\": [{\"marker\": {\"colorbar\": {\"outlinewidth\": 0, \"ticks\": \"\"}}, \"type\": \"scattergl\"}], \"scattermapbox\": [{\"marker\": {\"colorbar\": {\"outlinewidth\": 0, \"ticks\": \"\"}}, \"type\": \"scattermapbox\"}], \"scatterpolar\": [{\"marker\": {\"colorbar\": {\"outlinewidth\": 0, \"ticks\": \"\"}}, \"type\": \"scatterpolar\"}], \"scatterpolargl\": [{\"marker\": {\"colorbar\": {\"outlinewidth\": 0, \"ticks\": \"\"}}, \"type\": \"scatterpolargl\"}], \"scatterternary\": [{\"marker\": {\"colorbar\": {\"outlinewidth\": 0, \"ticks\": \"\"}}, \"type\": \"scatterternary\"}], \"surface\": [{\"colorbar\": {\"outlinewidth\": 0, \"ticks\": \"\"}, \"colorscale\": [[0.0, \"#0d0887\"], [0.1111111111111111, \"#46039f\"], [0.2222222222222222, \"#7201a8\"], [0.3333333333333333, \"#9c179e\"], [0.4444444444444444, \"#bd3786\"], [0.5555555555555556, \"#d8576b\"], [0.6666666666666666, \"#ed7953\"], [0.7777777777777778, \"#fb9f3a\"], [0.8888888888888888, \"#fdca26\"], [1.0, \"#f0f921\"]], \"type\": \"surface\"}], \"table\": [{\"cells\": {\"fill\": {\"color\": \"#EBF0F8\"}, \"line\": {\"color\": \"white\"}}, \"header\": {\"fill\": {\"color\": \"#C8D4E3\"}, \"line\": {\"color\": \"white\"}}, \"type\": \"table\"}]}, \"layout\": {\"annotationdefaults\": {\"arrowcolor\": \"#2a3f5f\", \"arrowhead\": 0, \"arrowwidth\": 1}, \"coloraxis\": {\"colorbar\": {\"outlinewidth\": 0, \"ticks\": \"\"}}, \"colorscale\": {\"diverging\": [[0, \"#8e0152\"], [0.1, \"#c51b7d\"], [0.2, \"#de77ae\"], [0.3, \"#f1b6da\"], [0.4, \"#fde0ef\"], [0.5, \"#f7f7f7\"], [0.6, \"#e6f5d0\"], [0.7, \"#b8e186\"], [0.8, \"#7fbc41\"], [0.9, \"#4d9221\"], [1, \"#276419\"]], \"sequential\": [[0.0, \"#0d0887\"], [0.1111111111111111, \"#46039f\"], [0.2222222222222222, \"#7201a8\"], [0.3333333333333333, \"#9c179e\"], [0.4444444444444444, \"#bd3786\"], [0.5555555555555556, \"#d8576b\"], [0.6666666666666666, \"#ed7953\"], [0.7777777777777778, \"#fb9f3a\"], [0.8888888888888888, \"#fdca26\"], [1.0, \"#f0f921\"]], \"sequentialminus\": [[0.0, \"#0d0887\"], [0.1111111111111111, \"#46039f\"], [0.2222222222222222, \"#7201a8\"], [0.3333333333333333, \"#9c179e\"], [0.4444444444444444, \"#bd3786\"], [0.5555555555555556, \"#d8576b\"], [0.6666666666666666, \"#ed7953\"], [0.7777777777777778, \"#fb9f3a\"], [0.8888888888888888, \"#fdca26\"], [1.0, \"#f0f921\"]]}, \"colorway\": [\"#636efa\", \"#EF553B\", \"#00cc96\", \"#ab63fa\", \"#FFA15A\", \"#19d3f3\", \"#FF6692\", \"#B6E880\", \"#FF97FF\", \"#FECB52\"], \"font\": {\"color\": \"#2a3f5f\"}, \"geo\": {\"bgcolor\": \"white\", \"lakecolor\": \"white\", \"landcolor\": \"#E5ECF6\", \"showlakes\": true, \"showland\": true, \"subunitcolor\": \"white\"}, \"hoverlabel\": {\"align\": \"left\"}, \"hovermode\": \"closest\", \"mapbox\": {\"style\": \"light\"}, \"paper_bgcolor\": \"white\", \"plot_bgcolor\": \"#E5ECF6\", \"polar\": {\"angularaxis\": {\"gridcolor\": \"white\", \"linecolor\": \"white\", \"ticks\": \"\"}, \"bgcolor\": \"#E5ECF6\", \"radialaxis\": {\"gridcolor\": \"white\", \"linecolor\": \"white\", \"ticks\": \"\"}}, \"scene\": {\"xaxis\": {\"backgroundcolor\": \"#E5ECF6\", \"gridcolor\": \"white\", \"gridwidth\": 2, \"linecolor\": \"white\", \"showbackground\": true, \"ticks\": \"\", \"zerolinecolor\": \"white\"}, \"yaxis\": {\"backgroundcolor\": \"#E5ECF6\", \"gridcolor\": \"white\", \"gridwidth\": 2, \"linecolor\": \"white\", \"showbackground\": true, \"ticks\": \"\", \"zerolinecolor\": \"white\"}, \"zaxis\": {\"backgroundcolor\": \"#E5ECF6\", \"gridcolor\": \"white\", \"gridwidth\": 2, \"linecolor\": \"white\", \"showbackground\": true, \"ticks\": \"\", \"zerolinecolor\": \"white\"}}, \"shapedefaults\": {\"line\": {\"color\": \"#2a3f5f\"}}, \"ternary\": {\"aaxis\": {\"gridcolor\": \"white\", \"linecolor\": \"white\", \"ticks\": \"\"}, \"baxis\": {\"gridcolor\": \"white\", \"linecolor\": \"white\", \"ticks\": \"\"}, \"bgcolor\": \"#E5ECF6\", \"caxis\": {\"gridcolor\": \"white\", \"linecolor\": \"white\", \"ticks\": \"\"}}, \"title\": {\"x\": 0.05}, \"xaxis\": {\"automargin\": true, \"gridcolor\": \"white\", \"linecolor\": \"white\", \"ticks\": \"\", \"title\": {\"standoff\": 15}, \"zerolinecolor\": \"white\", \"zerolinewidth\": 2}, \"yaxis\": {\"automargin\": true, \"gridcolor\": \"white\", \"linecolor\": \"white\", \"ticks\": \"\", \"title\": {\"standoff\": 15}, \"zerolinecolor\": \"white\", \"zerolinewidth\": 2}}}, \"xaxis\": {\"anchor\": \"y\", \"domain\": [0.0, 1.0], \"title\": {\"text\": \"EOR_Method\"}}, \"yaxis\": {\"anchor\": \"x\", \"domain\": [0.0, 1.0], \"title\": {\"text\": \"Permiability\"}}},                        {\"responsive\": true}                    ).then(function(){\n",
       "                            \n",
       "var gd = document.getElementById('6cb64c8e-f1d5-4e06-b571-1c5ea7bca537');\n",
       "var x = new MutationObserver(function (mutations, observer) {{\n",
       "        var display = window.getComputedStyle(gd).display;\n",
       "        if (!display || display === 'none') {{\n",
       "            console.log([gd, 'removed!']);\n",
       "            Plotly.purge(gd);\n",
       "            observer.disconnect();\n",
       "        }}\n",
       "}});\n",
       "\n",
       "// Listen for the removal of the full notebook cells\n",
       "var notebookContainer = gd.closest('#notebook-container');\n",
       "if (notebookContainer) {{\n",
       "    x.observe(notebookContainer, {childList: true});\n",
       "}}\n",
       "\n",
       "// Listen for the clearing of the current output cell\n",
       "var outputEl = gd.closest('.output');\n",
       "if (outputEl) {{\n",
       "    x.observe(outputEl, {childList: true});\n",
       "}}\n",
       "\n",
       "                        })                };                });            </script>        </div>"
      ]
     },
     "metadata": {},
     "output_type": "display_data"
    }
   ],
   "source": [
    "px.box(data, x=\"EOR_Method\", y=\"Permiability\")"
   ]
  },
  {
   "cell_type": "code",
   "execution_count": 74,
   "metadata": {},
   "outputs": [
    {
     "data": {
      "application/vnd.plotly.v1+json": {
       "config": {
        "plotlyServerURL": "https://plot.ly"
       },
       "data": [
        {
         "alignmentgroup": "True",
         "hovertemplate": "EOR_Method=%{x}<br>Depth=%{y}<extra></extra>",
         "legendgroup": "",
         "marker": {
          "color": "#636efa"
         },
         "name": "",
         "notched": false,
         "offsetgroup": "",
         "orientation": "v",
         "showlegend": false,
         "type": "box",
         "x": [
          "Polymer",
          "Steam Injection",
          "CO2 Injection",
          "CO2 Injection",
          "CO2 Injection",
          "CO2 Injection",
          "CO2 Injection",
          "HC injection",
          "HC injection",
          "Steam Injection",
          "Steam Injection",
          "Steam Injection",
          "Steam Injection",
          "Steam Injection",
          "Steam Injection",
          "Steam Injection",
          "Steam Injection",
          "Steam Injection",
          "Steam Injection",
          "Steam Injection",
          "Steam Injection",
          "CO2 Injection",
          "CO2 Injection",
          "CO2 Injection",
          "CO2 Injection",
          "CO2 Injection",
          "CO2 Injection",
          "CO2 Injection",
          "CO2 Injection",
          "CO2 Injection",
          "CO2 Injection",
          "CO2 Injection",
          "HC injection",
          "Combustion",
          "Combustion",
          "Polymer",
          "Steam Injection",
          "Steam Injection",
          "Steam Injection",
          "Steam Injection",
          "Steam Injection",
          "Steam Injection",
          "Steam Injection",
          "Steam Injection",
          "Steam Injection",
          "Steam Injection",
          "Steam Injection",
          "Steam Injection",
          "Steam Injection",
          "Steam Injection",
          "Steam Injection",
          "Steam Injection",
          "Steam Injection",
          "Steam Injection",
          "Steam Injection",
          "Steam Injection",
          "Steam Injection",
          "Steam Injection",
          "Steam Injection",
          "Steam Injection",
          "Steam Injection",
          "Steam Injection",
          "Steam Injection",
          "Steam Injection",
          "Steam Injection",
          "Steam Injection",
          "Steam Injection",
          "Steam Injection",
          "Steam Injection",
          "Steam Injection",
          "Steam Injection",
          "Steam Injection",
          "Steam Injection",
          "Steam Injection",
          "Steam Injection",
          "Steam Injection",
          "Steam Injection",
          "Steam Injection",
          "Steam Injection",
          "Steam Injection",
          "Steam Injection",
          "Steam Injection",
          "Steam Injection",
          "Steam Injection",
          "Steam Injection",
          "Steam Injection",
          "Steam Injection",
          "Steam Injection",
          "Steam Injection",
          "CO2 Injection",
          "CO2 Injection",
          "CO2 Injection",
          "CO2 Injection",
          "CO2 Injection",
          "CO2 Injection",
          "CO2 Injection",
          "CO2 Injection",
          "CO2 Injection",
          "CO2 Injection",
          "CO2 Injection",
          "CO2 Injection",
          "CO2 Injection",
          "CO2 Injection",
          "CO2 Injection",
          "CO2 Injection",
          "CO2 Injection",
          "CO2 Injection",
          "CO2 Injection",
          "CO2 Injection",
          "CO2 Injection",
          "CO2 Injection",
          "CO2 Injection",
          "CO2 Injection",
          "CO2 Injection",
          "CO2 Injection",
          "CO2 Injection",
          "CO2 Injection",
          "CO2 Injection",
          "CO2 Injection",
          "CO2 Injection",
          "CO2 Injection",
          "CO2 Injection",
          "CO2 Injection",
          "CO2 Injection",
          "CO2 Injection",
          "CO2 Injection",
          "CO2 Injection",
          "CO2 Injection",
          "CO2 Injection",
          "CO2 Injection",
          "CO2 Injection",
          "CO2 Injection",
          "CO2 Injection",
          "CO2 Injection",
          "CO2 Injection",
          "CO2 Injection",
          "CO2 Injection",
          "CO2 Injection",
          "HC injection",
          "HC injection",
          "HC injection",
          "HC injection",
          "HC injection",
          "HC injection",
          "HC injection",
          "HC injection",
          "HC injection",
          "HC injection",
          "HC injection",
          "HC injection",
          "HC injection",
          "HC injection",
          "HC injection",
          "HC injection",
          "HC injection",
          "HC injection",
          "HC injection",
          "HC injection",
          "HC injection",
          "HC injection",
          "HC injection",
          "HC injection",
          "HC injection",
          "Combustion",
          "Combustion",
          "Combustion",
          "Combustion",
          "Combustion",
          "Combustion",
          "Combustion",
          "Combustion",
          "Combustion",
          "Combustion",
          "Combustion",
          "Polymer",
          "Polymer",
          "Polymer",
          "Polymer",
          "Polymer",
          "Polymer",
          "Polymer",
          "Steam Injection",
          "Steam Injection",
          "Steam Injection",
          "Steam Injection",
          "Steam Injection",
          "Steam Injection",
          "Steam Injection",
          "Steam Injection",
          "Steam Injection",
          "Steam Injection",
          "Steam Injection",
          "CO2 Injection",
          "CO2 Injection",
          "CO2 Injection",
          "CO2 Injection",
          "CO2 Injection",
          "CO2 Injection",
          "HC injection",
          "HC injection",
          "Steam Injection",
          "Steam Injection",
          "CO2 Injection"
         ],
         "x0": " ",
         "xaxis": "x",
         "y": [
          4800,
          1200,
          2680,
          4500,
          5400,
          8200,
          4900,
          6400,
          6330,
          1500,
          1200,
          800,
          800,
          175,
          300,
          1395,
          2700,
          2600,
          2600,
          1400,
          2100,
          5700,
          4655,
          9400,
          4950,
          5700,
          5400,
          2600,
          4500,
          1150,
          4850,
          4600,
          5500,
          8800,
          8300,
          9000,
          1300,
          800,
          1000,
          200,
          600,
          1300,
          1300,
          1300,
          1100,
          1100,
          1000,
          1000,
          2300,
          2100,
          800,
          1300,
          1000,
          1800,
          1500,
          1200,
          1500,
          1500,
          1500,
          1640,
          1000,
          1900,
          1250,
          1000,
          1800,
          1200,
          1300,
          1500,
          2000,
          2300,
          1480,
          1600,
          1640,
          1509,
          1800,
          1800,
          2300,
          1150,
          1480,
          2460,
          1500,
          2700,
          2700,
          2700,
          2700,
          4000,
          350,
          1100,
          6700,
          4950,
          4100,
          5000,
          5400,
          7000,
          6000,
          6400,
          9400,
          5800,
          4800,
          6800,
          5400,
          4900,
          5300,
          4200,
          7500,
          4200,
          5200,
          6300,
          6600,
          4950,
          4900,
          4950,
          5000,
          5040,
          4950,
          5000,
          4900,
          4900,
          7850,
          5250,
          5200,
          5100,
          5100,
          4850,
          5600,
          6500,
          9800,
          5100,
          5000,
          5050,
          8500,
          5000,
          5050,
          5000,
          5000,
          1400,
          4900,
          1970,
          8800,
          8800,
          6700,
          6600,
          8800,
          10000,
          8700,
          7000,
          9150,
          8300,
          5500,
          6200,
          6000,
          6000,
          9541,
          9469,
          9415,
          9333,
          9332,
          9531,
          9421,
          6500,
          4160,
          4330,
          4040,
          400,
          9500,
          9500,
          9200,
          9000,
          9000,
          8450,
          8450,
          8450,
          8800,
          2650,
          1750,
          2200,
          1900,
          1600,
          2900,
          1500,
          1200,
          1700,
          1100,
          1400,
          500,
          1000,
          250,
          450,
          1350,
          1150,
          2600,
          1100,
          5000,
          4200,
          8200,
          5300,
          5900,
          4000,
          4500,
          4900,
          1600,
          4226.6,
          8300
         ],
         "y0": " ",
         "yaxis": "y"
        }
       ],
       "layout": {
        "boxmode": "group",
        "legend": {
         "tracegroupgap": 0
        },
        "margin": {
         "t": 60
        },
        "template": {
         "data": {
          "bar": [
           {
            "error_x": {
             "color": "#2a3f5f"
            },
            "error_y": {
             "color": "#2a3f5f"
            },
            "marker": {
             "line": {
              "color": "#E5ECF6",
              "width": 0.5
             }
            },
            "type": "bar"
           }
          ],
          "barpolar": [
           {
            "marker": {
             "line": {
              "color": "#E5ECF6",
              "width": 0.5
             }
            },
            "type": "barpolar"
           }
          ],
          "carpet": [
           {
            "aaxis": {
             "endlinecolor": "#2a3f5f",
             "gridcolor": "white",
             "linecolor": "white",
             "minorgridcolor": "white",
             "startlinecolor": "#2a3f5f"
            },
            "baxis": {
             "endlinecolor": "#2a3f5f",
             "gridcolor": "white",
             "linecolor": "white",
             "minorgridcolor": "white",
             "startlinecolor": "#2a3f5f"
            },
            "type": "carpet"
           }
          ],
          "choropleth": [
           {
            "colorbar": {
             "outlinewidth": 0,
             "ticks": ""
            },
            "type": "choropleth"
           }
          ],
          "contour": [
           {
            "colorbar": {
             "outlinewidth": 0,
             "ticks": ""
            },
            "colorscale": [
             [
              0,
              "#0d0887"
             ],
             [
              0.1111111111111111,
              "#46039f"
             ],
             [
              0.2222222222222222,
              "#7201a8"
             ],
             [
              0.3333333333333333,
              "#9c179e"
             ],
             [
              0.4444444444444444,
              "#bd3786"
             ],
             [
              0.5555555555555556,
              "#d8576b"
             ],
             [
              0.6666666666666666,
              "#ed7953"
             ],
             [
              0.7777777777777778,
              "#fb9f3a"
             ],
             [
              0.8888888888888888,
              "#fdca26"
             ],
             [
              1,
              "#f0f921"
             ]
            ],
            "type": "contour"
           }
          ],
          "contourcarpet": [
           {
            "colorbar": {
             "outlinewidth": 0,
             "ticks": ""
            },
            "type": "contourcarpet"
           }
          ],
          "heatmap": [
           {
            "colorbar": {
             "outlinewidth": 0,
             "ticks": ""
            },
            "colorscale": [
             [
              0,
              "#0d0887"
             ],
             [
              0.1111111111111111,
              "#46039f"
             ],
             [
              0.2222222222222222,
              "#7201a8"
             ],
             [
              0.3333333333333333,
              "#9c179e"
             ],
             [
              0.4444444444444444,
              "#bd3786"
             ],
             [
              0.5555555555555556,
              "#d8576b"
             ],
             [
              0.6666666666666666,
              "#ed7953"
             ],
             [
              0.7777777777777778,
              "#fb9f3a"
             ],
             [
              0.8888888888888888,
              "#fdca26"
             ],
             [
              1,
              "#f0f921"
             ]
            ],
            "type": "heatmap"
           }
          ],
          "heatmapgl": [
           {
            "colorbar": {
             "outlinewidth": 0,
             "ticks": ""
            },
            "colorscale": [
             [
              0,
              "#0d0887"
             ],
             [
              0.1111111111111111,
              "#46039f"
             ],
             [
              0.2222222222222222,
              "#7201a8"
             ],
             [
              0.3333333333333333,
              "#9c179e"
             ],
             [
              0.4444444444444444,
              "#bd3786"
             ],
             [
              0.5555555555555556,
              "#d8576b"
             ],
             [
              0.6666666666666666,
              "#ed7953"
             ],
             [
              0.7777777777777778,
              "#fb9f3a"
             ],
             [
              0.8888888888888888,
              "#fdca26"
             ],
             [
              1,
              "#f0f921"
             ]
            ],
            "type": "heatmapgl"
           }
          ],
          "histogram": [
           {
            "marker": {
             "colorbar": {
              "outlinewidth": 0,
              "ticks": ""
             }
            },
            "type": "histogram"
           }
          ],
          "histogram2d": [
           {
            "colorbar": {
             "outlinewidth": 0,
             "ticks": ""
            },
            "colorscale": [
             [
              0,
              "#0d0887"
             ],
             [
              0.1111111111111111,
              "#46039f"
             ],
             [
              0.2222222222222222,
              "#7201a8"
             ],
             [
              0.3333333333333333,
              "#9c179e"
             ],
             [
              0.4444444444444444,
              "#bd3786"
             ],
             [
              0.5555555555555556,
              "#d8576b"
             ],
             [
              0.6666666666666666,
              "#ed7953"
             ],
             [
              0.7777777777777778,
              "#fb9f3a"
             ],
             [
              0.8888888888888888,
              "#fdca26"
             ],
             [
              1,
              "#f0f921"
             ]
            ],
            "type": "histogram2d"
           }
          ],
          "histogram2dcontour": [
           {
            "colorbar": {
             "outlinewidth": 0,
             "ticks": ""
            },
            "colorscale": [
             [
              0,
              "#0d0887"
             ],
             [
              0.1111111111111111,
              "#46039f"
             ],
             [
              0.2222222222222222,
              "#7201a8"
             ],
             [
              0.3333333333333333,
              "#9c179e"
             ],
             [
              0.4444444444444444,
              "#bd3786"
             ],
             [
              0.5555555555555556,
              "#d8576b"
             ],
             [
              0.6666666666666666,
              "#ed7953"
             ],
             [
              0.7777777777777778,
              "#fb9f3a"
             ],
             [
              0.8888888888888888,
              "#fdca26"
             ],
             [
              1,
              "#f0f921"
             ]
            ],
            "type": "histogram2dcontour"
           }
          ],
          "mesh3d": [
           {
            "colorbar": {
             "outlinewidth": 0,
             "ticks": ""
            },
            "type": "mesh3d"
           }
          ],
          "parcoords": [
           {
            "line": {
             "colorbar": {
              "outlinewidth": 0,
              "ticks": ""
             }
            },
            "type": "parcoords"
           }
          ],
          "pie": [
           {
            "automargin": true,
            "type": "pie"
           }
          ],
          "scatter": [
           {
            "marker": {
             "colorbar": {
              "outlinewidth": 0,
              "ticks": ""
             }
            },
            "type": "scatter"
           }
          ],
          "scatter3d": [
           {
            "line": {
             "colorbar": {
              "outlinewidth": 0,
              "ticks": ""
             }
            },
            "marker": {
             "colorbar": {
              "outlinewidth": 0,
              "ticks": ""
             }
            },
            "type": "scatter3d"
           }
          ],
          "scattercarpet": [
           {
            "marker": {
             "colorbar": {
              "outlinewidth": 0,
              "ticks": ""
             }
            },
            "type": "scattercarpet"
           }
          ],
          "scattergeo": [
           {
            "marker": {
             "colorbar": {
              "outlinewidth": 0,
              "ticks": ""
             }
            },
            "type": "scattergeo"
           }
          ],
          "scattergl": [
           {
            "marker": {
             "colorbar": {
              "outlinewidth": 0,
              "ticks": ""
             }
            },
            "type": "scattergl"
           }
          ],
          "scattermapbox": [
           {
            "marker": {
             "colorbar": {
              "outlinewidth": 0,
              "ticks": ""
             }
            },
            "type": "scattermapbox"
           }
          ],
          "scatterpolar": [
           {
            "marker": {
             "colorbar": {
              "outlinewidth": 0,
              "ticks": ""
             }
            },
            "type": "scatterpolar"
           }
          ],
          "scatterpolargl": [
           {
            "marker": {
             "colorbar": {
              "outlinewidth": 0,
              "ticks": ""
             }
            },
            "type": "scatterpolargl"
           }
          ],
          "scatterternary": [
           {
            "marker": {
             "colorbar": {
              "outlinewidth": 0,
              "ticks": ""
             }
            },
            "type": "scatterternary"
           }
          ],
          "surface": [
           {
            "colorbar": {
             "outlinewidth": 0,
             "ticks": ""
            },
            "colorscale": [
             [
              0,
              "#0d0887"
             ],
             [
              0.1111111111111111,
              "#46039f"
             ],
             [
              0.2222222222222222,
              "#7201a8"
             ],
             [
              0.3333333333333333,
              "#9c179e"
             ],
             [
              0.4444444444444444,
              "#bd3786"
             ],
             [
              0.5555555555555556,
              "#d8576b"
             ],
             [
              0.6666666666666666,
              "#ed7953"
             ],
             [
              0.7777777777777778,
              "#fb9f3a"
             ],
             [
              0.8888888888888888,
              "#fdca26"
             ],
             [
              1,
              "#f0f921"
             ]
            ],
            "type": "surface"
           }
          ],
          "table": [
           {
            "cells": {
             "fill": {
              "color": "#EBF0F8"
             },
             "line": {
              "color": "white"
             }
            },
            "header": {
             "fill": {
              "color": "#C8D4E3"
             },
             "line": {
              "color": "white"
             }
            },
            "type": "table"
           }
          ]
         },
         "layout": {
          "annotationdefaults": {
           "arrowcolor": "#2a3f5f",
           "arrowhead": 0,
           "arrowwidth": 1
          },
          "coloraxis": {
           "colorbar": {
            "outlinewidth": 0,
            "ticks": ""
           }
          },
          "colorscale": {
           "diverging": [
            [
             0,
             "#8e0152"
            ],
            [
             0.1,
             "#c51b7d"
            ],
            [
             0.2,
             "#de77ae"
            ],
            [
             0.3,
             "#f1b6da"
            ],
            [
             0.4,
             "#fde0ef"
            ],
            [
             0.5,
             "#f7f7f7"
            ],
            [
             0.6,
             "#e6f5d0"
            ],
            [
             0.7,
             "#b8e186"
            ],
            [
             0.8,
             "#7fbc41"
            ],
            [
             0.9,
             "#4d9221"
            ],
            [
             1,
             "#276419"
            ]
           ],
           "sequential": [
            [
             0,
             "#0d0887"
            ],
            [
             0.1111111111111111,
             "#46039f"
            ],
            [
             0.2222222222222222,
             "#7201a8"
            ],
            [
             0.3333333333333333,
             "#9c179e"
            ],
            [
             0.4444444444444444,
             "#bd3786"
            ],
            [
             0.5555555555555556,
             "#d8576b"
            ],
            [
             0.6666666666666666,
             "#ed7953"
            ],
            [
             0.7777777777777778,
             "#fb9f3a"
            ],
            [
             0.8888888888888888,
             "#fdca26"
            ],
            [
             1,
             "#f0f921"
            ]
           ],
           "sequentialminus": [
            [
             0,
             "#0d0887"
            ],
            [
             0.1111111111111111,
             "#46039f"
            ],
            [
             0.2222222222222222,
             "#7201a8"
            ],
            [
             0.3333333333333333,
             "#9c179e"
            ],
            [
             0.4444444444444444,
             "#bd3786"
            ],
            [
             0.5555555555555556,
             "#d8576b"
            ],
            [
             0.6666666666666666,
             "#ed7953"
            ],
            [
             0.7777777777777778,
             "#fb9f3a"
            ],
            [
             0.8888888888888888,
             "#fdca26"
            ],
            [
             1,
             "#f0f921"
            ]
           ]
          },
          "colorway": [
           "#636efa",
           "#EF553B",
           "#00cc96",
           "#ab63fa",
           "#FFA15A",
           "#19d3f3",
           "#FF6692",
           "#B6E880",
           "#FF97FF",
           "#FECB52"
          ],
          "font": {
           "color": "#2a3f5f"
          },
          "geo": {
           "bgcolor": "white",
           "lakecolor": "white",
           "landcolor": "#E5ECF6",
           "showlakes": true,
           "showland": true,
           "subunitcolor": "white"
          },
          "hoverlabel": {
           "align": "left"
          },
          "hovermode": "closest",
          "mapbox": {
           "style": "light"
          },
          "paper_bgcolor": "white",
          "plot_bgcolor": "#E5ECF6",
          "polar": {
           "angularaxis": {
            "gridcolor": "white",
            "linecolor": "white",
            "ticks": ""
           },
           "bgcolor": "#E5ECF6",
           "radialaxis": {
            "gridcolor": "white",
            "linecolor": "white",
            "ticks": ""
           }
          },
          "scene": {
           "xaxis": {
            "backgroundcolor": "#E5ECF6",
            "gridcolor": "white",
            "gridwidth": 2,
            "linecolor": "white",
            "showbackground": true,
            "ticks": "",
            "zerolinecolor": "white"
           },
           "yaxis": {
            "backgroundcolor": "#E5ECF6",
            "gridcolor": "white",
            "gridwidth": 2,
            "linecolor": "white",
            "showbackground": true,
            "ticks": "",
            "zerolinecolor": "white"
           },
           "zaxis": {
            "backgroundcolor": "#E5ECF6",
            "gridcolor": "white",
            "gridwidth": 2,
            "linecolor": "white",
            "showbackground": true,
            "ticks": "",
            "zerolinecolor": "white"
           }
          },
          "shapedefaults": {
           "line": {
            "color": "#2a3f5f"
           }
          },
          "ternary": {
           "aaxis": {
            "gridcolor": "white",
            "linecolor": "white",
            "ticks": ""
           },
           "baxis": {
            "gridcolor": "white",
            "linecolor": "white",
            "ticks": ""
           },
           "bgcolor": "#E5ECF6",
           "caxis": {
            "gridcolor": "white",
            "linecolor": "white",
            "ticks": ""
           }
          },
          "title": {
           "x": 0.05
          },
          "xaxis": {
           "automargin": true,
           "gridcolor": "white",
           "linecolor": "white",
           "ticks": "",
           "title": {
            "standoff": 15
           },
           "zerolinecolor": "white",
           "zerolinewidth": 2
          },
          "yaxis": {
           "automargin": true,
           "gridcolor": "white",
           "linecolor": "white",
           "ticks": "",
           "title": {
            "standoff": 15
           },
           "zerolinecolor": "white",
           "zerolinewidth": 2
          }
         }
        },
        "xaxis": {
         "anchor": "y",
         "domain": [
          0,
          1
         ],
         "title": {
          "text": "EOR_Method"
         }
        },
        "yaxis": {
         "anchor": "x",
         "domain": [
          0,
          1
         ],
         "title": {
          "text": "Depth"
         }
        }
       }
      },
      "text/html": [
       "<div>                            <div id=\"5bffea07-3ecf-494b-8ffa-58f74e2431a2\" class=\"plotly-graph-div\" style=\"height:525px; width:100%;\"></div>            <script type=\"text/javascript\">                require([\"plotly\"], function(Plotly) {                    window.PLOTLYENV=window.PLOTLYENV || {};                                    if (document.getElementById(\"5bffea07-3ecf-494b-8ffa-58f74e2431a2\")) {                    Plotly.newPlot(                        \"5bffea07-3ecf-494b-8ffa-58f74e2431a2\",                        [{\"alignmentgroup\": \"True\", \"hovertemplate\": \"EOR_Method=%{x}<br>Depth=%{y}<extra></extra>\", \"legendgroup\": \"\", \"marker\": {\"color\": \"#636efa\"}, \"name\": \"\", \"notched\": false, \"offsetgroup\": \"\", \"orientation\": \"v\", \"showlegend\": false, \"type\": \"box\", \"x\": [\"Polymer\", \"Steam Injection\", \"CO2 Injection\", \"CO2 Injection\", \"CO2 Injection\", \"CO2 Injection\", \"CO2 Injection\", \"HC injection\", \"HC injection\", \"Steam Injection\", \"Steam Injection\", \"Steam Injection\", \"Steam Injection\", \"Steam Injection\", \"Steam Injection\", \"Steam Injection\", \"Steam Injection\", \"Steam Injection\", \"Steam Injection\", \"Steam Injection\", \"Steam Injection\", \"CO2 Injection\", \"CO2 Injection\", \"CO2 Injection\", \"CO2 Injection\", \"CO2 Injection\", \"CO2 Injection\", \"CO2 Injection\", \"CO2 Injection\", \"CO2 Injection\", \"CO2 Injection\", \"CO2 Injection\", \"HC injection\", \"Combustion\", \"Combustion\", \"Polymer\", \"Steam Injection\", \"Steam Injection\", \"Steam Injection\", \"Steam Injection\", \"Steam Injection\", \"Steam Injection\", \"Steam Injection\", \"Steam Injection\", \"Steam Injection\", \"Steam Injection\", \"Steam Injection\", \"Steam Injection\", \"Steam Injection\", \"Steam Injection\", \"Steam Injection\", \"Steam Injection\", \"Steam Injection\", \"Steam Injection\", \"Steam Injection\", \"Steam Injection\", \"Steam Injection\", \"Steam Injection\", \"Steam Injection\", \"Steam Injection\", \"Steam Injection\", \"Steam Injection\", \"Steam Injection\", \"Steam Injection\", \"Steam Injection\", \"Steam Injection\", \"Steam Injection\", \"Steam Injection\", \"Steam Injection\", \"Steam Injection\", \"Steam Injection\", \"Steam Injection\", \"Steam Injection\", \"Steam Injection\", \"Steam Injection\", \"Steam Injection\", \"Steam Injection\", \"Steam Injection\", \"Steam Injection\", \"Steam Injection\", \"Steam Injection\", \"Steam Injection\", \"Steam Injection\", \"Steam Injection\", \"Steam Injection\", \"Steam Injection\", \"Steam Injection\", \"Steam Injection\", \"Steam Injection\", \"CO2 Injection\", \"CO2 Injection\", \"CO2 Injection\", \"CO2 Injection\", \"CO2 Injection\", \"CO2 Injection\", \"CO2 Injection\", \"CO2 Injection\", \"CO2 Injection\", \"CO2 Injection\", \"CO2 Injection\", \"CO2 Injection\", \"CO2 Injection\", \"CO2 Injection\", \"CO2 Injection\", \"CO2 Injection\", \"CO2 Injection\", \"CO2 Injection\", \"CO2 Injection\", \"CO2 Injection\", \"CO2 Injection\", \"CO2 Injection\", \"CO2 Injection\", \"CO2 Injection\", \"CO2 Injection\", \"CO2 Injection\", \"CO2 Injection\", \"CO2 Injection\", \"CO2 Injection\", \"CO2 Injection\", \"CO2 Injection\", \"CO2 Injection\", \"CO2 Injection\", \"CO2 Injection\", \"CO2 Injection\", \"CO2 Injection\", \"CO2 Injection\", \"CO2 Injection\", \"CO2 Injection\", \"CO2 Injection\", \"CO2 Injection\", \"CO2 Injection\", \"CO2 Injection\", \"CO2 Injection\", \"CO2 Injection\", \"CO2 Injection\", \"CO2 Injection\", \"CO2 Injection\", \"CO2 Injection\", \"HC injection\", \"HC injection\", \"HC injection\", \"HC injection\", \"HC injection\", \"HC injection\", \"HC injection\", \"HC injection\", \"HC injection\", \"HC injection\", \"HC injection\", \"HC injection\", \"HC injection\", \"HC injection\", \"HC injection\", \"HC injection\", \"HC injection\", \"HC injection\", \"HC injection\", \"HC injection\", \"HC injection\", \"HC injection\", \"HC injection\", \"HC injection\", \"HC injection\", \"Combustion\", \"Combustion\", \"Combustion\", \"Combustion\", \"Combustion\", \"Combustion\", \"Combustion\", \"Combustion\", \"Combustion\", \"Combustion\", \"Combustion\", \"Polymer\", \"Polymer\", \"Polymer\", \"Polymer\", \"Polymer\", \"Polymer\", \"Polymer\", \"Steam Injection\", \"Steam Injection\", \"Steam Injection\", \"Steam Injection\", \"Steam Injection\", \"Steam Injection\", \"Steam Injection\", \"Steam Injection\", \"Steam Injection\", \"Steam Injection\", \"Steam Injection\", \"CO2 Injection\", \"CO2 Injection\", \"CO2 Injection\", \"CO2 Injection\", \"CO2 Injection\", \"CO2 Injection\", \"HC injection\", \"HC injection\", \"Steam Injection\", \"Steam Injection\", \"CO2 Injection\"], \"x0\": \" \", \"xaxis\": \"x\", \"y\": [4800.0, 1200.0, 2680.0, 4500.0, 5400.0, 8200.0, 4900.0, 6400.0, 6330.0, 1500.0, 1200.0, 800.0, 800.0, 175.0, 300.0, 1395.0, 2700.0, 2600.0, 2600.0, 1400.0, 2100.0, 5700.0, 4655.0, 9400.0, 4950.0, 5700.0, 5400.0, 2600.0, 4500.0, 1150.0, 4850.0, 4600.0, 5500.0, 8800.0, 8300.0, 9000.0, 1300.0, 800.0, 1000.0, 200.0, 600.0, 1300.0, 1300.0, 1300.0, 1100.0, 1100.0, 1000.0, 1000.0, 2300.0, 2100.0, 800.0, 1300.0, 1000.0, 1800.0, 1500.0, 1200.0, 1500.0, 1500.0, 1500.0, 1640.0, 1000.0, 1900.0, 1250.0, 1000.0, 1800.0, 1200.0, 1300.0, 1500.0, 2000.0, 2300.0, 1480.0, 1600.0, 1640.0, 1509.0, 1800.0, 1800.0, 2300.0, 1150.0, 1480.0, 2460.0, 1500.0, 2700.0, 2700.0, 2700.0, 2700.0, 4000.0, 350.0, 1100.0, 6700.0, 4950.0, 4100.0, 5000.0, 5400.0, 7000.0, 6000.0, 6400.0, 9400.0, 5800.0, 4800.0, 6800.0, 5400.0, 4900.0, 5300.0, 4200.0, 7500.0, 4200.0, 5200.0, 6300.0, 6600.0, 4950.0, 4900.0, 4950.0, 5000.0, 5040.0, 4950.0, 5000.0, 4900.0, 4900.0, 7850.0, 5250.0, 5200.0, 5100.0, 5100.0, 4850.0, 5600.0, 6500.0, 9800.0, 5100.0, 5000.0, 5050.0, 8500.0, 5000.0, 5050.0, 5000.0, 5000.0, 1400.0, 4900.0, 1970.0, 8800.0, 8800.0, 6700.0, 6600.0, 8800.0, 10000.0, 8700.0, 7000.0, 9150.0, 8300.0, 5500.0, 6200.0, 6000.0, 6000.0, 9541.0, 9469.0, 9415.0, 9333.0, 9332.0, 9531.0, 9421.0, 6500.0, 4160.0, 4330.0, 4040.0, 400.0, 9500.0, 9500.0, 9200.0, 9000.0, 9000.0, 8450.0, 8450.0, 8450.0, 8800.0, 2650.0, 1750.0, 2200.0, 1900.0, 1600.0, 2900.0, 1500.0, 1200.0, 1700.0, 1100.0, 1400.0, 500.0, 1000.0, 250.0, 450.0, 1350.0, 1150.0, 2600.0, 1100.0, 5000.0, 4200.0, 8200.0, 5300.0, 5900.0, 4000.0, 4500.0, 4900.0, 1600.0, 4226.6, 8300.0], \"y0\": \" \", \"yaxis\": \"y\"}],                        {\"boxmode\": \"group\", \"legend\": {\"tracegroupgap\": 0}, \"margin\": {\"t\": 60}, \"template\": {\"data\": {\"bar\": [{\"error_x\": {\"color\": \"#2a3f5f\"}, \"error_y\": {\"color\": \"#2a3f5f\"}, \"marker\": {\"line\": {\"color\": \"#E5ECF6\", \"width\": 0.5}}, \"type\": \"bar\"}], \"barpolar\": [{\"marker\": {\"line\": {\"color\": \"#E5ECF6\", \"width\": 0.5}}, \"type\": \"barpolar\"}], \"carpet\": [{\"aaxis\": {\"endlinecolor\": \"#2a3f5f\", \"gridcolor\": \"white\", \"linecolor\": \"white\", \"minorgridcolor\": \"white\", \"startlinecolor\": \"#2a3f5f\"}, \"baxis\": {\"endlinecolor\": \"#2a3f5f\", \"gridcolor\": \"white\", \"linecolor\": \"white\", \"minorgridcolor\": \"white\", \"startlinecolor\": \"#2a3f5f\"}, \"type\": \"carpet\"}], \"choropleth\": [{\"colorbar\": {\"outlinewidth\": 0, \"ticks\": \"\"}, \"type\": \"choropleth\"}], \"contour\": [{\"colorbar\": {\"outlinewidth\": 0, \"ticks\": \"\"}, \"colorscale\": [[0.0, \"#0d0887\"], [0.1111111111111111, \"#46039f\"], [0.2222222222222222, \"#7201a8\"], [0.3333333333333333, \"#9c179e\"], [0.4444444444444444, \"#bd3786\"], [0.5555555555555556, \"#d8576b\"], [0.6666666666666666, \"#ed7953\"], [0.7777777777777778, \"#fb9f3a\"], [0.8888888888888888, \"#fdca26\"], [1.0, \"#f0f921\"]], \"type\": \"contour\"}], \"contourcarpet\": [{\"colorbar\": {\"outlinewidth\": 0, \"ticks\": \"\"}, \"type\": \"contourcarpet\"}], \"heatmap\": [{\"colorbar\": {\"outlinewidth\": 0, \"ticks\": \"\"}, \"colorscale\": [[0.0, \"#0d0887\"], [0.1111111111111111, \"#46039f\"], [0.2222222222222222, \"#7201a8\"], [0.3333333333333333, \"#9c179e\"], [0.4444444444444444, \"#bd3786\"], [0.5555555555555556, \"#d8576b\"], [0.6666666666666666, \"#ed7953\"], [0.7777777777777778, \"#fb9f3a\"], [0.8888888888888888, \"#fdca26\"], [1.0, \"#f0f921\"]], \"type\": \"heatmap\"}], \"heatmapgl\": [{\"colorbar\": {\"outlinewidth\": 0, \"ticks\": \"\"}, \"colorscale\": [[0.0, \"#0d0887\"], [0.1111111111111111, \"#46039f\"], [0.2222222222222222, \"#7201a8\"], [0.3333333333333333, \"#9c179e\"], [0.4444444444444444, \"#bd3786\"], [0.5555555555555556, \"#d8576b\"], [0.6666666666666666, \"#ed7953\"], [0.7777777777777778, \"#fb9f3a\"], [0.8888888888888888, \"#fdca26\"], [1.0, \"#f0f921\"]], \"type\": \"heatmapgl\"}], \"histogram\": [{\"marker\": {\"colorbar\": {\"outlinewidth\": 0, \"ticks\": \"\"}}, \"type\": \"histogram\"}], \"histogram2d\": [{\"colorbar\": {\"outlinewidth\": 0, \"ticks\": \"\"}, \"colorscale\": [[0.0, \"#0d0887\"], [0.1111111111111111, \"#46039f\"], [0.2222222222222222, \"#7201a8\"], [0.3333333333333333, \"#9c179e\"], [0.4444444444444444, \"#bd3786\"], [0.5555555555555556, \"#d8576b\"], [0.6666666666666666, \"#ed7953\"], [0.7777777777777778, \"#fb9f3a\"], [0.8888888888888888, \"#fdca26\"], [1.0, \"#f0f921\"]], \"type\": \"histogram2d\"}], \"histogram2dcontour\": [{\"colorbar\": {\"outlinewidth\": 0, \"ticks\": \"\"}, \"colorscale\": [[0.0, \"#0d0887\"], [0.1111111111111111, \"#46039f\"], [0.2222222222222222, \"#7201a8\"], [0.3333333333333333, \"#9c179e\"], [0.4444444444444444, \"#bd3786\"], [0.5555555555555556, \"#d8576b\"], [0.6666666666666666, \"#ed7953\"], [0.7777777777777778, \"#fb9f3a\"], [0.8888888888888888, \"#fdca26\"], [1.0, \"#f0f921\"]], \"type\": \"histogram2dcontour\"}], \"mesh3d\": [{\"colorbar\": {\"outlinewidth\": 0, \"ticks\": \"\"}, \"type\": \"mesh3d\"}], \"parcoords\": [{\"line\": {\"colorbar\": {\"outlinewidth\": 0, \"ticks\": \"\"}}, \"type\": \"parcoords\"}], \"pie\": [{\"automargin\": true, \"type\": \"pie\"}], \"scatter\": [{\"marker\": {\"colorbar\": {\"outlinewidth\": 0, \"ticks\": \"\"}}, \"type\": \"scatter\"}], \"scatter3d\": [{\"line\": {\"colorbar\": {\"outlinewidth\": 0, \"ticks\": \"\"}}, \"marker\": {\"colorbar\": {\"outlinewidth\": 0, \"ticks\": \"\"}}, \"type\": \"scatter3d\"}], \"scattercarpet\": [{\"marker\": {\"colorbar\": {\"outlinewidth\": 0, \"ticks\": \"\"}}, \"type\": \"scattercarpet\"}], \"scattergeo\": [{\"marker\": {\"colorbar\": {\"outlinewidth\": 0, \"ticks\": \"\"}}, \"type\": \"scattergeo\"}], \"scattergl\": [{\"marker\": {\"colorbar\": {\"outlinewidth\": 0, \"ticks\": \"\"}}, \"type\": \"scattergl\"}], \"scattermapbox\": [{\"marker\": {\"colorbar\": {\"outlinewidth\": 0, \"ticks\": \"\"}}, \"type\": \"scattermapbox\"}], \"scatterpolar\": [{\"marker\": {\"colorbar\": {\"outlinewidth\": 0, \"ticks\": \"\"}}, \"type\": \"scatterpolar\"}], \"scatterpolargl\": [{\"marker\": {\"colorbar\": {\"outlinewidth\": 0, \"ticks\": \"\"}}, \"type\": \"scatterpolargl\"}], \"scatterternary\": [{\"marker\": {\"colorbar\": {\"outlinewidth\": 0, \"ticks\": \"\"}}, \"type\": \"scatterternary\"}], \"surface\": [{\"colorbar\": {\"outlinewidth\": 0, \"ticks\": \"\"}, \"colorscale\": [[0.0, \"#0d0887\"], [0.1111111111111111, \"#46039f\"], [0.2222222222222222, \"#7201a8\"], [0.3333333333333333, \"#9c179e\"], [0.4444444444444444, \"#bd3786\"], [0.5555555555555556, \"#d8576b\"], [0.6666666666666666, \"#ed7953\"], [0.7777777777777778, \"#fb9f3a\"], [0.8888888888888888, \"#fdca26\"], [1.0, \"#f0f921\"]], \"type\": \"surface\"}], \"table\": [{\"cells\": {\"fill\": {\"color\": \"#EBF0F8\"}, \"line\": {\"color\": \"white\"}}, \"header\": {\"fill\": {\"color\": \"#C8D4E3\"}, \"line\": {\"color\": \"white\"}}, \"type\": \"table\"}]}, \"layout\": {\"annotationdefaults\": {\"arrowcolor\": \"#2a3f5f\", \"arrowhead\": 0, \"arrowwidth\": 1}, \"coloraxis\": {\"colorbar\": {\"outlinewidth\": 0, \"ticks\": \"\"}}, \"colorscale\": {\"diverging\": [[0, \"#8e0152\"], [0.1, \"#c51b7d\"], [0.2, \"#de77ae\"], [0.3, \"#f1b6da\"], [0.4, \"#fde0ef\"], [0.5, \"#f7f7f7\"], [0.6, \"#e6f5d0\"], [0.7, \"#b8e186\"], [0.8, \"#7fbc41\"], [0.9, \"#4d9221\"], [1, \"#276419\"]], \"sequential\": [[0.0, \"#0d0887\"], [0.1111111111111111, \"#46039f\"], [0.2222222222222222, \"#7201a8\"], [0.3333333333333333, \"#9c179e\"], [0.4444444444444444, \"#bd3786\"], [0.5555555555555556, \"#d8576b\"], [0.6666666666666666, \"#ed7953\"], [0.7777777777777778, \"#fb9f3a\"], [0.8888888888888888, \"#fdca26\"], [1.0, \"#f0f921\"]], \"sequentialminus\": [[0.0, \"#0d0887\"], [0.1111111111111111, \"#46039f\"], [0.2222222222222222, \"#7201a8\"], [0.3333333333333333, \"#9c179e\"], [0.4444444444444444, \"#bd3786\"], [0.5555555555555556, \"#d8576b\"], [0.6666666666666666, \"#ed7953\"], [0.7777777777777778, \"#fb9f3a\"], [0.8888888888888888, \"#fdca26\"], [1.0, \"#f0f921\"]]}, \"colorway\": [\"#636efa\", \"#EF553B\", \"#00cc96\", \"#ab63fa\", \"#FFA15A\", \"#19d3f3\", \"#FF6692\", \"#B6E880\", \"#FF97FF\", \"#FECB52\"], \"font\": {\"color\": \"#2a3f5f\"}, \"geo\": {\"bgcolor\": \"white\", \"lakecolor\": \"white\", \"landcolor\": \"#E5ECF6\", \"showlakes\": true, \"showland\": true, \"subunitcolor\": \"white\"}, \"hoverlabel\": {\"align\": \"left\"}, \"hovermode\": \"closest\", \"mapbox\": {\"style\": \"light\"}, \"paper_bgcolor\": \"white\", \"plot_bgcolor\": \"#E5ECF6\", \"polar\": {\"angularaxis\": {\"gridcolor\": \"white\", \"linecolor\": \"white\", \"ticks\": \"\"}, \"bgcolor\": \"#E5ECF6\", \"radialaxis\": {\"gridcolor\": \"white\", \"linecolor\": \"white\", \"ticks\": \"\"}}, \"scene\": {\"xaxis\": {\"backgroundcolor\": \"#E5ECF6\", \"gridcolor\": \"white\", \"gridwidth\": 2, \"linecolor\": \"white\", \"showbackground\": true, \"ticks\": \"\", \"zerolinecolor\": \"white\"}, \"yaxis\": {\"backgroundcolor\": \"#E5ECF6\", \"gridcolor\": \"white\", \"gridwidth\": 2, \"linecolor\": \"white\", \"showbackground\": true, \"ticks\": \"\", \"zerolinecolor\": \"white\"}, \"zaxis\": {\"backgroundcolor\": \"#E5ECF6\", \"gridcolor\": \"white\", \"gridwidth\": 2, \"linecolor\": \"white\", \"showbackground\": true, \"ticks\": \"\", \"zerolinecolor\": \"white\"}}, \"shapedefaults\": {\"line\": {\"color\": \"#2a3f5f\"}}, \"ternary\": {\"aaxis\": {\"gridcolor\": \"white\", \"linecolor\": \"white\", \"ticks\": \"\"}, \"baxis\": {\"gridcolor\": \"white\", \"linecolor\": \"white\", \"ticks\": \"\"}, \"bgcolor\": \"#E5ECF6\", \"caxis\": {\"gridcolor\": \"white\", \"linecolor\": \"white\", \"ticks\": \"\"}}, \"title\": {\"x\": 0.05}, \"xaxis\": {\"automargin\": true, \"gridcolor\": \"white\", \"linecolor\": \"white\", \"ticks\": \"\", \"title\": {\"standoff\": 15}, \"zerolinecolor\": \"white\", \"zerolinewidth\": 2}, \"yaxis\": {\"automargin\": true, \"gridcolor\": \"white\", \"linecolor\": \"white\", \"ticks\": \"\", \"title\": {\"standoff\": 15}, \"zerolinecolor\": \"white\", \"zerolinewidth\": 2}}}, \"xaxis\": {\"anchor\": \"y\", \"domain\": [0.0, 1.0], \"title\": {\"text\": \"EOR_Method\"}}, \"yaxis\": {\"anchor\": \"x\", \"domain\": [0.0, 1.0], \"title\": {\"text\": \"Depth\"}}},                        {\"responsive\": true}                    ).then(function(){\n",
       "                            \n",
       "var gd = document.getElementById('5bffea07-3ecf-494b-8ffa-58f74e2431a2');\n",
       "var x = new MutationObserver(function (mutations, observer) {{\n",
       "        var display = window.getComputedStyle(gd).display;\n",
       "        if (!display || display === 'none') {{\n",
       "            console.log([gd, 'removed!']);\n",
       "            Plotly.purge(gd);\n",
       "            observer.disconnect();\n",
       "        }}\n",
       "}});\n",
       "\n",
       "// Listen for the removal of the full notebook cells\n",
       "var notebookContainer = gd.closest('#notebook-container');\n",
       "if (notebookContainer) {{\n",
       "    x.observe(notebookContainer, {childList: true});\n",
       "}}\n",
       "\n",
       "// Listen for the clearing of the current output cell\n",
       "var outputEl = gd.closest('.output');\n",
       "if (outputEl) {{\n",
       "    x.observe(outputEl, {childList: true});\n",
       "}}\n",
       "\n",
       "                        })                };                });            </script>        </div>"
      ]
     },
     "metadata": {},
     "output_type": "display_data"
    }
   ],
   "source": [
    "px.box(data, x=\"EOR_Method\", y=\"Depth\")"
   ]
  },
  {
   "cell_type": "code",
   "execution_count": 75,
   "metadata": {},
   "outputs": [
    {
     "data": {
      "application/vnd.plotly.v1+json": {
       "config": {
        "plotlyServerURL": "https://plot.ly"
       },
       "data": [
        {
         "alignmentgroup": "True",
         "hovertemplate": "EOR_Method=%{x}<br>Gravity=%{y}<extra></extra>",
         "legendgroup": "",
         "marker": {
          "color": "#636efa"
         },
         "name": "",
         "notched": false,
         "offsetgroup": "",
         "orientation": "v",
         "showlegend": false,
         "type": "box",
         "x": [
          "Polymer",
          "Steam Injection",
          "CO2 Injection",
          "CO2 Injection",
          "CO2 Injection",
          "CO2 Injection",
          "CO2 Injection",
          "HC injection",
          "HC injection",
          "Steam Injection",
          "Steam Injection",
          "Steam Injection",
          "Steam Injection",
          "Steam Injection",
          "Steam Injection",
          "Steam Injection",
          "Steam Injection",
          "Steam Injection",
          "Steam Injection",
          "Steam Injection",
          "Steam Injection",
          "CO2 Injection",
          "CO2 Injection",
          "CO2 Injection",
          "CO2 Injection",
          "CO2 Injection",
          "CO2 Injection",
          "CO2 Injection",
          "CO2 Injection",
          "CO2 Injection",
          "CO2 Injection",
          "CO2 Injection",
          "HC injection",
          "Combustion",
          "Combustion",
          "Polymer",
          "Steam Injection",
          "Steam Injection",
          "Steam Injection",
          "Steam Injection",
          "Steam Injection",
          "Steam Injection",
          "Steam Injection",
          "Steam Injection",
          "Steam Injection",
          "Steam Injection",
          "Steam Injection",
          "Steam Injection",
          "Steam Injection",
          "Steam Injection",
          "Steam Injection",
          "Steam Injection",
          "Steam Injection",
          "Steam Injection",
          "Steam Injection",
          "Steam Injection",
          "Steam Injection",
          "Steam Injection",
          "Steam Injection",
          "Steam Injection",
          "Steam Injection",
          "Steam Injection",
          "Steam Injection",
          "Steam Injection",
          "Steam Injection",
          "Steam Injection",
          "Steam Injection",
          "Steam Injection",
          "Steam Injection",
          "Steam Injection",
          "Steam Injection",
          "Steam Injection",
          "Steam Injection",
          "Steam Injection",
          "Steam Injection",
          "Steam Injection",
          "Steam Injection",
          "Steam Injection",
          "Steam Injection",
          "Steam Injection",
          "Steam Injection",
          "Steam Injection",
          "Steam Injection",
          "Steam Injection",
          "Steam Injection",
          "Steam Injection",
          "Steam Injection",
          "Steam Injection",
          "Steam Injection",
          "CO2 Injection",
          "CO2 Injection",
          "CO2 Injection",
          "CO2 Injection",
          "CO2 Injection",
          "CO2 Injection",
          "CO2 Injection",
          "CO2 Injection",
          "CO2 Injection",
          "CO2 Injection",
          "CO2 Injection",
          "CO2 Injection",
          "CO2 Injection",
          "CO2 Injection",
          "CO2 Injection",
          "CO2 Injection",
          "CO2 Injection",
          "CO2 Injection",
          "CO2 Injection",
          "CO2 Injection",
          "CO2 Injection",
          "CO2 Injection",
          "CO2 Injection",
          "CO2 Injection",
          "CO2 Injection",
          "CO2 Injection",
          "CO2 Injection",
          "CO2 Injection",
          "CO2 Injection",
          "CO2 Injection",
          "CO2 Injection",
          "CO2 Injection",
          "CO2 Injection",
          "CO2 Injection",
          "CO2 Injection",
          "CO2 Injection",
          "CO2 Injection",
          "CO2 Injection",
          "CO2 Injection",
          "CO2 Injection",
          "CO2 Injection",
          "CO2 Injection",
          "CO2 Injection",
          "CO2 Injection",
          "CO2 Injection",
          "CO2 Injection",
          "CO2 Injection",
          "CO2 Injection",
          "CO2 Injection",
          "HC injection",
          "HC injection",
          "HC injection",
          "HC injection",
          "HC injection",
          "HC injection",
          "HC injection",
          "HC injection",
          "HC injection",
          "HC injection",
          "HC injection",
          "HC injection",
          "HC injection",
          "HC injection",
          "HC injection",
          "HC injection",
          "HC injection",
          "HC injection",
          "HC injection",
          "HC injection",
          "HC injection",
          "HC injection",
          "HC injection",
          "HC injection",
          "HC injection",
          "Combustion",
          "Combustion",
          "Combustion",
          "Combustion",
          "Combustion",
          "Combustion",
          "Combustion",
          "Combustion",
          "Combustion",
          "Combustion",
          "Combustion",
          "Polymer",
          "Polymer",
          "Polymer",
          "Polymer",
          "Polymer",
          "Polymer",
          "Polymer",
          "Steam Injection",
          "Steam Injection",
          "Steam Injection",
          "Steam Injection",
          "Steam Injection",
          "Steam Injection",
          "Steam Injection",
          "Steam Injection",
          "Steam Injection",
          "Steam Injection",
          "Steam Injection",
          "CO2 Injection",
          "CO2 Injection",
          "CO2 Injection",
          "CO2 Injection",
          "CO2 Injection",
          "CO2 Injection",
          "HC injection",
          "HC injection",
          "Steam Injection",
          "Steam Injection",
          "CO2 Injection"
         ],
         "x0": " ",
         "xaxis": "x",
         "y": [
          34,
          19,
          40,
          41,
          42,
          33,
          34,
          43,
          44,
          30,
          13,
          14,
          20,
          12.7,
          13.9,
          10,
          25,
          25,
          25,
          17,
          17,
          31,
          28,
          38,
          32,
          42,
          33,
          36,
          40,
          35,
          22,
          30,
          39,
          33,
          33,
          30,
          13,
          10,
          14,
          13,
          12,
          12,
          13,
          13,
          11,
          13,
          12.5,
          14,
          12,
          11,
          10,
          14,
          13,
          13,
          13,
          12,
          12,
          11,
          12,
          14,
          13,
          12,
          13,
          14,
          14.8,
          14,
          16,
          12,
          13,
          13,
          13,
          12,
          12,
          10.2,
          8,
          8,
          13,
          15,
          15,
          21,
          10,
          25,
          25,
          25,
          25,
          22,
          22,
          11,
          39,
          38,
          35,
          35,
          35,
          35,
          35,
          35,
          38,
          30,
          32,
          40,
          40,
          34,
          44,
          34,
          40,
          35,
          43,
          39,
          43,
          31,
          31,
          31,
          31,
          34,
          31,
          31,
          32,
          34,
          28,
          34,
          33,
          34,
          32,
          32,
          41,
          44,
          43.5,
          33,
          33,
          22,
          11,
          34,
          22.8,
          22.8,
          22.8,
          30,
          42,
          35,
          27,
          26,
          24,
          25,
          27,
          38,
          27,
          22,
          41,
          41,
          39,
          40,
          38,
          48,
          43.2,
          43.6,
          40.9,
          41.1,
          43.4,
          45.4,
          41.3,
          38,
          37,
          40,
          38,
          19,
          38,
          33,
          33,
          33,
          33,
          31,
          32,
          31,
          33,
          9.3,
          39,
          39,
          37,
          35,
          39,
          13,
          15,
          13,
          14,
          14,
          19,
          16,
          17.6,
          11,
          20,
          15,
          25,
          18,
          34,
          35,
          41.5,
          41,
          36,
          39.4,
          18,
          20,
          10,
          26.9,
          41
         ],
         "y0": " ",
         "yaxis": "y"
        }
       ],
       "layout": {
        "boxmode": "group",
        "legend": {
         "tracegroupgap": 0
        },
        "margin": {
         "t": 60
        },
        "template": {
         "data": {
          "bar": [
           {
            "error_x": {
             "color": "#2a3f5f"
            },
            "error_y": {
             "color": "#2a3f5f"
            },
            "marker": {
             "line": {
              "color": "#E5ECF6",
              "width": 0.5
             }
            },
            "type": "bar"
           }
          ],
          "barpolar": [
           {
            "marker": {
             "line": {
              "color": "#E5ECF6",
              "width": 0.5
             }
            },
            "type": "barpolar"
           }
          ],
          "carpet": [
           {
            "aaxis": {
             "endlinecolor": "#2a3f5f",
             "gridcolor": "white",
             "linecolor": "white",
             "minorgridcolor": "white",
             "startlinecolor": "#2a3f5f"
            },
            "baxis": {
             "endlinecolor": "#2a3f5f",
             "gridcolor": "white",
             "linecolor": "white",
             "minorgridcolor": "white",
             "startlinecolor": "#2a3f5f"
            },
            "type": "carpet"
           }
          ],
          "choropleth": [
           {
            "colorbar": {
             "outlinewidth": 0,
             "ticks": ""
            },
            "type": "choropleth"
           }
          ],
          "contour": [
           {
            "colorbar": {
             "outlinewidth": 0,
             "ticks": ""
            },
            "colorscale": [
             [
              0,
              "#0d0887"
             ],
             [
              0.1111111111111111,
              "#46039f"
             ],
             [
              0.2222222222222222,
              "#7201a8"
             ],
             [
              0.3333333333333333,
              "#9c179e"
             ],
             [
              0.4444444444444444,
              "#bd3786"
             ],
             [
              0.5555555555555556,
              "#d8576b"
             ],
             [
              0.6666666666666666,
              "#ed7953"
             ],
             [
              0.7777777777777778,
              "#fb9f3a"
             ],
             [
              0.8888888888888888,
              "#fdca26"
             ],
             [
              1,
              "#f0f921"
             ]
            ],
            "type": "contour"
           }
          ],
          "contourcarpet": [
           {
            "colorbar": {
             "outlinewidth": 0,
             "ticks": ""
            },
            "type": "contourcarpet"
           }
          ],
          "heatmap": [
           {
            "colorbar": {
             "outlinewidth": 0,
             "ticks": ""
            },
            "colorscale": [
             [
              0,
              "#0d0887"
             ],
             [
              0.1111111111111111,
              "#46039f"
             ],
             [
              0.2222222222222222,
              "#7201a8"
             ],
             [
              0.3333333333333333,
              "#9c179e"
             ],
             [
              0.4444444444444444,
              "#bd3786"
             ],
             [
              0.5555555555555556,
              "#d8576b"
             ],
             [
              0.6666666666666666,
              "#ed7953"
             ],
             [
              0.7777777777777778,
              "#fb9f3a"
             ],
             [
              0.8888888888888888,
              "#fdca26"
             ],
             [
              1,
              "#f0f921"
             ]
            ],
            "type": "heatmap"
           }
          ],
          "heatmapgl": [
           {
            "colorbar": {
             "outlinewidth": 0,
             "ticks": ""
            },
            "colorscale": [
             [
              0,
              "#0d0887"
             ],
             [
              0.1111111111111111,
              "#46039f"
             ],
             [
              0.2222222222222222,
              "#7201a8"
             ],
             [
              0.3333333333333333,
              "#9c179e"
             ],
             [
              0.4444444444444444,
              "#bd3786"
             ],
             [
              0.5555555555555556,
              "#d8576b"
             ],
             [
              0.6666666666666666,
              "#ed7953"
             ],
             [
              0.7777777777777778,
              "#fb9f3a"
             ],
             [
              0.8888888888888888,
              "#fdca26"
             ],
             [
              1,
              "#f0f921"
             ]
            ],
            "type": "heatmapgl"
           }
          ],
          "histogram": [
           {
            "marker": {
             "colorbar": {
              "outlinewidth": 0,
              "ticks": ""
             }
            },
            "type": "histogram"
           }
          ],
          "histogram2d": [
           {
            "colorbar": {
             "outlinewidth": 0,
             "ticks": ""
            },
            "colorscale": [
             [
              0,
              "#0d0887"
             ],
             [
              0.1111111111111111,
              "#46039f"
             ],
             [
              0.2222222222222222,
              "#7201a8"
             ],
             [
              0.3333333333333333,
              "#9c179e"
             ],
             [
              0.4444444444444444,
              "#bd3786"
             ],
             [
              0.5555555555555556,
              "#d8576b"
             ],
             [
              0.6666666666666666,
              "#ed7953"
             ],
             [
              0.7777777777777778,
              "#fb9f3a"
             ],
             [
              0.8888888888888888,
              "#fdca26"
             ],
             [
              1,
              "#f0f921"
             ]
            ],
            "type": "histogram2d"
           }
          ],
          "histogram2dcontour": [
           {
            "colorbar": {
             "outlinewidth": 0,
             "ticks": ""
            },
            "colorscale": [
             [
              0,
              "#0d0887"
             ],
             [
              0.1111111111111111,
              "#46039f"
             ],
             [
              0.2222222222222222,
              "#7201a8"
             ],
             [
              0.3333333333333333,
              "#9c179e"
             ],
             [
              0.4444444444444444,
              "#bd3786"
             ],
             [
              0.5555555555555556,
              "#d8576b"
             ],
             [
              0.6666666666666666,
              "#ed7953"
             ],
             [
              0.7777777777777778,
              "#fb9f3a"
             ],
             [
              0.8888888888888888,
              "#fdca26"
             ],
             [
              1,
              "#f0f921"
             ]
            ],
            "type": "histogram2dcontour"
           }
          ],
          "mesh3d": [
           {
            "colorbar": {
             "outlinewidth": 0,
             "ticks": ""
            },
            "type": "mesh3d"
           }
          ],
          "parcoords": [
           {
            "line": {
             "colorbar": {
              "outlinewidth": 0,
              "ticks": ""
             }
            },
            "type": "parcoords"
           }
          ],
          "pie": [
           {
            "automargin": true,
            "type": "pie"
           }
          ],
          "scatter": [
           {
            "marker": {
             "colorbar": {
              "outlinewidth": 0,
              "ticks": ""
             }
            },
            "type": "scatter"
           }
          ],
          "scatter3d": [
           {
            "line": {
             "colorbar": {
              "outlinewidth": 0,
              "ticks": ""
             }
            },
            "marker": {
             "colorbar": {
              "outlinewidth": 0,
              "ticks": ""
             }
            },
            "type": "scatter3d"
           }
          ],
          "scattercarpet": [
           {
            "marker": {
             "colorbar": {
              "outlinewidth": 0,
              "ticks": ""
             }
            },
            "type": "scattercarpet"
           }
          ],
          "scattergeo": [
           {
            "marker": {
             "colorbar": {
              "outlinewidth": 0,
              "ticks": ""
             }
            },
            "type": "scattergeo"
           }
          ],
          "scattergl": [
           {
            "marker": {
             "colorbar": {
              "outlinewidth": 0,
              "ticks": ""
             }
            },
            "type": "scattergl"
           }
          ],
          "scattermapbox": [
           {
            "marker": {
             "colorbar": {
              "outlinewidth": 0,
              "ticks": ""
             }
            },
            "type": "scattermapbox"
           }
          ],
          "scatterpolar": [
           {
            "marker": {
             "colorbar": {
              "outlinewidth": 0,
              "ticks": ""
             }
            },
            "type": "scatterpolar"
           }
          ],
          "scatterpolargl": [
           {
            "marker": {
             "colorbar": {
              "outlinewidth": 0,
              "ticks": ""
             }
            },
            "type": "scatterpolargl"
           }
          ],
          "scatterternary": [
           {
            "marker": {
             "colorbar": {
              "outlinewidth": 0,
              "ticks": ""
             }
            },
            "type": "scatterternary"
           }
          ],
          "surface": [
           {
            "colorbar": {
             "outlinewidth": 0,
             "ticks": ""
            },
            "colorscale": [
             [
              0,
              "#0d0887"
             ],
             [
              0.1111111111111111,
              "#46039f"
             ],
             [
              0.2222222222222222,
              "#7201a8"
             ],
             [
              0.3333333333333333,
              "#9c179e"
             ],
             [
              0.4444444444444444,
              "#bd3786"
             ],
             [
              0.5555555555555556,
              "#d8576b"
             ],
             [
              0.6666666666666666,
              "#ed7953"
             ],
             [
              0.7777777777777778,
              "#fb9f3a"
             ],
             [
              0.8888888888888888,
              "#fdca26"
             ],
             [
              1,
              "#f0f921"
             ]
            ],
            "type": "surface"
           }
          ],
          "table": [
           {
            "cells": {
             "fill": {
              "color": "#EBF0F8"
             },
             "line": {
              "color": "white"
             }
            },
            "header": {
             "fill": {
              "color": "#C8D4E3"
             },
             "line": {
              "color": "white"
             }
            },
            "type": "table"
           }
          ]
         },
         "layout": {
          "annotationdefaults": {
           "arrowcolor": "#2a3f5f",
           "arrowhead": 0,
           "arrowwidth": 1
          },
          "coloraxis": {
           "colorbar": {
            "outlinewidth": 0,
            "ticks": ""
           }
          },
          "colorscale": {
           "diverging": [
            [
             0,
             "#8e0152"
            ],
            [
             0.1,
             "#c51b7d"
            ],
            [
             0.2,
             "#de77ae"
            ],
            [
             0.3,
             "#f1b6da"
            ],
            [
             0.4,
             "#fde0ef"
            ],
            [
             0.5,
             "#f7f7f7"
            ],
            [
             0.6,
             "#e6f5d0"
            ],
            [
             0.7,
             "#b8e186"
            ],
            [
             0.8,
             "#7fbc41"
            ],
            [
             0.9,
             "#4d9221"
            ],
            [
             1,
             "#276419"
            ]
           ],
           "sequential": [
            [
             0,
             "#0d0887"
            ],
            [
             0.1111111111111111,
             "#46039f"
            ],
            [
             0.2222222222222222,
             "#7201a8"
            ],
            [
             0.3333333333333333,
             "#9c179e"
            ],
            [
             0.4444444444444444,
             "#bd3786"
            ],
            [
             0.5555555555555556,
             "#d8576b"
            ],
            [
             0.6666666666666666,
             "#ed7953"
            ],
            [
             0.7777777777777778,
             "#fb9f3a"
            ],
            [
             0.8888888888888888,
             "#fdca26"
            ],
            [
             1,
             "#f0f921"
            ]
           ],
           "sequentialminus": [
            [
             0,
             "#0d0887"
            ],
            [
             0.1111111111111111,
             "#46039f"
            ],
            [
             0.2222222222222222,
             "#7201a8"
            ],
            [
             0.3333333333333333,
             "#9c179e"
            ],
            [
             0.4444444444444444,
             "#bd3786"
            ],
            [
             0.5555555555555556,
             "#d8576b"
            ],
            [
             0.6666666666666666,
             "#ed7953"
            ],
            [
             0.7777777777777778,
             "#fb9f3a"
            ],
            [
             0.8888888888888888,
             "#fdca26"
            ],
            [
             1,
             "#f0f921"
            ]
           ]
          },
          "colorway": [
           "#636efa",
           "#EF553B",
           "#00cc96",
           "#ab63fa",
           "#FFA15A",
           "#19d3f3",
           "#FF6692",
           "#B6E880",
           "#FF97FF",
           "#FECB52"
          ],
          "font": {
           "color": "#2a3f5f"
          },
          "geo": {
           "bgcolor": "white",
           "lakecolor": "white",
           "landcolor": "#E5ECF6",
           "showlakes": true,
           "showland": true,
           "subunitcolor": "white"
          },
          "hoverlabel": {
           "align": "left"
          },
          "hovermode": "closest",
          "mapbox": {
           "style": "light"
          },
          "paper_bgcolor": "white",
          "plot_bgcolor": "#E5ECF6",
          "polar": {
           "angularaxis": {
            "gridcolor": "white",
            "linecolor": "white",
            "ticks": ""
           },
           "bgcolor": "#E5ECF6",
           "radialaxis": {
            "gridcolor": "white",
            "linecolor": "white",
            "ticks": ""
           }
          },
          "scene": {
           "xaxis": {
            "backgroundcolor": "#E5ECF6",
            "gridcolor": "white",
            "gridwidth": 2,
            "linecolor": "white",
            "showbackground": true,
            "ticks": "",
            "zerolinecolor": "white"
           },
           "yaxis": {
            "backgroundcolor": "#E5ECF6",
            "gridcolor": "white",
            "gridwidth": 2,
            "linecolor": "white",
            "showbackground": true,
            "ticks": "",
            "zerolinecolor": "white"
           },
           "zaxis": {
            "backgroundcolor": "#E5ECF6",
            "gridcolor": "white",
            "gridwidth": 2,
            "linecolor": "white",
            "showbackground": true,
            "ticks": "",
            "zerolinecolor": "white"
           }
          },
          "shapedefaults": {
           "line": {
            "color": "#2a3f5f"
           }
          },
          "ternary": {
           "aaxis": {
            "gridcolor": "white",
            "linecolor": "white",
            "ticks": ""
           },
           "baxis": {
            "gridcolor": "white",
            "linecolor": "white",
            "ticks": ""
           },
           "bgcolor": "#E5ECF6",
           "caxis": {
            "gridcolor": "white",
            "linecolor": "white",
            "ticks": ""
           }
          },
          "title": {
           "x": 0.05
          },
          "xaxis": {
           "automargin": true,
           "gridcolor": "white",
           "linecolor": "white",
           "ticks": "",
           "title": {
            "standoff": 15
           },
           "zerolinecolor": "white",
           "zerolinewidth": 2
          },
          "yaxis": {
           "automargin": true,
           "gridcolor": "white",
           "linecolor": "white",
           "ticks": "",
           "title": {
            "standoff": 15
           },
           "zerolinecolor": "white",
           "zerolinewidth": 2
          }
         }
        },
        "xaxis": {
         "anchor": "y",
         "domain": [
          0,
          1
         ],
         "title": {
          "text": "EOR_Method"
         }
        },
        "yaxis": {
         "anchor": "x",
         "domain": [
          0,
          1
         ],
         "title": {
          "text": "Gravity"
         }
        }
       }
      },
      "text/html": [
       "<div>                            <div id=\"304ac7b3-1580-4d56-81bb-458e90a17bde\" class=\"plotly-graph-div\" style=\"height:525px; width:100%;\"></div>            <script type=\"text/javascript\">                require([\"plotly\"], function(Plotly) {                    window.PLOTLYENV=window.PLOTLYENV || {};                                    if (document.getElementById(\"304ac7b3-1580-4d56-81bb-458e90a17bde\")) {                    Plotly.newPlot(                        \"304ac7b3-1580-4d56-81bb-458e90a17bde\",                        [{\"alignmentgroup\": \"True\", \"hovertemplate\": \"EOR_Method=%{x}<br>Gravity=%{y}<extra></extra>\", \"legendgroup\": \"\", \"marker\": {\"color\": \"#636efa\"}, \"name\": \"\", \"notched\": false, \"offsetgroup\": \"\", \"orientation\": \"v\", \"showlegend\": false, \"type\": \"box\", \"x\": [\"Polymer\", \"Steam Injection\", \"CO2 Injection\", \"CO2 Injection\", \"CO2 Injection\", \"CO2 Injection\", \"CO2 Injection\", \"HC injection\", \"HC injection\", \"Steam Injection\", \"Steam Injection\", \"Steam Injection\", \"Steam Injection\", \"Steam Injection\", \"Steam Injection\", \"Steam Injection\", \"Steam Injection\", \"Steam Injection\", \"Steam Injection\", \"Steam Injection\", \"Steam Injection\", \"CO2 Injection\", \"CO2 Injection\", \"CO2 Injection\", \"CO2 Injection\", \"CO2 Injection\", \"CO2 Injection\", \"CO2 Injection\", \"CO2 Injection\", \"CO2 Injection\", \"CO2 Injection\", \"CO2 Injection\", \"HC injection\", \"Combustion\", \"Combustion\", \"Polymer\", \"Steam Injection\", \"Steam Injection\", \"Steam Injection\", \"Steam Injection\", \"Steam Injection\", \"Steam Injection\", \"Steam Injection\", \"Steam Injection\", \"Steam Injection\", \"Steam Injection\", \"Steam Injection\", \"Steam Injection\", \"Steam Injection\", \"Steam Injection\", \"Steam Injection\", \"Steam Injection\", \"Steam Injection\", \"Steam Injection\", \"Steam Injection\", \"Steam Injection\", \"Steam Injection\", \"Steam Injection\", \"Steam Injection\", \"Steam Injection\", \"Steam Injection\", \"Steam Injection\", \"Steam Injection\", \"Steam Injection\", \"Steam Injection\", \"Steam Injection\", \"Steam Injection\", \"Steam Injection\", \"Steam Injection\", \"Steam Injection\", \"Steam Injection\", \"Steam Injection\", \"Steam Injection\", \"Steam Injection\", \"Steam Injection\", \"Steam Injection\", \"Steam Injection\", \"Steam Injection\", \"Steam Injection\", \"Steam Injection\", \"Steam Injection\", \"Steam Injection\", \"Steam Injection\", \"Steam Injection\", \"Steam Injection\", \"Steam Injection\", \"Steam Injection\", \"Steam Injection\", \"Steam Injection\", \"CO2 Injection\", \"CO2 Injection\", \"CO2 Injection\", \"CO2 Injection\", \"CO2 Injection\", \"CO2 Injection\", \"CO2 Injection\", \"CO2 Injection\", \"CO2 Injection\", \"CO2 Injection\", \"CO2 Injection\", \"CO2 Injection\", \"CO2 Injection\", \"CO2 Injection\", \"CO2 Injection\", \"CO2 Injection\", \"CO2 Injection\", \"CO2 Injection\", \"CO2 Injection\", \"CO2 Injection\", \"CO2 Injection\", \"CO2 Injection\", \"CO2 Injection\", \"CO2 Injection\", \"CO2 Injection\", \"CO2 Injection\", \"CO2 Injection\", \"CO2 Injection\", \"CO2 Injection\", \"CO2 Injection\", \"CO2 Injection\", \"CO2 Injection\", \"CO2 Injection\", \"CO2 Injection\", \"CO2 Injection\", \"CO2 Injection\", \"CO2 Injection\", \"CO2 Injection\", \"CO2 Injection\", \"CO2 Injection\", \"CO2 Injection\", \"CO2 Injection\", \"CO2 Injection\", \"CO2 Injection\", \"CO2 Injection\", \"CO2 Injection\", \"CO2 Injection\", \"CO2 Injection\", \"CO2 Injection\", \"HC injection\", \"HC injection\", \"HC injection\", \"HC injection\", \"HC injection\", \"HC injection\", \"HC injection\", \"HC injection\", \"HC injection\", \"HC injection\", \"HC injection\", \"HC injection\", \"HC injection\", \"HC injection\", \"HC injection\", \"HC injection\", \"HC injection\", \"HC injection\", \"HC injection\", \"HC injection\", \"HC injection\", \"HC injection\", \"HC injection\", \"HC injection\", \"HC injection\", \"Combustion\", \"Combustion\", \"Combustion\", \"Combustion\", \"Combustion\", \"Combustion\", \"Combustion\", \"Combustion\", \"Combustion\", \"Combustion\", \"Combustion\", \"Polymer\", \"Polymer\", \"Polymer\", \"Polymer\", \"Polymer\", \"Polymer\", \"Polymer\", \"Steam Injection\", \"Steam Injection\", \"Steam Injection\", \"Steam Injection\", \"Steam Injection\", \"Steam Injection\", \"Steam Injection\", \"Steam Injection\", \"Steam Injection\", \"Steam Injection\", \"Steam Injection\", \"CO2 Injection\", \"CO2 Injection\", \"CO2 Injection\", \"CO2 Injection\", \"CO2 Injection\", \"CO2 Injection\", \"HC injection\", \"HC injection\", \"Steam Injection\", \"Steam Injection\", \"CO2 Injection\"], \"x0\": \" \", \"xaxis\": \"x\", \"y\": [34.0, 19.0, 40.0, 41.0, 42.0, 33.0, 34.0, 43.0, 44.0, 30.0, 13.0, 14.0, 20.0, 12.7, 13.9, 10.0, 25.0, 25.0, 25.0, 17.0, 17.0, 31.0, 28.0, 38.0, 32.0, 42.0, 33.0, 36.0, 40.0, 35.0, 22.0, 30.0, 39.0, 33.0, 33.0, 30.0, 13.0, 10.0, 14.0, 13.0, 12.0, 12.0, 13.0, 13.0, 11.0, 13.0, 12.5, 14.0, 12.0, 11.0, 10.0, 14.0, 13.0, 13.0, 13.0, 12.0, 12.0, 11.0, 12.0, 14.0, 13.0, 12.0, 13.0, 14.0, 14.8, 14.0, 16.0, 12.0, 13.0, 13.0, 13.0, 12.0, 12.0, 10.2, 8.0, 8.0, 13.0, 15.0, 15.0, 21.0, 10.0, 25.0, 25.0, 25.0, 25.0, 22.0, 22.0, 11.0, 39.0, 38.0, 35.0, 35.0, 35.0, 35.0, 35.0, 35.0, 38.0, 30.0, 32.0, 40.0, 40.0, 34.0, 44.0, 34.0, 40.0, 35.0, 43.0, 39.0, 43.0, 31.0, 31.0, 31.0, 31.0, 34.0, 31.0, 31.0, 32.0, 34.0, 28.0, 34.0, 33.0, 34.0, 32.0, 32.0, 41.0, 44.0, 43.5, 33.0, 33.0, 22.0, 11.0, 34.0, 22.8, 22.8, 22.8, 30.0, 42.0, 35.0, 27.0, 26.0, 24.0, 25.0, 27.0, 38.0, 27.0, 22.0, 41.0, 41.0, 39.0, 40.0, 38.0, 48.0, 43.2, 43.6, 40.9, 41.1, 43.4, 45.4, 41.3, 38.0, 37.0, 40.0, 38.0, 19.0, 38.0, 33.0, 33.0, 33.0, 33.0, 31.0, 32.0, 31.0, 33.0, 9.3, 39.0, 39.0, 37.0, 35.0, 39.0, 13.0, 15.0, 13.0, 14.0, 14.0, 19.0, 16.0, 17.6, 11.0, 20.0, 15.0, 25.0, 18.0, 34.0, 35.0, 41.5, 41.0, 36.0, 39.4, 18.0, 20.0, 10.0, 26.9, 41.0], \"y0\": \" \", \"yaxis\": \"y\"}],                        {\"boxmode\": \"group\", \"legend\": {\"tracegroupgap\": 0}, \"margin\": {\"t\": 60}, \"template\": {\"data\": {\"bar\": [{\"error_x\": {\"color\": \"#2a3f5f\"}, \"error_y\": {\"color\": \"#2a3f5f\"}, \"marker\": {\"line\": {\"color\": \"#E5ECF6\", \"width\": 0.5}}, \"type\": \"bar\"}], \"barpolar\": [{\"marker\": {\"line\": {\"color\": \"#E5ECF6\", \"width\": 0.5}}, \"type\": \"barpolar\"}], \"carpet\": [{\"aaxis\": {\"endlinecolor\": \"#2a3f5f\", \"gridcolor\": \"white\", \"linecolor\": \"white\", \"minorgridcolor\": \"white\", \"startlinecolor\": \"#2a3f5f\"}, \"baxis\": {\"endlinecolor\": \"#2a3f5f\", \"gridcolor\": \"white\", \"linecolor\": \"white\", \"minorgridcolor\": \"white\", \"startlinecolor\": \"#2a3f5f\"}, \"type\": \"carpet\"}], \"choropleth\": [{\"colorbar\": {\"outlinewidth\": 0, \"ticks\": \"\"}, \"type\": \"choropleth\"}], \"contour\": [{\"colorbar\": {\"outlinewidth\": 0, \"ticks\": \"\"}, \"colorscale\": [[0.0, \"#0d0887\"], [0.1111111111111111, \"#46039f\"], [0.2222222222222222, \"#7201a8\"], [0.3333333333333333, \"#9c179e\"], [0.4444444444444444, \"#bd3786\"], [0.5555555555555556, \"#d8576b\"], [0.6666666666666666, \"#ed7953\"], [0.7777777777777778, \"#fb9f3a\"], [0.8888888888888888, \"#fdca26\"], [1.0, \"#f0f921\"]], \"type\": \"contour\"}], \"contourcarpet\": [{\"colorbar\": {\"outlinewidth\": 0, \"ticks\": \"\"}, \"type\": \"contourcarpet\"}], \"heatmap\": [{\"colorbar\": {\"outlinewidth\": 0, \"ticks\": \"\"}, \"colorscale\": [[0.0, \"#0d0887\"], [0.1111111111111111, \"#46039f\"], [0.2222222222222222, \"#7201a8\"], [0.3333333333333333, \"#9c179e\"], [0.4444444444444444, \"#bd3786\"], [0.5555555555555556, \"#d8576b\"], [0.6666666666666666, \"#ed7953\"], [0.7777777777777778, \"#fb9f3a\"], [0.8888888888888888, \"#fdca26\"], [1.0, \"#f0f921\"]], \"type\": \"heatmap\"}], \"heatmapgl\": [{\"colorbar\": {\"outlinewidth\": 0, \"ticks\": \"\"}, \"colorscale\": [[0.0, \"#0d0887\"], [0.1111111111111111, \"#46039f\"], [0.2222222222222222, \"#7201a8\"], [0.3333333333333333, \"#9c179e\"], [0.4444444444444444, \"#bd3786\"], [0.5555555555555556, \"#d8576b\"], [0.6666666666666666, \"#ed7953\"], [0.7777777777777778, \"#fb9f3a\"], [0.8888888888888888, \"#fdca26\"], [1.0, \"#f0f921\"]], \"type\": \"heatmapgl\"}], \"histogram\": [{\"marker\": {\"colorbar\": {\"outlinewidth\": 0, \"ticks\": \"\"}}, \"type\": \"histogram\"}], \"histogram2d\": [{\"colorbar\": {\"outlinewidth\": 0, \"ticks\": \"\"}, \"colorscale\": [[0.0, \"#0d0887\"], [0.1111111111111111, \"#46039f\"], [0.2222222222222222, \"#7201a8\"], [0.3333333333333333, \"#9c179e\"], [0.4444444444444444, \"#bd3786\"], [0.5555555555555556, \"#d8576b\"], [0.6666666666666666, \"#ed7953\"], [0.7777777777777778, \"#fb9f3a\"], [0.8888888888888888, \"#fdca26\"], [1.0, \"#f0f921\"]], \"type\": \"histogram2d\"}], \"histogram2dcontour\": [{\"colorbar\": {\"outlinewidth\": 0, \"ticks\": \"\"}, \"colorscale\": [[0.0, \"#0d0887\"], [0.1111111111111111, \"#46039f\"], [0.2222222222222222, \"#7201a8\"], [0.3333333333333333, \"#9c179e\"], [0.4444444444444444, \"#bd3786\"], [0.5555555555555556, \"#d8576b\"], [0.6666666666666666, \"#ed7953\"], [0.7777777777777778, \"#fb9f3a\"], [0.8888888888888888, \"#fdca26\"], [1.0, \"#f0f921\"]], \"type\": \"histogram2dcontour\"}], \"mesh3d\": [{\"colorbar\": {\"outlinewidth\": 0, \"ticks\": \"\"}, \"type\": \"mesh3d\"}], \"parcoords\": [{\"line\": {\"colorbar\": {\"outlinewidth\": 0, \"ticks\": \"\"}}, \"type\": \"parcoords\"}], \"pie\": [{\"automargin\": true, \"type\": \"pie\"}], \"scatter\": [{\"marker\": {\"colorbar\": {\"outlinewidth\": 0, \"ticks\": \"\"}}, \"type\": \"scatter\"}], \"scatter3d\": [{\"line\": {\"colorbar\": {\"outlinewidth\": 0, \"ticks\": \"\"}}, \"marker\": {\"colorbar\": {\"outlinewidth\": 0, \"ticks\": \"\"}}, \"type\": \"scatter3d\"}], \"scattercarpet\": [{\"marker\": {\"colorbar\": {\"outlinewidth\": 0, \"ticks\": \"\"}}, \"type\": \"scattercarpet\"}], \"scattergeo\": [{\"marker\": {\"colorbar\": {\"outlinewidth\": 0, \"ticks\": \"\"}}, \"type\": \"scattergeo\"}], \"scattergl\": [{\"marker\": {\"colorbar\": {\"outlinewidth\": 0, \"ticks\": \"\"}}, \"type\": \"scattergl\"}], \"scattermapbox\": [{\"marker\": {\"colorbar\": {\"outlinewidth\": 0, \"ticks\": \"\"}}, \"type\": \"scattermapbox\"}], \"scatterpolar\": [{\"marker\": {\"colorbar\": {\"outlinewidth\": 0, \"ticks\": \"\"}}, \"type\": \"scatterpolar\"}], \"scatterpolargl\": [{\"marker\": {\"colorbar\": {\"outlinewidth\": 0, \"ticks\": \"\"}}, \"type\": \"scatterpolargl\"}], \"scatterternary\": [{\"marker\": {\"colorbar\": {\"outlinewidth\": 0, \"ticks\": \"\"}}, \"type\": \"scatterternary\"}], \"surface\": [{\"colorbar\": {\"outlinewidth\": 0, \"ticks\": \"\"}, \"colorscale\": [[0.0, \"#0d0887\"], [0.1111111111111111, \"#46039f\"], [0.2222222222222222, \"#7201a8\"], [0.3333333333333333, \"#9c179e\"], [0.4444444444444444, \"#bd3786\"], [0.5555555555555556, \"#d8576b\"], [0.6666666666666666, \"#ed7953\"], [0.7777777777777778, \"#fb9f3a\"], [0.8888888888888888, \"#fdca26\"], [1.0, \"#f0f921\"]], \"type\": \"surface\"}], \"table\": [{\"cells\": {\"fill\": {\"color\": \"#EBF0F8\"}, \"line\": {\"color\": \"white\"}}, \"header\": {\"fill\": {\"color\": \"#C8D4E3\"}, \"line\": {\"color\": \"white\"}}, \"type\": \"table\"}]}, \"layout\": {\"annotationdefaults\": {\"arrowcolor\": \"#2a3f5f\", \"arrowhead\": 0, \"arrowwidth\": 1}, \"coloraxis\": {\"colorbar\": {\"outlinewidth\": 0, \"ticks\": \"\"}}, \"colorscale\": {\"diverging\": [[0, \"#8e0152\"], [0.1, \"#c51b7d\"], [0.2, \"#de77ae\"], [0.3, \"#f1b6da\"], [0.4, \"#fde0ef\"], [0.5, \"#f7f7f7\"], [0.6, \"#e6f5d0\"], [0.7, \"#b8e186\"], [0.8, \"#7fbc41\"], [0.9, \"#4d9221\"], [1, \"#276419\"]], \"sequential\": [[0.0, \"#0d0887\"], [0.1111111111111111, \"#46039f\"], [0.2222222222222222, \"#7201a8\"], [0.3333333333333333, \"#9c179e\"], [0.4444444444444444, \"#bd3786\"], [0.5555555555555556, \"#d8576b\"], [0.6666666666666666, \"#ed7953\"], [0.7777777777777778, \"#fb9f3a\"], [0.8888888888888888, \"#fdca26\"], [1.0, \"#f0f921\"]], \"sequentialminus\": [[0.0, \"#0d0887\"], [0.1111111111111111, \"#46039f\"], [0.2222222222222222, \"#7201a8\"], [0.3333333333333333, \"#9c179e\"], [0.4444444444444444, \"#bd3786\"], [0.5555555555555556, \"#d8576b\"], [0.6666666666666666, \"#ed7953\"], [0.7777777777777778, \"#fb9f3a\"], [0.8888888888888888, \"#fdca26\"], [1.0, \"#f0f921\"]]}, \"colorway\": [\"#636efa\", \"#EF553B\", \"#00cc96\", \"#ab63fa\", \"#FFA15A\", \"#19d3f3\", \"#FF6692\", \"#B6E880\", \"#FF97FF\", \"#FECB52\"], \"font\": {\"color\": \"#2a3f5f\"}, \"geo\": {\"bgcolor\": \"white\", \"lakecolor\": \"white\", \"landcolor\": \"#E5ECF6\", \"showlakes\": true, \"showland\": true, \"subunitcolor\": \"white\"}, \"hoverlabel\": {\"align\": \"left\"}, \"hovermode\": \"closest\", \"mapbox\": {\"style\": \"light\"}, \"paper_bgcolor\": \"white\", \"plot_bgcolor\": \"#E5ECF6\", \"polar\": {\"angularaxis\": {\"gridcolor\": \"white\", \"linecolor\": \"white\", \"ticks\": \"\"}, \"bgcolor\": \"#E5ECF6\", \"radialaxis\": {\"gridcolor\": \"white\", \"linecolor\": \"white\", \"ticks\": \"\"}}, \"scene\": {\"xaxis\": {\"backgroundcolor\": \"#E5ECF6\", \"gridcolor\": \"white\", \"gridwidth\": 2, \"linecolor\": \"white\", \"showbackground\": true, \"ticks\": \"\", \"zerolinecolor\": \"white\"}, \"yaxis\": {\"backgroundcolor\": \"#E5ECF6\", \"gridcolor\": \"white\", \"gridwidth\": 2, \"linecolor\": \"white\", \"showbackground\": true, \"ticks\": \"\", \"zerolinecolor\": \"white\"}, \"zaxis\": {\"backgroundcolor\": \"#E5ECF6\", \"gridcolor\": \"white\", \"gridwidth\": 2, \"linecolor\": \"white\", \"showbackground\": true, \"ticks\": \"\", \"zerolinecolor\": \"white\"}}, \"shapedefaults\": {\"line\": {\"color\": \"#2a3f5f\"}}, \"ternary\": {\"aaxis\": {\"gridcolor\": \"white\", \"linecolor\": \"white\", \"ticks\": \"\"}, \"baxis\": {\"gridcolor\": \"white\", \"linecolor\": \"white\", \"ticks\": \"\"}, \"bgcolor\": \"#E5ECF6\", \"caxis\": {\"gridcolor\": \"white\", \"linecolor\": \"white\", \"ticks\": \"\"}}, \"title\": {\"x\": 0.05}, \"xaxis\": {\"automargin\": true, \"gridcolor\": \"white\", \"linecolor\": \"white\", \"ticks\": \"\", \"title\": {\"standoff\": 15}, \"zerolinecolor\": \"white\", \"zerolinewidth\": 2}, \"yaxis\": {\"automargin\": true, \"gridcolor\": \"white\", \"linecolor\": \"white\", \"ticks\": \"\", \"title\": {\"standoff\": 15}, \"zerolinecolor\": \"white\", \"zerolinewidth\": 2}}}, \"xaxis\": {\"anchor\": \"y\", \"domain\": [0.0, 1.0], \"title\": {\"text\": \"EOR_Method\"}}, \"yaxis\": {\"anchor\": \"x\", \"domain\": [0.0, 1.0], \"title\": {\"text\": \"Gravity\"}}},                        {\"responsive\": true}                    ).then(function(){\n",
       "                            \n",
       "var gd = document.getElementById('304ac7b3-1580-4d56-81bb-458e90a17bde');\n",
       "var x = new MutationObserver(function (mutations, observer) {{\n",
       "        var display = window.getComputedStyle(gd).display;\n",
       "        if (!display || display === 'none') {{\n",
       "            console.log([gd, 'removed!']);\n",
       "            Plotly.purge(gd);\n",
       "            observer.disconnect();\n",
       "        }}\n",
       "}});\n",
       "\n",
       "// Listen for the removal of the full notebook cells\n",
       "var notebookContainer = gd.closest('#notebook-container');\n",
       "if (notebookContainer) {{\n",
       "    x.observe(notebookContainer, {childList: true});\n",
       "}}\n",
       "\n",
       "// Listen for the clearing of the current output cell\n",
       "var outputEl = gd.closest('.output');\n",
       "if (outputEl) {{\n",
       "    x.observe(outputEl, {childList: true});\n",
       "}}\n",
       "\n",
       "                        })                };                });            </script>        </div>"
      ]
     },
     "metadata": {},
     "output_type": "display_data"
    }
   ],
   "source": [
    "px.box(data, x=\"EOR_Method\", y=\"Gravity\")"
   ]
  },
  {
   "cell_type": "code",
   "execution_count": 76,
   "metadata": {},
   "outputs": [
    {
     "data": {
      "application/vnd.plotly.v1+json": {
       "config": {
        "plotlyServerURL": "https://plot.ly"
       },
       "data": [
        {
         "alignmentgroup": "True",
         "hovertemplate": "EOR_Method=%{x}<br>Oil_Saturation=%{y}<extra></extra>",
         "legendgroup": "",
         "marker": {
          "color": "#636efa"
         },
         "name": "",
         "notched": false,
         "offsetgroup": "",
         "orientation": "v",
         "showlegend": false,
         "type": "box",
         "x": [
          "Polymer",
          "Steam Injection",
          "CO2 Injection",
          "CO2 Injection",
          "CO2 Injection",
          "CO2 Injection",
          "CO2 Injection",
          "HC injection",
          "HC injection",
          "Steam Injection",
          "Steam Injection",
          "Steam Injection",
          "Steam Injection",
          "Steam Injection",
          "Steam Injection",
          "Steam Injection",
          "Steam Injection",
          "Steam Injection",
          "Steam Injection",
          "Steam Injection",
          "Steam Injection",
          "CO2 Injection",
          "CO2 Injection",
          "CO2 Injection",
          "CO2 Injection",
          "CO2 Injection",
          "CO2 Injection",
          "CO2 Injection",
          "CO2 Injection",
          "CO2 Injection",
          "CO2 Injection",
          "CO2 Injection",
          "HC injection",
          "Combustion",
          "Combustion",
          "Polymer",
          "Steam Injection",
          "Steam Injection",
          "Steam Injection",
          "Steam Injection",
          "Steam Injection",
          "Steam Injection",
          "Steam Injection",
          "Steam Injection",
          "Steam Injection",
          "Steam Injection",
          "Steam Injection",
          "Steam Injection",
          "Steam Injection",
          "Steam Injection",
          "Steam Injection",
          "Steam Injection",
          "Steam Injection",
          "Steam Injection",
          "Steam Injection",
          "Steam Injection",
          "Steam Injection",
          "Steam Injection",
          "Steam Injection",
          "Steam Injection",
          "Steam Injection",
          "Steam Injection",
          "Steam Injection",
          "Steam Injection",
          "Steam Injection",
          "Steam Injection",
          "Steam Injection",
          "Steam Injection",
          "Steam Injection",
          "Steam Injection",
          "Steam Injection",
          "Steam Injection",
          "Steam Injection",
          "Steam Injection",
          "Steam Injection",
          "Steam Injection",
          "Steam Injection",
          "Steam Injection",
          "Steam Injection",
          "Steam Injection",
          "Steam Injection",
          "Steam Injection",
          "Steam Injection",
          "Steam Injection",
          "Steam Injection",
          "Steam Injection",
          "Steam Injection",
          "Steam Injection",
          "Steam Injection",
          "CO2 Injection",
          "CO2 Injection",
          "CO2 Injection",
          "CO2 Injection",
          "CO2 Injection",
          "CO2 Injection",
          "CO2 Injection",
          "CO2 Injection",
          "CO2 Injection",
          "CO2 Injection",
          "CO2 Injection",
          "CO2 Injection",
          "CO2 Injection",
          "CO2 Injection",
          "CO2 Injection",
          "CO2 Injection",
          "CO2 Injection",
          "CO2 Injection",
          "CO2 Injection",
          "CO2 Injection",
          "CO2 Injection",
          "CO2 Injection",
          "CO2 Injection",
          "CO2 Injection",
          "CO2 Injection",
          "CO2 Injection",
          "CO2 Injection",
          "CO2 Injection",
          "CO2 Injection",
          "CO2 Injection",
          "CO2 Injection",
          "CO2 Injection",
          "CO2 Injection",
          "CO2 Injection",
          "CO2 Injection",
          "CO2 Injection",
          "CO2 Injection",
          "CO2 Injection",
          "CO2 Injection",
          "CO2 Injection",
          "CO2 Injection",
          "CO2 Injection",
          "CO2 Injection",
          "CO2 Injection",
          "CO2 Injection",
          "CO2 Injection",
          "CO2 Injection",
          "CO2 Injection",
          "CO2 Injection",
          "HC injection",
          "HC injection",
          "HC injection",
          "HC injection",
          "HC injection",
          "HC injection",
          "HC injection",
          "HC injection",
          "HC injection",
          "HC injection",
          "HC injection",
          "HC injection",
          "HC injection",
          "HC injection",
          "HC injection",
          "HC injection",
          "HC injection",
          "HC injection",
          "HC injection",
          "HC injection",
          "HC injection",
          "HC injection",
          "HC injection",
          "HC injection",
          "HC injection",
          "Combustion",
          "Combustion",
          "Combustion",
          "Combustion",
          "Combustion",
          "Combustion",
          "Combustion",
          "Combustion",
          "Combustion",
          "Combustion",
          "Combustion",
          "Polymer",
          "Polymer",
          "Polymer",
          "Polymer",
          "Polymer",
          "Polymer",
          "Polymer",
          "Steam Injection",
          "Steam Injection",
          "Steam Injection",
          "Steam Injection",
          "Steam Injection",
          "Steam Injection",
          "Steam Injection",
          "Steam Injection",
          "Steam Injection",
          "Steam Injection",
          "Steam Injection",
          "CO2 Injection",
          "CO2 Injection",
          "CO2 Injection",
          "CO2 Injection",
          "CO2 Injection",
          "CO2 Injection",
          "HC injection",
          "HC injection",
          "Steam Injection",
          "Steam Injection",
          "CO2 Injection"
         ],
         "x0": " ",
         "xaxis": "x",
         "y": [
          50,
          57,
          60,
          35,
          39,
          50,
          35,
          67,
          67,
          45,
          50,
          65,
          85,
          55,
          48,
          70,
          70,
          7,
          70,
          58,
          75,
          30,
          45,
          45,
          55,
          60,
          60,
          60,
          60,
          32,
          37,
          45,
          45,
          85,
          83,
          32,
          60,
          55,
          65,
          60,
          60,
          70,
          70,
          60,
          75,
          65,
          75,
          60,
          55,
          55,
          60,
          70,
          70,
          60,
          50,
          53,
          60,
          50,
          60,
          44,
          50,
          46,
          85,
          50,
          45,
          50,
          80,
          65,
          70,
          58,
          90,
          60,
          85,
          70,
          0.8,
          80,
          76,
          70,
          70,
          70,
          80,
          50,
          70,
          80,
          70,
          62,
          60,
          75,
          78,
          70,
          80,
          49,
          50,
          50,
          46,
          40,
          55,
          49,
          40,
          38,
          43,
          89,
          40,
          48,
          38,
          47,
          47,
          47,
          40,
          47,
          42,
          70,
          50,
          75,
          51,
          49,
          56,
          30,
          65,
          80,
          80,
          43,
          80,
          26.5,
          60,
          60,
          60,
          60,
          54.4,
          42,
          86,
          30,
          60,
          60,
          75,
          75,
          38,
          50,
          50,
          45,
          80,
          80,
          70,
          70,
          75,
          75,
          55,
          30,
          92,
          52,
          52,
          50,
          80,
          82,
          88,
          93,
          84,
          87,
          91,
          93,
          90,
          88,
          73.5,
          94,
          52,
          50,
          50,
          55,
          55,
          55,
          55,
          55,
          75,
          88,
          32,
          32,
          39,
          32,
          53,
          70,
          75,
          60,
          60,
          65,
          65,
          85,
          60,
          85,
          70,
          70,
          50,
          80,
          60,
          60,
          60,
          60,
          50,
          50,
          65,
          65,
          85,
          60,
          30
         ],
         "y0": " ",
         "yaxis": "y"
        }
       ],
       "layout": {
        "boxmode": "group",
        "legend": {
         "tracegroupgap": 0
        },
        "margin": {
         "t": 60
        },
        "template": {
         "data": {
          "bar": [
           {
            "error_x": {
             "color": "#2a3f5f"
            },
            "error_y": {
             "color": "#2a3f5f"
            },
            "marker": {
             "line": {
              "color": "#E5ECF6",
              "width": 0.5
             }
            },
            "type": "bar"
           }
          ],
          "barpolar": [
           {
            "marker": {
             "line": {
              "color": "#E5ECF6",
              "width": 0.5
             }
            },
            "type": "barpolar"
           }
          ],
          "carpet": [
           {
            "aaxis": {
             "endlinecolor": "#2a3f5f",
             "gridcolor": "white",
             "linecolor": "white",
             "minorgridcolor": "white",
             "startlinecolor": "#2a3f5f"
            },
            "baxis": {
             "endlinecolor": "#2a3f5f",
             "gridcolor": "white",
             "linecolor": "white",
             "minorgridcolor": "white",
             "startlinecolor": "#2a3f5f"
            },
            "type": "carpet"
           }
          ],
          "choropleth": [
           {
            "colorbar": {
             "outlinewidth": 0,
             "ticks": ""
            },
            "type": "choropleth"
           }
          ],
          "contour": [
           {
            "colorbar": {
             "outlinewidth": 0,
             "ticks": ""
            },
            "colorscale": [
             [
              0,
              "#0d0887"
             ],
             [
              0.1111111111111111,
              "#46039f"
             ],
             [
              0.2222222222222222,
              "#7201a8"
             ],
             [
              0.3333333333333333,
              "#9c179e"
             ],
             [
              0.4444444444444444,
              "#bd3786"
             ],
             [
              0.5555555555555556,
              "#d8576b"
             ],
             [
              0.6666666666666666,
              "#ed7953"
             ],
             [
              0.7777777777777778,
              "#fb9f3a"
             ],
             [
              0.8888888888888888,
              "#fdca26"
             ],
             [
              1,
              "#f0f921"
             ]
            ],
            "type": "contour"
           }
          ],
          "contourcarpet": [
           {
            "colorbar": {
             "outlinewidth": 0,
             "ticks": ""
            },
            "type": "contourcarpet"
           }
          ],
          "heatmap": [
           {
            "colorbar": {
             "outlinewidth": 0,
             "ticks": ""
            },
            "colorscale": [
             [
              0,
              "#0d0887"
             ],
             [
              0.1111111111111111,
              "#46039f"
             ],
             [
              0.2222222222222222,
              "#7201a8"
             ],
             [
              0.3333333333333333,
              "#9c179e"
             ],
             [
              0.4444444444444444,
              "#bd3786"
             ],
             [
              0.5555555555555556,
              "#d8576b"
             ],
             [
              0.6666666666666666,
              "#ed7953"
             ],
             [
              0.7777777777777778,
              "#fb9f3a"
             ],
             [
              0.8888888888888888,
              "#fdca26"
             ],
             [
              1,
              "#f0f921"
             ]
            ],
            "type": "heatmap"
           }
          ],
          "heatmapgl": [
           {
            "colorbar": {
             "outlinewidth": 0,
             "ticks": ""
            },
            "colorscale": [
             [
              0,
              "#0d0887"
             ],
             [
              0.1111111111111111,
              "#46039f"
             ],
             [
              0.2222222222222222,
              "#7201a8"
             ],
             [
              0.3333333333333333,
              "#9c179e"
             ],
             [
              0.4444444444444444,
              "#bd3786"
             ],
             [
              0.5555555555555556,
              "#d8576b"
             ],
             [
              0.6666666666666666,
              "#ed7953"
             ],
             [
              0.7777777777777778,
              "#fb9f3a"
             ],
             [
              0.8888888888888888,
              "#fdca26"
             ],
             [
              1,
              "#f0f921"
             ]
            ],
            "type": "heatmapgl"
           }
          ],
          "histogram": [
           {
            "marker": {
             "colorbar": {
              "outlinewidth": 0,
              "ticks": ""
             }
            },
            "type": "histogram"
           }
          ],
          "histogram2d": [
           {
            "colorbar": {
             "outlinewidth": 0,
             "ticks": ""
            },
            "colorscale": [
             [
              0,
              "#0d0887"
             ],
             [
              0.1111111111111111,
              "#46039f"
             ],
             [
              0.2222222222222222,
              "#7201a8"
             ],
             [
              0.3333333333333333,
              "#9c179e"
             ],
             [
              0.4444444444444444,
              "#bd3786"
             ],
             [
              0.5555555555555556,
              "#d8576b"
             ],
             [
              0.6666666666666666,
              "#ed7953"
             ],
             [
              0.7777777777777778,
              "#fb9f3a"
             ],
             [
              0.8888888888888888,
              "#fdca26"
             ],
             [
              1,
              "#f0f921"
             ]
            ],
            "type": "histogram2d"
           }
          ],
          "histogram2dcontour": [
           {
            "colorbar": {
             "outlinewidth": 0,
             "ticks": ""
            },
            "colorscale": [
             [
              0,
              "#0d0887"
             ],
             [
              0.1111111111111111,
              "#46039f"
             ],
             [
              0.2222222222222222,
              "#7201a8"
             ],
             [
              0.3333333333333333,
              "#9c179e"
             ],
             [
              0.4444444444444444,
              "#bd3786"
             ],
             [
              0.5555555555555556,
              "#d8576b"
             ],
             [
              0.6666666666666666,
              "#ed7953"
             ],
             [
              0.7777777777777778,
              "#fb9f3a"
             ],
             [
              0.8888888888888888,
              "#fdca26"
             ],
             [
              1,
              "#f0f921"
             ]
            ],
            "type": "histogram2dcontour"
           }
          ],
          "mesh3d": [
           {
            "colorbar": {
             "outlinewidth": 0,
             "ticks": ""
            },
            "type": "mesh3d"
           }
          ],
          "parcoords": [
           {
            "line": {
             "colorbar": {
              "outlinewidth": 0,
              "ticks": ""
             }
            },
            "type": "parcoords"
           }
          ],
          "pie": [
           {
            "automargin": true,
            "type": "pie"
           }
          ],
          "scatter": [
           {
            "marker": {
             "colorbar": {
              "outlinewidth": 0,
              "ticks": ""
             }
            },
            "type": "scatter"
           }
          ],
          "scatter3d": [
           {
            "line": {
             "colorbar": {
              "outlinewidth": 0,
              "ticks": ""
             }
            },
            "marker": {
             "colorbar": {
              "outlinewidth": 0,
              "ticks": ""
             }
            },
            "type": "scatter3d"
           }
          ],
          "scattercarpet": [
           {
            "marker": {
             "colorbar": {
              "outlinewidth": 0,
              "ticks": ""
             }
            },
            "type": "scattercarpet"
           }
          ],
          "scattergeo": [
           {
            "marker": {
             "colorbar": {
              "outlinewidth": 0,
              "ticks": ""
             }
            },
            "type": "scattergeo"
           }
          ],
          "scattergl": [
           {
            "marker": {
             "colorbar": {
              "outlinewidth": 0,
              "ticks": ""
             }
            },
            "type": "scattergl"
           }
          ],
          "scattermapbox": [
           {
            "marker": {
             "colorbar": {
              "outlinewidth": 0,
              "ticks": ""
             }
            },
            "type": "scattermapbox"
           }
          ],
          "scatterpolar": [
           {
            "marker": {
             "colorbar": {
              "outlinewidth": 0,
              "ticks": ""
             }
            },
            "type": "scatterpolar"
           }
          ],
          "scatterpolargl": [
           {
            "marker": {
             "colorbar": {
              "outlinewidth": 0,
              "ticks": ""
             }
            },
            "type": "scatterpolargl"
           }
          ],
          "scatterternary": [
           {
            "marker": {
             "colorbar": {
              "outlinewidth": 0,
              "ticks": ""
             }
            },
            "type": "scatterternary"
           }
          ],
          "surface": [
           {
            "colorbar": {
             "outlinewidth": 0,
             "ticks": ""
            },
            "colorscale": [
             [
              0,
              "#0d0887"
             ],
             [
              0.1111111111111111,
              "#46039f"
             ],
             [
              0.2222222222222222,
              "#7201a8"
             ],
             [
              0.3333333333333333,
              "#9c179e"
             ],
             [
              0.4444444444444444,
              "#bd3786"
             ],
             [
              0.5555555555555556,
              "#d8576b"
             ],
             [
              0.6666666666666666,
              "#ed7953"
             ],
             [
              0.7777777777777778,
              "#fb9f3a"
             ],
             [
              0.8888888888888888,
              "#fdca26"
             ],
             [
              1,
              "#f0f921"
             ]
            ],
            "type": "surface"
           }
          ],
          "table": [
           {
            "cells": {
             "fill": {
              "color": "#EBF0F8"
             },
             "line": {
              "color": "white"
             }
            },
            "header": {
             "fill": {
              "color": "#C8D4E3"
             },
             "line": {
              "color": "white"
             }
            },
            "type": "table"
           }
          ]
         },
         "layout": {
          "annotationdefaults": {
           "arrowcolor": "#2a3f5f",
           "arrowhead": 0,
           "arrowwidth": 1
          },
          "coloraxis": {
           "colorbar": {
            "outlinewidth": 0,
            "ticks": ""
           }
          },
          "colorscale": {
           "diverging": [
            [
             0,
             "#8e0152"
            ],
            [
             0.1,
             "#c51b7d"
            ],
            [
             0.2,
             "#de77ae"
            ],
            [
             0.3,
             "#f1b6da"
            ],
            [
             0.4,
             "#fde0ef"
            ],
            [
             0.5,
             "#f7f7f7"
            ],
            [
             0.6,
             "#e6f5d0"
            ],
            [
             0.7,
             "#b8e186"
            ],
            [
             0.8,
             "#7fbc41"
            ],
            [
             0.9,
             "#4d9221"
            ],
            [
             1,
             "#276419"
            ]
           ],
           "sequential": [
            [
             0,
             "#0d0887"
            ],
            [
             0.1111111111111111,
             "#46039f"
            ],
            [
             0.2222222222222222,
             "#7201a8"
            ],
            [
             0.3333333333333333,
             "#9c179e"
            ],
            [
             0.4444444444444444,
             "#bd3786"
            ],
            [
             0.5555555555555556,
             "#d8576b"
            ],
            [
             0.6666666666666666,
             "#ed7953"
            ],
            [
             0.7777777777777778,
             "#fb9f3a"
            ],
            [
             0.8888888888888888,
             "#fdca26"
            ],
            [
             1,
             "#f0f921"
            ]
           ],
           "sequentialminus": [
            [
             0,
             "#0d0887"
            ],
            [
             0.1111111111111111,
             "#46039f"
            ],
            [
             0.2222222222222222,
             "#7201a8"
            ],
            [
             0.3333333333333333,
             "#9c179e"
            ],
            [
             0.4444444444444444,
             "#bd3786"
            ],
            [
             0.5555555555555556,
             "#d8576b"
            ],
            [
             0.6666666666666666,
             "#ed7953"
            ],
            [
             0.7777777777777778,
             "#fb9f3a"
            ],
            [
             0.8888888888888888,
             "#fdca26"
            ],
            [
             1,
             "#f0f921"
            ]
           ]
          },
          "colorway": [
           "#636efa",
           "#EF553B",
           "#00cc96",
           "#ab63fa",
           "#FFA15A",
           "#19d3f3",
           "#FF6692",
           "#B6E880",
           "#FF97FF",
           "#FECB52"
          ],
          "font": {
           "color": "#2a3f5f"
          },
          "geo": {
           "bgcolor": "white",
           "lakecolor": "white",
           "landcolor": "#E5ECF6",
           "showlakes": true,
           "showland": true,
           "subunitcolor": "white"
          },
          "hoverlabel": {
           "align": "left"
          },
          "hovermode": "closest",
          "mapbox": {
           "style": "light"
          },
          "paper_bgcolor": "white",
          "plot_bgcolor": "#E5ECF6",
          "polar": {
           "angularaxis": {
            "gridcolor": "white",
            "linecolor": "white",
            "ticks": ""
           },
           "bgcolor": "#E5ECF6",
           "radialaxis": {
            "gridcolor": "white",
            "linecolor": "white",
            "ticks": ""
           }
          },
          "scene": {
           "xaxis": {
            "backgroundcolor": "#E5ECF6",
            "gridcolor": "white",
            "gridwidth": 2,
            "linecolor": "white",
            "showbackground": true,
            "ticks": "",
            "zerolinecolor": "white"
           },
           "yaxis": {
            "backgroundcolor": "#E5ECF6",
            "gridcolor": "white",
            "gridwidth": 2,
            "linecolor": "white",
            "showbackground": true,
            "ticks": "",
            "zerolinecolor": "white"
           },
           "zaxis": {
            "backgroundcolor": "#E5ECF6",
            "gridcolor": "white",
            "gridwidth": 2,
            "linecolor": "white",
            "showbackground": true,
            "ticks": "",
            "zerolinecolor": "white"
           }
          },
          "shapedefaults": {
           "line": {
            "color": "#2a3f5f"
           }
          },
          "ternary": {
           "aaxis": {
            "gridcolor": "white",
            "linecolor": "white",
            "ticks": ""
           },
           "baxis": {
            "gridcolor": "white",
            "linecolor": "white",
            "ticks": ""
           },
           "bgcolor": "#E5ECF6",
           "caxis": {
            "gridcolor": "white",
            "linecolor": "white",
            "ticks": ""
           }
          },
          "title": {
           "x": 0.05
          },
          "xaxis": {
           "automargin": true,
           "gridcolor": "white",
           "linecolor": "white",
           "ticks": "",
           "title": {
            "standoff": 15
           },
           "zerolinecolor": "white",
           "zerolinewidth": 2
          },
          "yaxis": {
           "automargin": true,
           "gridcolor": "white",
           "linecolor": "white",
           "ticks": "",
           "title": {
            "standoff": 15
           },
           "zerolinecolor": "white",
           "zerolinewidth": 2
          }
         }
        },
        "xaxis": {
         "anchor": "y",
         "domain": [
          0,
          1
         ],
         "title": {
          "text": "EOR_Method"
         }
        },
        "yaxis": {
         "anchor": "x",
         "domain": [
          0,
          1
         ],
         "title": {
          "text": "Oil_Saturation"
         }
        }
       }
      },
      "text/html": [
       "<div>                            <div id=\"55f73639-3fa5-4d1b-bf68-14ef9a9eb694\" class=\"plotly-graph-div\" style=\"height:525px; width:100%;\"></div>            <script type=\"text/javascript\">                require([\"plotly\"], function(Plotly) {                    window.PLOTLYENV=window.PLOTLYENV || {};                                    if (document.getElementById(\"55f73639-3fa5-4d1b-bf68-14ef9a9eb694\")) {                    Plotly.newPlot(                        \"55f73639-3fa5-4d1b-bf68-14ef9a9eb694\",                        [{\"alignmentgroup\": \"True\", \"hovertemplate\": \"EOR_Method=%{x}<br>Oil_Saturation=%{y}<extra></extra>\", \"legendgroup\": \"\", \"marker\": {\"color\": \"#636efa\"}, \"name\": \"\", \"notched\": false, \"offsetgroup\": \"\", \"orientation\": \"v\", \"showlegend\": false, \"type\": \"box\", \"x\": [\"Polymer\", \"Steam Injection\", \"CO2 Injection\", \"CO2 Injection\", \"CO2 Injection\", \"CO2 Injection\", \"CO2 Injection\", \"HC injection\", \"HC injection\", \"Steam Injection\", \"Steam Injection\", \"Steam Injection\", \"Steam Injection\", \"Steam Injection\", \"Steam Injection\", \"Steam Injection\", \"Steam Injection\", \"Steam Injection\", \"Steam Injection\", \"Steam Injection\", \"Steam Injection\", \"CO2 Injection\", \"CO2 Injection\", \"CO2 Injection\", \"CO2 Injection\", \"CO2 Injection\", \"CO2 Injection\", \"CO2 Injection\", \"CO2 Injection\", \"CO2 Injection\", \"CO2 Injection\", \"CO2 Injection\", \"HC injection\", \"Combustion\", \"Combustion\", \"Polymer\", \"Steam Injection\", \"Steam Injection\", \"Steam Injection\", \"Steam Injection\", \"Steam Injection\", \"Steam Injection\", \"Steam Injection\", \"Steam Injection\", \"Steam Injection\", \"Steam Injection\", \"Steam Injection\", \"Steam Injection\", \"Steam Injection\", \"Steam Injection\", \"Steam Injection\", \"Steam Injection\", \"Steam Injection\", \"Steam Injection\", \"Steam Injection\", \"Steam Injection\", \"Steam Injection\", \"Steam Injection\", \"Steam Injection\", \"Steam Injection\", \"Steam Injection\", \"Steam Injection\", \"Steam Injection\", \"Steam Injection\", \"Steam Injection\", \"Steam Injection\", \"Steam Injection\", \"Steam Injection\", \"Steam Injection\", \"Steam Injection\", \"Steam Injection\", \"Steam Injection\", \"Steam Injection\", \"Steam Injection\", \"Steam Injection\", \"Steam Injection\", \"Steam Injection\", \"Steam Injection\", \"Steam Injection\", \"Steam Injection\", \"Steam Injection\", \"Steam Injection\", \"Steam Injection\", \"Steam Injection\", \"Steam Injection\", \"Steam Injection\", \"Steam Injection\", \"Steam Injection\", \"Steam Injection\", \"CO2 Injection\", \"CO2 Injection\", \"CO2 Injection\", \"CO2 Injection\", \"CO2 Injection\", \"CO2 Injection\", \"CO2 Injection\", \"CO2 Injection\", \"CO2 Injection\", \"CO2 Injection\", \"CO2 Injection\", \"CO2 Injection\", \"CO2 Injection\", \"CO2 Injection\", \"CO2 Injection\", \"CO2 Injection\", \"CO2 Injection\", \"CO2 Injection\", \"CO2 Injection\", \"CO2 Injection\", \"CO2 Injection\", \"CO2 Injection\", \"CO2 Injection\", \"CO2 Injection\", \"CO2 Injection\", \"CO2 Injection\", \"CO2 Injection\", \"CO2 Injection\", \"CO2 Injection\", \"CO2 Injection\", \"CO2 Injection\", \"CO2 Injection\", \"CO2 Injection\", \"CO2 Injection\", \"CO2 Injection\", \"CO2 Injection\", \"CO2 Injection\", \"CO2 Injection\", \"CO2 Injection\", \"CO2 Injection\", \"CO2 Injection\", \"CO2 Injection\", \"CO2 Injection\", \"CO2 Injection\", \"CO2 Injection\", \"CO2 Injection\", \"CO2 Injection\", \"CO2 Injection\", \"CO2 Injection\", \"HC injection\", \"HC injection\", \"HC injection\", \"HC injection\", \"HC injection\", \"HC injection\", \"HC injection\", \"HC injection\", \"HC injection\", \"HC injection\", \"HC injection\", \"HC injection\", \"HC injection\", \"HC injection\", \"HC injection\", \"HC injection\", \"HC injection\", \"HC injection\", \"HC injection\", \"HC injection\", \"HC injection\", \"HC injection\", \"HC injection\", \"HC injection\", \"HC injection\", \"Combustion\", \"Combustion\", \"Combustion\", \"Combustion\", \"Combustion\", \"Combustion\", \"Combustion\", \"Combustion\", \"Combustion\", \"Combustion\", \"Combustion\", \"Polymer\", \"Polymer\", \"Polymer\", \"Polymer\", \"Polymer\", \"Polymer\", \"Polymer\", \"Steam Injection\", \"Steam Injection\", \"Steam Injection\", \"Steam Injection\", \"Steam Injection\", \"Steam Injection\", \"Steam Injection\", \"Steam Injection\", \"Steam Injection\", \"Steam Injection\", \"Steam Injection\", \"CO2 Injection\", \"CO2 Injection\", \"CO2 Injection\", \"CO2 Injection\", \"CO2 Injection\", \"CO2 Injection\", \"HC injection\", \"HC injection\", \"Steam Injection\", \"Steam Injection\", \"CO2 Injection\"], \"x0\": \" \", \"xaxis\": \"x\", \"y\": [50.0, 57.0, 60.0, 35.0, 39.0, 50.0, 35.0, 67.0, 67.0, 45.0, 50.0, 65.0, 85.0, 55.0, 48.0, 70.0, 70.0, 7.0, 70.0, 58.0, 75.0, 30.0, 45.0, 45.0, 55.0, 60.0, 60.0, 60.0, 60.0, 32.0, 37.0, 45.0, 45.0, 85.0, 83.0, 32.0, 60.0, 55.0, 65.0, 60.0, 60.0, 70.0, 70.0, 60.0, 75.0, 65.0, 75.0, 60.0, 55.0, 55.0, 60.0, 70.0, 70.0, 60.0, 50.0, 53.0, 60.0, 50.0, 60.0, 44.0, 50.0, 46.0, 85.0, 50.0, 45.0, 50.0, 80.0, 65.0, 70.0, 58.0, 90.0, 60.0, 85.0, 70.0, 0.8, 80.0, 76.0, 70.0, 70.0, 70.0, 80.0, 50.0, 70.0, 80.0, 70.0, 62.0, 60.0, 75.0, 78.0, 70.0, 80.0, 49.0, 50.0, 50.0, 46.0, 40.0, 55.0, 49.0, 40.0, 38.0, 43.0, 89.0, 40.0, 48.0, 38.0, 47.0, 47.0, 47.0, 40.0, 47.0, 42.0, 70.0, 50.0, 75.0, 51.0, 49.0, 56.0, 30.0, 65.0, 80.0, 80.0, 43.0, 80.0, 26.5, 60.0, 60.0, 60.0, 60.0, 54.4, 42.0, 86.0, 30.0, 60.0, 60.0, 75.0, 75.0, 38.0, 50.0, 50.0, 45.0, 80.0, 80.0, 70.0, 70.0, 75.0, 75.0, 55.0, 30.0, 92.0, 52.0, 52.0, 50.0, 80.0, 82.0, 88.0, 93.0, 84.0, 87.0, 91.0, 93.0, 90.0, 88.0, 73.5, 94.0, 52.0, 50.0, 50.0, 55.0, 55.0, 55.0, 55.0, 55.0, 75.0, 88.0, 32.0, 32.0, 39.0, 32.0, 53.0, 70.0, 75.0, 60.0, 60.0, 65.0, 65.0, 85.0, 60.0, 85.0, 70.0, 70.0, 50.0, 80.0, 60.0, 60.0, 60.0, 60.0, 50.0, 50.0, 65.0, 65.0, 85.0, 60.0, 30.0], \"y0\": \" \", \"yaxis\": \"y\"}],                        {\"boxmode\": \"group\", \"legend\": {\"tracegroupgap\": 0}, \"margin\": {\"t\": 60}, \"template\": {\"data\": {\"bar\": [{\"error_x\": {\"color\": \"#2a3f5f\"}, \"error_y\": {\"color\": \"#2a3f5f\"}, \"marker\": {\"line\": {\"color\": \"#E5ECF6\", \"width\": 0.5}}, \"type\": \"bar\"}], \"barpolar\": [{\"marker\": {\"line\": {\"color\": \"#E5ECF6\", \"width\": 0.5}}, \"type\": \"barpolar\"}], \"carpet\": [{\"aaxis\": {\"endlinecolor\": \"#2a3f5f\", \"gridcolor\": \"white\", \"linecolor\": \"white\", \"minorgridcolor\": \"white\", \"startlinecolor\": \"#2a3f5f\"}, \"baxis\": {\"endlinecolor\": \"#2a3f5f\", \"gridcolor\": \"white\", \"linecolor\": \"white\", \"minorgridcolor\": \"white\", \"startlinecolor\": \"#2a3f5f\"}, \"type\": \"carpet\"}], \"choropleth\": [{\"colorbar\": {\"outlinewidth\": 0, \"ticks\": \"\"}, \"type\": \"choropleth\"}], \"contour\": [{\"colorbar\": {\"outlinewidth\": 0, \"ticks\": \"\"}, \"colorscale\": [[0.0, \"#0d0887\"], [0.1111111111111111, \"#46039f\"], [0.2222222222222222, \"#7201a8\"], [0.3333333333333333, \"#9c179e\"], [0.4444444444444444, \"#bd3786\"], [0.5555555555555556, \"#d8576b\"], [0.6666666666666666, \"#ed7953\"], [0.7777777777777778, \"#fb9f3a\"], [0.8888888888888888, \"#fdca26\"], [1.0, \"#f0f921\"]], \"type\": \"contour\"}], \"contourcarpet\": [{\"colorbar\": {\"outlinewidth\": 0, \"ticks\": \"\"}, \"type\": \"contourcarpet\"}], \"heatmap\": [{\"colorbar\": {\"outlinewidth\": 0, \"ticks\": \"\"}, \"colorscale\": [[0.0, \"#0d0887\"], [0.1111111111111111, \"#46039f\"], [0.2222222222222222, \"#7201a8\"], [0.3333333333333333, \"#9c179e\"], [0.4444444444444444, \"#bd3786\"], [0.5555555555555556, \"#d8576b\"], [0.6666666666666666, \"#ed7953\"], [0.7777777777777778, \"#fb9f3a\"], [0.8888888888888888, \"#fdca26\"], [1.0, \"#f0f921\"]], \"type\": \"heatmap\"}], \"heatmapgl\": [{\"colorbar\": {\"outlinewidth\": 0, \"ticks\": \"\"}, \"colorscale\": [[0.0, \"#0d0887\"], [0.1111111111111111, \"#46039f\"], [0.2222222222222222, \"#7201a8\"], [0.3333333333333333, \"#9c179e\"], [0.4444444444444444, \"#bd3786\"], [0.5555555555555556, \"#d8576b\"], [0.6666666666666666, \"#ed7953\"], [0.7777777777777778, \"#fb9f3a\"], [0.8888888888888888, \"#fdca26\"], [1.0, \"#f0f921\"]], \"type\": \"heatmapgl\"}], \"histogram\": [{\"marker\": {\"colorbar\": {\"outlinewidth\": 0, \"ticks\": \"\"}}, \"type\": \"histogram\"}], \"histogram2d\": [{\"colorbar\": {\"outlinewidth\": 0, \"ticks\": \"\"}, \"colorscale\": [[0.0, \"#0d0887\"], [0.1111111111111111, \"#46039f\"], [0.2222222222222222, \"#7201a8\"], [0.3333333333333333, \"#9c179e\"], [0.4444444444444444, \"#bd3786\"], [0.5555555555555556, \"#d8576b\"], [0.6666666666666666, \"#ed7953\"], [0.7777777777777778, \"#fb9f3a\"], [0.8888888888888888, \"#fdca26\"], [1.0, \"#f0f921\"]], \"type\": \"histogram2d\"}], \"histogram2dcontour\": [{\"colorbar\": {\"outlinewidth\": 0, \"ticks\": \"\"}, \"colorscale\": [[0.0, \"#0d0887\"], [0.1111111111111111, \"#46039f\"], [0.2222222222222222, \"#7201a8\"], [0.3333333333333333, \"#9c179e\"], [0.4444444444444444, \"#bd3786\"], [0.5555555555555556, \"#d8576b\"], [0.6666666666666666, \"#ed7953\"], [0.7777777777777778, \"#fb9f3a\"], [0.8888888888888888, \"#fdca26\"], [1.0, \"#f0f921\"]], \"type\": \"histogram2dcontour\"}], \"mesh3d\": [{\"colorbar\": {\"outlinewidth\": 0, \"ticks\": \"\"}, \"type\": \"mesh3d\"}], \"parcoords\": [{\"line\": {\"colorbar\": {\"outlinewidth\": 0, \"ticks\": \"\"}}, \"type\": \"parcoords\"}], \"pie\": [{\"automargin\": true, \"type\": \"pie\"}], \"scatter\": [{\"marker\": {\"colorbar\": {\"outlinewidth\": 0, \"ticks\": \"\"}}, \"type\": \"scatter\"}], \"scatter3d\": [{\"line\": {\"colorbar\": {\"outlinewidth\": 0, \"ticks\": \"\"}}, \"marker\": {\"colorbar\": {\"outlinewidth\": 0, \"ticks\": \"\"}}, \"type\": \"scatter3d\"}], \"scattercarpet\": [{\"marker\": {\"colorbar\": {\"outlinewidth\": 0, \"ticks\": \"\"}}, \"type\": \"scattercarpet\"}], \"scattergeo\": [{\"marker\": {\"colorbar\": {\"outlinewidth\": 0, \"ticks\": \"\"}}, \"type\": \"scattergeo\"}], \"scattergl\": [{\"marker\": {\"colorbar\": {\"outlinewidth\": 0, \"ticks\": \"\"}}, \"type\": \"scattergl\"}], \"scattermapbox\": [{\"marker\": {\"colorbar\": {\"outlinewidth\": 0, \"ticks\": \"\"}}, \"type\": \"scattermapbox\"}], \"scatterpolar\": [{\"marker\": {\"colorbar\": {\"outlinewidth\": 0, \"ticks\": \"\"}}, \"type\": \"scatterpolar\"}], \"scatterpolargl\": [{\"marker\": {\"colorbar\": {\"outlinewidth\": 0, \"ticks\": \"\"}}, \"type\": \"scatterpolargl\"}], \"scatterternary\": [{\"marker\": {\"colorbar\": {\"outlinewidth\": 0, \"ticks\": \"\"}}, \"type\": \"scatterternary\"}], \"surface\": [{\"colorbar\": {\"outlinewidth\": 0, \"ticks\": \"\"}, \"colorscale\": [[0.0, \"#0d0887\"], [0.1111111111111111, \"#46039f\"], [0.2222222222222222, \"#7201a8\"], [0.3333333333333333, \"#9c179e\"], [0.4444444444444444, \"#bd3786\"], [0.5555555555555556, \"#d8576b\"], [0.6666666666666666, \"#ed7953\"], [0.7777777777777778, \"#fb9f3a\"], [0.8888888888888888, \"#fdca26\"], [1.0, \"#f0f921\"]], \"type\": \"surface\"}], \"table\": [{\"cells\": {\"fill\": {\"color\": \"#EBF0F8\"}, \"line\": {\"color\": \"white\"}}, \"header\": {\"fill\": {\"color\": \"#C8D4E3\"}, \"line\": {\"color\": \"white\"}}, \"type\": \"table\"}]}, \"layout\": {\"annotationdefaults\": {\"arrowcolor\": \"#2a3f5f\", \"arrowhead\": 0, \"arrowwidth\": 1}, \"coloraxis\": {\"colorbar\": {\"outlinewidth\": 0, \"ticks\": \"\"}}, \"colorscale\": {\"diverging\": [[0, \"#8e0152\"], [0.1, \"#c51b7d\"], [0.2, \"#de77ae\"], [0.3, \"#f1b6da\"], [0.4, \"#fde0ef\"], [0.5, \"#f7f7f7\"], [0.6, \"#e6f5d0\"], [0.7, \"#b8e186\"], [0.8, \"#7fbc41\"], [0.9, \"#4d9221\"], [1, \"#276419\"]], \"sequential\": [[0.0, \"#0d0887\"], [0.1111111111111111, \"#46039f\"], [0.2222222222222222, \"#7201a8\"], [0.3333333333333333, \"#9c179e\"], [0.4444444444444444, \"#bd3786\"], [0.5555555555555556, \"#d8576b\"], [0.6666666666666666, \"#ed7953\"], [0.7777777777777778, \"#fb9f3a\"], [0.8888888888888888, \"#fdca26\"], [1.0, \"#f0f921\"]], \"sequentialminus\": [[0.0, \"#0d0887\"], [0.1111111111111111, \"#46039f\"], [0.2222222222222222, \"#7201a8\"], [0.3333333333333333, \"#9c179e\"], [0.4444444444444444, \"#bd3786\"], [0.5555555555555556, \"#d8576b\"], [0.6666666666666666, \"#ed7953\"], [0.7777777777777778, \"#fb9f3a\"], [0.8888888888888888, \"#fdca26\"], [1.0, \"#f0f921\"]]}, \"colorway\": [\"#636efa\", \"#EF553B\", \"#00cc96\", \"#ab63fa\", \"#FFA15A\", \"#19d3f3\", \"#FF6692\", \"#B6E880\", \"#FF97FF\", \"#FECB52\"], \"font\": {\"color\": \"#2a3f5f\"}, \"geo\": {\"bgcolor\": \"white\", \"lakecolor\": \"white\", \"landcolor\": \"#E5ECF6\", \"showlakes\": true, \"showland\": true, \"subunitcolor\": \"white\"}, \"hoverlabel\": {\"align\": \"left\"}, \"hovermode\": \"closest\", \"mapbox\": {\"style\": \"light\"}, \"paper_bgcolor\": \"white\", \"plot_bgcolor\": \"#E5ECF6\", \"polar\": {\"angularaxis\": {\"gridcolor\": \"white\", \"linecolor\": \"white\", \"ticks\": \"\"}, \"bgcolor\": \"#E5ECF6\", \"radialaxis\": {\"gridcolor\": \"white\", \"linecolor\": \"white\", \"ticks\": \"\"}}, \"scene\": {\"xaxis\": {\"backgroundcolor\": \"#E5ECF6\", \"gridcolor\": \"white\", \"gridwidth\": 2, \"linecolor\": \"white\", \"showbackground\": true, \"ticks\": \"\", \"zerolinecolor\": \"white\"}, \"yaxis\": {\"backgroundcolor\": \"#E5ECF6\", \"gridcolor\": \"white\", \"gridwidth\": 2, \"linecolor\": \"white\", \"showbackground\": true, \"ticks\": \"\", \"zerolinecolor\": \"white\"}, \"zaxis\": {\"backgroundcolor\": \"#E5ECF6\", \"gridcolor\": \"white\", \"gridwidth\": 2, \"linecolor\": \"white\", \"showbackground\": true, \"ticks\": \"\", \"zerolinecolor\": \"white\"}}, \"shapedefaults\": {\"line\": {\"color\": \"#2a3f5f\"}}, \"ternary\": {\"aaxis\": {\"gridcolor\": \"white\", \"linecolor\": \"white\", \"ticks\": \"\"}, \"baxis\": {\"gridcolor\": \"white\", \"linecolor\": \"white\", \"ticks\": \"\"}, \"bgcolor\": \"#E5ECF6\", \"caxis\": {\"gridcolor\": \"white\", \"linecolor\": \"white\", \"ticks\": \"\"}}, \"title\": {\"x\": 0.05}, \"xaxis\": {\"automargin\": true, \"gridcolor\": \"white\", \"linecolor\": \"white\", \"ticks\": \"\", \"title\": {\"standoff\": 15}, \"zerolinecolor\": \"white\", \"zerolinewidth\": 2}, \"yaxis\": {\"automargin\": true, \"gridcolor\": \"white\", \"linecolor\": \"white\", \"ticks\": \"\", \"title\": {\"standoff\": 15}, \"zerolinecolor\": \"white\", \"zerolinewidth\": 2}}}, \"xaxis\": {\"anchor\": \"y\", \"domain\": [0.0, 1.0], \"title\": {\"text\": \"EOR_Method\"}}, \"yaxis\": {\"anchor\": \"x\", \"domain\": [0.0, 1.0], \"title\": {\"text\": \"Oil_Saturation\"}}},                        {\"responsive\": true}                    ).then(function(){\n",
       "                            \n",
       "var gd = document.getElementById('55f73639-3fa5-4d1b-bf68-14ef9a9eb694');\n",
       "var x = new MutationObserver(function (mutations, observer) {{\n",
       "        var display = window.getComputedStyle(gd).display;\n",
       "        if (!display || display === 'none') {{\n",
       "            console.log([gd, 'removed!']);\n",
       "            Plotly.purge(gd);\n",
       "            observer.disconnect();\n",
       "        }}\n",
       "}});\n",
       "\n",
       "// Listen for the removal of the full notebook cells\n",
       "var notebookContainer = gd.closest('#notebook-container');\n",
       "if (notebookContainer) {{\n",
       "    x.observe(notebookContainer, {childList: true});\n",
       "}}\n",
       "\n",
       "// Listen for the clearing of the current output cell\n",
       "var outputEl = gd.closest('.output');\n",
       "if (outputEl) {{\n",
       "    x.observe(outputEl, {childList: true});\n",
       "}}\n",
       "\n",
       "                        })                };                });            </script>        </div>"
      ]
     },
     "metadata": {},
     "output_type": "display_data"
    }
   ],
   "source": [
    "px.box(data, x=\"EOR_Method\", y=\"Oil_Saturation\")"
   ]
  },
  {
   "cell_type": "markdown",
   "metadata": {},
   "source": [
    "Now, there have been plotted some scatter plots in order to identify the relationships among the feature variables, as well as the presence of outliers."
   ]
  },
  {
   "cell_type": "code",
   "execution_count": 77,
   "metadata": {},
   "outputs": [
    {
     "data": {
      "application/vnd.plotly.v1+json": {
       "config": {
        "plotlyServerURL": "https://plot.ly"
       },
       "data": [
        {
         "hovertemplate": "Temperature=%{x}<br>Permiability=%{y}<extra></extra>",
         "legendgroup": "",
         "marker": {
          "color": "#636efa",
          "symbol": "circle"
         },
         "mode": "markers",
         "name": "",
         "orientation": "v",
         "showlegend": false,
         "type": "scatter",
         "x": [
          102,
          105,
          82,
          97,
          104,
          120,
          98,
          195,
          195,
          110,
          110,
          90,
          54,
          75,
          80,
          55,
          100,
          100,
          100,
          110,
          110,
          165,
          140,
          82,
          105,
          129,
          108,
          83,
          101,
          99,
          152,
          149,
          190,
          200,
          200,
          200,
          95,
          84,
          105,
          82,
          83,
          100,
          100,
          90,
          130,
          104,
          90,
          90,
          130,
          125,
          90,
          85,
          80,
          90,
          100,
          100,
          100,
          100,
          100,
          100,
          90,
          135,
          95,
          90,
          95,
          80,
          1000,
          100,
          80,
          125,
          66,
          60,
          70,
          55,
          63,
          62,
          124,
          100,
          100,
          122,
          110,
          100,
          100,
          100,
          100,
          100,
          100,
          104,
          135,
          117,
          95,
          178,
          181,
          163,
          170,
          148,
          150,
          109,
          102,
          130,
          101,
          108,
          104,
          91,
          123,
          102,
          104,
          125,
          125,
          105,
          105,
          105,
          108,
          105,
          105,
          108,
          105,
          98,
          134,
          105,
          105,
          110,
          105,
          108,
          125,
          142,
          151,
          106,
          110,
          152,
          198,
          164,
          152,
          152,
          82,
          82,
          133,
          120,
          210,
          235,
          150,
          160,
          182,
          180,
          220,
          170,
          230,
          225,
          184,
          183,
          188,
          180,
          204,
          198,
          199,
          198,
          190,
          200,
          196,
          167,
          188,
          188,
          190,
          129.8,
          230,
          215,
          220,
          215,
          215,
          215,
          215,
          215,
          200,
          131,
          105,
          112,
          105,
          99,
          122,
          60,
          63,
          80,
          70,
          75,
          110,
          54,
          55,
          80,
          60,
          100,
          100,
          97,
          102,
          105,
          206,
          128,
          183,
          156,
          85,
          100,
          55,
          129.8,
          225
         ],
         "xaxis": "x",
         "y": [
          40,
          205,
          30,
          20,
          2,
          2,
          3,
          50,
          50,
          3,
          4000,
          1,
          100,
          3048,
          955,
          2000,
          10000,
          10000,
          10000,
          95,
          265,
          1000,
          10,
          50,
          2,
          5,
          6,
          37,
          4,
          30,
          300,
          7.5,
          300,
          10,
          10,
          16,
          2000,
          1000,
          2000,
          2000,
          2000,
          3000,
          3000,
          4500,
          3000,
          300,
          5,
          5000,
          2000,
          2260,
          3500,
          3000,
          2000,
          1500,
          5,
          2700,
          3000,
          1300,
          2250,
          1510,
          2000,
          6700,
          2000,
          2800,
          2000,
          1500,
          1300,
          8000,
          1000,
          1000,
          4000,
          3500,
          7500,
          1500,
          3000,
          1500,
          3000,
          4000,
          3000,
          200,
          20,
          10000,
          10000,
          10000,
          10000,
          2000,
          1600,
          500,
          19,
          75,
          32,
          31,
          4,
          10,
          20,
          5,
          44,
          4,
          5,
          6,
          3,
          2,
          5,
          42,
          5,
          15,
          4,
          12,
          70,
          5,
          2,
          8,
          4,
          4,
          5,
          4,
          4,
          4,
          2,
          8,
          8,
          5,
          2,
          2,
          5,
          48,
          100,
          2,
          6,
          250,
          107,
          500,
          600,
          1800,
          1000,
          175,
          500,
          112,
          400,
          130,
          50,
          100,
          200,
          1300,
          4000,
          40,
          200,
          54,
          300,
          40,
          300,
          1000,
          900,
          2020,
          1060,
          540,
          3100,
          2400,
          1970,
          1375,
          180,
          320,
          160,
          650,
          15,
          10,
          10,
          10,
          10,
          10,
          10,
          10,
          10,
          6600,
          25,
          30,
          75,
          30,
          20,
          3000,
          7000,
          1500,
          1,
          800,
          3500,
          100,
          500,
          1500,
          2000,
          4000,
          10000,
          750,
          10,
          32,
          50,
          20,
          112,
          112,
          150,
          150,
          7000,
          7000,
          54
         ],
         "yaxis": "y"
        }
       ],
       "layout": {
        "legend": {
         "tracegroupgap": 0
        },
        "margin": {
         "t": 60
        },
        "template": {
         "data": {
          "bar": [
           {
            "error_x": {
             "color": "#2a3f5f"
            },
            "error_y": {
             "color": "#2a3f5f"
            },
            "marker": {
             "line": {
              "color": "#E5ECF6",
              "width": 0.5
             }
            },
            "type": "bar"
           }
          ],
          "barpolar": [
           {
            "marker": {
             "line": {
              "color": "#E5ECF6",
              "width": 0.5
             }
            },
            "type": "barpolar"
           }
          ],
          "carpet": [
           {
            "aaxis": {
             "endlinecolor": "#2a3f5f",
             "gridcolor": "white",
             "linecolor": "white",
             "minorgridcolor": "white",
             "startlinecolor": "#2a3f5f"
            },
            "baxis": {
             "endlinecolor": "#2a3f5f",
             "gridcolor": "white",
             "linecolor": "white",
             "minorgridcolor": "white",
             "startlinecolor": "#2a3f5f"
            },
            "type": "carpet"
           }
          ],
          "choropleth": [
           {
            "colorbar": {
             "outlinewidth": 0,
             "ticks": ""
            },
            "type": "choropleth"
           }
          ],
          "contour": [
           {
            "colorbar": {
             "outlinewidth": 0,
             "ticks": ""
            },
            "colorscale": [
             [
              0,
              "#0d0887"
             ],
             [
              0.1111111111111111,
              "#46039f"
             ],
             [
              0.2222222222222222,
              "#7201a8"
             ],
             [
              0.3333333333333333,
              "#9c179e"
             ],
             [
              0.4444444444444444,
              "#bd3786"
             ],
             [
              0.5555555555555556,
              "#d8576b"
             ],
             [
              0.6666666666666666,
              "#ed7953"
             ],
             [
              0.7777777777777778,
              "#fb9f3a"
             ],
             [
              0.8888888888888888,
              "#fdca26"
             ],
             [
              1,
              "#f0f921"
             ]
            ],
            "type": "contour"
           }
          ],
          "contourcarpet": [
           {
            "colorbar": {
             "outlinewidth": 0,
             "ticks": ""
            },
            "type": "contourcarpet"
           }
          ],
          "heatmap": [
           {
            "colorbar": {
             "outlinewidth": 0,
             "ticks": ""
            },
            "colorscale": [
             [
              0,
              "#0d0887"
             ],
             [
              0.1111111111111111,
              "#46039f"
             ],
             [
              0.2222222222222222,
              "#7201a8"
             ],
             [
              0.3333333333333333,
              "#9c179e"
             ],
             [
              0.4444444444444444,
              "#bd3786"
             ],
             [
              0.5555555555555556,
              "#d8576b"
             ],
             [
              0.6666666666666666,
              "#ed7953"
             ],
             [
              0.7777777777777778,
              "#fb9f3a"
             ],
             [
              0.8888888888888888,
              "#fdca26"
             ],
             [
              1,
              "#f0f921"
             ]
            ],
            "type": "heatmap"
           }
          ],
          "heatmapgl": [
           {
            "colorbar": {
             "outlinewidth": 0,
             "ticks": ""
            },
            "colorscale": [
             [
              0,
              "#0d0887"
             ],
             [
              0.1111111111111111,
              "#46039f"
             ],
             [
              0.2222222222222222,
              "#7201a8"
             ],
             [
              0.3333333333333333,
              "#9c179e"
             ],
             [
              0.4444444444444444,
              "#bd3786"
             ],
             [
              0.5555555555555556,
              "#d8576b"
             ],
             [
              0.6666666666666666,
              "#ed7953"
             ],
             [
              0.7777777777777778,
              "#fb9f3a"
             ],
             [
              0.8888888888888888,
              "#fdca26"
             ],
             [
              1,
              "#f0f921"
             ]
            ],
            "type": "heatmapgl"
           }
          ],
          "histogram": [
           {
            "marker": {
             "colorbar": {
              "outlinewidth": 0,
              "ticks": ""
             }
            },
            "type": "histogram"
           }
          ],
          "histogram2d": [
           {
            "colorbar": {
             "outlinewidth": 0,
             "ticks": ""
            },
            "colorscale": [
             [
              0,
              "#0d0887"
             ],
             [
              0.1111111111111111,
              "#46039f"
             ],
             [
              0.2222222222222222,
              "#7201a8"
             ],
             [
              0.3333333333333333,
              "#9c179e"
             ],
             [
              0.4444444444444444,
              "#bd3786"
             ],
             [
              0.5555555555555556,
              "#d8576b"
             ],
             [
              0.6666666666666666,
              "#ed7953"
             ],
             [
              0.7777777777777778,
              "#fb9f3a"
             ],
             [
              0.8888888888888888,
              "#fdca26"
             ],
             [
              1,
              "#f0f921"
             ]
            ],
            "type": "histogram2d"
           }
          ],
          "histogram2dcontour": [
           {
            "colorbar": {
             "outlinewidth": 0,
             "ticks": ""
            },
            "colorscale": [
             [
              0,
              "#0d0887"
             ],
             [
              0.1111111111111111,
              "#46039f"
             ],
             [
              0.2222222222222222,
              "#7201a8"
             ],
             [
              0.3333333333333333,
              "#9c179e"
             ],
             [
              0.4444444444444444,
              "#bd3786"
             ],
             [
              0.5555555555555556,
              "#d8576b"
             ],
             [
              0.6666666666666666,
              "#ed7953"
             ],
             [
              0.7777777777777778,
              "#fb9f3a"
             ],
             [
              0.8888888888888888,
              "#fdca26"
             ],
             [
              1,
              "#f0f921"
             ]
            ],
            "type": "histogram2dcontour"
           }
          ],
          "mesh3d": [
           {
            "colorbar": {
             "outlinewidth": 0,
             "ticks": ""
            },
            "type": "mesh3d"
           }
          ],
          "parcoords": [
           {
            "line": {
             "colorbar": {
              "outlinewidth": 0,
              "ticks": ""
             }
            },
            "type": "parcoords"
           }
          ],
          "pie": [
           {
            "automargin": true,
            "type": "pie"
           }
          ],
          "scatter": [
           {
            "marker": {
             "colorbar": {
              "outlinewidth": 0,
              "ticks": ""
             }
            },
            "type": "scatter"
           }
          ],
          "scatter3d": [
           {
            "line": {
             "colorbar": {
              "outlinewidth": 0,
              "ticks": ""
             }
            },
            "marker": {
             "colorbar": {
              "outlinewidth": 0,
              "ticks": ""
             }
            },
            "type": "scatter3d"
           }
          ],
          "scattercarpet": [
           {
            "marker": {
             "colorbar": {
              "outlinewidth": 0,
              "ticks": ""
             }
            },
            "type": "scattercarpet"
           }
          ],
          "scattergeo": [
           {
            "marker": {
             "colorbar": {
              "outlinewidth": 0,
              "ticks": ""
             }
            },
            "type": "scattergeo"
           }
          ],
          "scattergl": [
           {
            "marker": {
             "colorbar": {
              "outlinewidth": 0,
              "ticks": ""
             }
            },
            "type": "scattergl"
           }
          ],
          "scattermapbox": [
           {
            "marker": {
             "colorbar": {
              "outlinewidth": 0,
              "ticks": ""
             }
            },
            "type": "scattermapbox"
           }
          ],
          "scatterpolar": [
           {
            "marker": {
             "colorbar": {
              "outlinewidth": 0,
              "ticks": ""
             }
            },
            "type": "scatterpolar"
           }
          ],
          "scatterpolargl": [
           {
            "marker": {
             "colorbar": {
              "outlinewidth": 0,
              "ticks": ""
             }
            },
            "type": "scatterpolargl"
           }
          ],
          "scatterternary": [
           {
            "marker": {
             "colorbar": {
              "outlinewidth": 0,
              "ticks": ""
             }
            },
            "type": "scatterternary"
           }
          ],
          "surface": [
           {
            "colorbar": {
             "outlinewidth": 0,
             "ticks": ""
            },
            "colorscale": [
             [
              0,
              "#0d0887"
             ],
             [
              0.1111111111111111,
              "#46039f"
             ],
             [
              0.2222222222222222,
              "#7201a8"
             ],
             [
              0.3333333333333333,
              "#9c179e"
             ],
             [
              0.4444444444444444,
              "#bd3786"
             ],
             [
              0.5555555555555556,
              "#d8576b"
             ],
             [
              0.6666666666666666,
              "#ed7953"
             ],
             [
              0.7777777777777778,
              "#fb9f3a"
             ],
             [
              0.8888888888888888,
              "#fdca26"
             ],
             [
              1,
              "#f0f921"
             ]
            ],
            "type": "surface"
           }
          ],
          "table": [
           {
            "cells": {
             "fill": {
              "color": "#EBF0F8"
             },
             "line": {
              "color": "white"
             }
            },
            "header": {
             "fill": {
              "color": "#C8D4E3"
             },
             "line": {
              "color": "white"
             }
            },
            "type": "table"
           }
          ]
         },
         "layout": {
          "annotationdefaults": {
           "arrowcolor": "#2a3f5f",
           "arrowhead": 0,
           "arrowwidth": 1
          },
          "coloraxis": {
           "colorbar": {
            "outlinewidth": 0,
            "ticks": ""
           }
          },
          "colorscale": {
           "diverging": [
            [
             0,
             "#8e0152"
            ],
            [
             0.1,
             "#c51b7d"
            ],
            [
             0.2,
             "#de77ae"
            ],
            [
             0.3,
             "#f1b6da"
            ],
            [
             0.4,
             "#fde0ef"
            ],
            [
             0.5,
             "#f7f7f7"
            ],
            [
             0.6,
             "#e6f5d0"
            ],
            [
             0.7,
             "#b8e186"
            ],
            [
             0.8,
             "#7fbc41"
            ],
            [
             0.9,
             "#4d9221"
            ],
            [
             1,
             "#276419"
            ]
           ],
           "sequential": [
            [
             0,
             "#0d0887"
            ],
            [
             0.1111111111111111,
             "#46039f"
            ],
            [
             0.2222222222222222,
             "#7201a8"
            ],
            [
             0.3333333333333333,
             "#9c179e"
            ],
            [
             0.4444444444444444,
             "#bd3786"
            ],
            [
             0.5555555555555556,
             "#d8576b"
            ],
            [
             0.6666666666666666,
             "#ed7953"
            ],
            [
             0.7777777777777778,
             "#fb9f3a"
            ],
            [
             0.8888888888888888,
             "#fdca26"
            ],
            [
             1,
             "#f0f921"
            ]
           ],
           "sequentialminus": [
            [
             0,
             "#0d0887"
            ],
            [
             0.1111111111111111,
             "#46039f"
            ],
            [
             0.2222222222222222,
             "#7201a8"
            ],
            [
             0.3333333333333333,
             "#9c179e"
            ],
            [
             0.4444444444444444,
             "#bd3786"
            ],
            [
             0.5555555555555556,
             "#d8576b"
            ],
            [
             0.6666666666666666,
             "#ed7953"
            ],
            [
             0.7777777777777778,
             "#fb9f3a"
            ],
            [
             0.8888888888888888,
             "#fdca26"
            ],
            [
             1,
             "#f0f921"
            ]
           ]
          },
          "colorway": [
           "#636efa",
           "#EF553B",
           "#00cc96",
           "#ab63fa",
           "#FFA15A",
           "#19d3f3",
           "#FF6692",
           "#B6E880",
           "#FF97FF",
           "#FECB52"
          ],
          "font": {
           "color": "#2a3f5f"
          },
          "geo": {
           "bgcolor": "white",
           "lakecolor": "white",
           "landcolor": "#E5ECF6",
           "showlakes": true,
           "showland": true,
           "subunitcolor": "white"
          },
          "hoverlabel": {
           "align": "left"
          },
          "hovermode": "closest",
          "mapbox": {
           "style": "light"
          },
          "paper_bgcolor": "white",
          "plot_bgcolor": "#E5ECF6",
          "polar": {
           "angularaxis": {
            "gridcolor": "white",
            "linecolor": "white",
            "ticks": ""
           },
           "bgcolor": "#E5ECF6",
           "radialaxis": {
            "gridcolor": "white",
            "linecolor": "white",
            "ticks": ""
           }
          },
          "scene": {
           "xaxis": {
            "backgroundcolor": "#E5ECF6",
            "gridcolor": "white",
            "gridwidth": 2,
            "linecolor": "white",
            "showbackground": true,
            "ticks": "",
            "zerolinecolor": "white"
           },
           "yaxis": {
            "backgroundcolor": "#E5ECF6",
            "gridcolor": "white",
            "gridwidth": 2,
            "linecolor": "white",
            "showbackground": true,
            "ticks": "",
            "zerolinecolor": "white"
           },
           "zaxis": {
            "backgroundcolor": "#E5ECF6",
            "gridcolor": "white",
            "gridwidth": 2,
            "linecolor": "white",
            "showbackground": true,
            "ticks": "",
            "zerolinecolor": "white"
           }
          },
          "shapedefaults": {
           "line": {
            "color": "#2a3f5f"
           }
          },
          "ternary": {
           "aaxis": {
            "gridcolor": "white",
            "linecolor": "white",
            "ticks": ""
           },
           "baxis": {
            "gridcolor": "white",
            "linecolor": "white",
            "ticks": ""
           },
           "bgcolor": "#E5ECF6",
           "caxis": {
            "gridcolor": "white",
            "linecolor": "white",
            "ticks": ""
           }
          },
          "title": {
           "x": 0.05
          },
          "xaxis": {
           "automargin": true,
           "gridcolor": "white",
           "linecolor": "white",
           "ticks": "",
           "title": {
            "standoff": 15
           },
           "zerolinecolor": "white",
           "zerolinewidth": 2
          },
          "yaxis": {
           "automargin": true,
           "gridcolor": "white",
           "linecolor": "white",
           "ticks": "",
           "title": {
            "standoff": 15
           },
           "zerolinecolor": "white",
           "zerolinewidth": 2
          }
         }
        },
        "xaxis": {
         "anchor": "y",
         "domain": [
          0,
          1
         ],
         "title": {
          "text": "Temperature"
         }
        },
        "yaxis": {
         "anchor": "x",
         "domain": [
          0,
          1
         ],
         "title": {
          "text": "Permiability"
         }
        }
       }
      },
      "text/html": [
       "<div>                            <div id=\"1daa9a53-4253-4394-a0db-1e2b056e9218\" class=\"plotly-graph-div\" style=\"height:525px; width:100%;\"></div>            <script type=\"text/javascript\">                require([\"plotly\"], function(Plotly) {                    window.PLOTLYENV=window.PLOTLYENV || {};                                    if (document.getElementById(\"1daa9a53-4253-4394-a0db-1e2b056e9218\")) {                    Plotly.newPlot(                        \"1daa9a53-4253-4394-a0db-1e2b056e9218\",                        [{\"hovertemplate\": \"Temperature=%{x}<br>Permiability=%{y}<extra></extra>\", \"legendgroup\": \"\", \"marker\": {\"color\": \"#636efa\", \"symbol\": \"circle\"}, \"mode\": \"markers\", \"name\": \"\", \"orientation\": \"v\", \"showlegend\": false, \"type\": \"scatter\", \"x\": [102.0, 105.0, 82.0, 97.0, 104.0, 120.0, 98.0, 195.0, 195.0, 110.0, 110.0, 90.0, 54.0, 75.0, 80.0, 55.0, 100.0, 100.0, 100.0, 110.0, 110.0, 165.0, 140.0, 82.0, 105.0, 129.0, 108.0, 83.0, 101.0, 99.0, 152.0, 149.0, 190.0, 200.0, 200.0, 200.0, 95.0, 84.0, 105.0, 82.0, 83.0, 100.0, 100.0, 90.0, 130.0, 104.0, 90.0, 90.0, 130.0, 125.0, 90.0, 85.0, 80.0, 90.0, 100.0, 100.0, 100.0, 100.0, 100.0, 100.0, 90.0, 135.0, 95.0, 90.0, 95.0, 80.0, 1000.0, 100.0, 80.0, 125.0, 66.0, 60.0, 70.0, 55.0, 63.0, 62.0, 124.0, 100.0, 100.0, 122.0, 110.0, 100.0, 100.0, 100.0, 100.0, 100.0, 100.0, 104.0, 135.0, 117.0, 95.0, 178.0, 181.0, 163.0, 170.0, 148.0, 150.0, 109.0, 102.0, 130.0, 101.0, 108.0, 104.0, 91.0, 123.0, 102.0, 104.0, 125.0, 125.0, 105.0, 105.0, 105.0, 108.0, 105.0, 105.0, 108.0, 105.0, 98.0, 134.0, 105.0, 105.0, 110.0, 105.0, 108.0, 125.0, 142.0, 151.0, 106.0, 110.0, 152.0, 198.0, 164.0, 152.0, 152.0, 82.0, 82.0, 133.0, 120.0, 210.0, 235.0, 150.0, 160.0, 182.0, 180.0, 220.0, 170.0, 230.0, 225.0, 184.0, 183.0, 188.0, 180.0, 204.0, 198.0, 199.0, 198.0, 190.0, 200.0, 196.0, 167.0, 188.0, 188.0, 190.0, 129.8, 230.0, 215.0, 220.0, 215.0, 215.0, 215.0, 215.0, 215.0, 200.0, 131.0, 105.0, 112.0, 105.0, 99.0, 122.0, 60.0, 63.0, 80.0, 70.0, 75.0, 110.0, 54.0, 55.0, 80.0, 60.0, 100.0, 100.0, 97.0, 102.0, 105.0, 206.0, 128.0, 183.0, 156.0, 85.0, 100.0, 55.0, 129.8, 225.0], \"xaxis\": \"x\", \"y\": [40.0, 205.0, 30.0, 20.0, 2.0, 2.0, 3.0, 50.0, 50.0, 3.0, 4000.0, 1.0, 100.0, 3048.0, 955.0, 2000.0, 10000.0, 10000.0, 10000.0, 95.0, 265.0, 1000.0, 10.0, 50.0, 2.0, 5.0, 6.0, 37.0, 4.0, 30.0, 300.0, 7.5, 300.0, 10.0, 10.0, 16.0, 2000.0, 1000.0, 2000.0, 2000.0, 2000.0, 3000.0, 3000.0, 4500.0, 3000.0, 300.0, 5.0, 5000.0, 2000.0, 2260.0, 3500.0, 3000.0, 2000.0, 1500.0, 5.0, 2700.0, 3000.0, 1300.0, 2250.0, 1510.0, 2000.0, 6700.0, 2000.0, 2800.0, 2000.0, 1500.0, 1300.0, 8000.0, 1000.0, 1000.0, 4000.0, 3500.0, 7500.0, 1500.0, 3000.0, 1500.0, 3000.0, 4000.0, 3000.0, 200.0, 20.0, 10000.0, 10000.0, 10000.0, 10000.0, 2000.0, 1600.0, 500.0, 19.0, 75.0, 32.0, 31.0, 4.0, 10.0, 20.0, 5.0, 44.0, 4.0, 5.0, 6.0, 3.0, 2.0, 5.0, 42.0, 5.0, 15.0, 4.0, 12.0, 70.0, 5.0, 2.0, 8.0, 4.0, 4.0, 5.0, 4.0, 4.0, 4.0, 2.0, 8.0, 8.0, 5.0, 2.0, 2.0, 5.0, 48.0, 100.0, 2.0, 6.0, 250.0, 107.0, 500.0, 600.0, 1800.0, 1000.0, 175.0, 500.0, 112.0, 400.0, 130.0, 50.0, 100.0, 200.0, 1300.0, 4000.0, 40.0, 200.0, 54.0, 300.0, 40.0, 300.0, 1000.0, 900.0, 2020.0, 1060.0, 540.0, 3100.0, 2400.0, 1970.0, 1375.0, 180.0, 320.0, 160.0, 650.0, 15.0, 10.0, 10.0, 10.0, 10.0, 10.0, 10.0, 10.0, 10.0, 6600.0, 25.0, 30.0, 75.0, 30.0, 20.0, 3000.0, 7000.0, 1500.0, 1.0, 800.0, 3500.0, 100.0, 500.0, 1500.0, 2000.0, 4000.0, 10000.0, 750.0, 10.0, 32.0, 50.0, 20.0, 112.0, 112.0, 150.0, 150.0, 7000.0, 7000.0, 54.0], \"yaxis\": \"y\"}],                        {\"legend\": {\"tracegroupgap\": 0}, \"margin\": {\"t\": 60}, \"template\": {\"data\": {\"bar\": [{\"error_x\": {\"color\": \"#2a3f5f\"}, \"error_y\": {\"color\": \"#2a3f5f\"}, \"marker\": {\"line\": {\"color\": \"#E5ECF6\", \"width\": 0.5}}, \"type\": \"bar\"}], \"barpolar\": [{\"marker\": {\"line\": {\"color\": \"#E5ECF6\", \"width\": 0.5}}, \"type\": \"barpolar\"}], \"carpet\": [{\"aaxis\": {\"endlinecolor\": \"#2a3f5f\", \"gridcolor\": \"white\", \"linecolor\": \"white\", \"minorgridcolor\": \"white\", \"startlinecolor\": \"#2a3f5f\"}, \"baxis\": {\"endlinecolor\": \"#2a3f5f\", \"gridcolor\": \"white\", \"linecolor\": \"white\", \"minorgridcolor\": \"white\", \"startlinecolor\": \"#2a3f5f\"}, \"type\": \"carpet\"}], \"choropleth\": [{\"colorbar\": {\"outlinewidth\": 0, \"ticks\": \"\"}, \"type\": \"choropleth\"}], \"contour\": [{\"colorbar\": {\"outlinewidth\": 0, \"ticks\": \"\"}, \"colorscale\": [[0.0, \"#0d0887\"], [0.1111111111111111, \"#46039f\"], [0.2222222222222222, \"#7201a8\"], [0.3333333333333333, \"#9c179e\"], [0.4444444444444444, \"#bd3786\"], [0.5555555555555556, \"#d8576b\"], [0.6666666666666666, \"#ed7953\"], [0.7777777777777778, \"#fb9f3a\"], [0.8888888888888888, \"#fdca26\"], [1.0, \"#f0f921\"]], \"type\": \"contour\"}], \"contourcarpet\": [{\"colorbar\": {\"outlinewidth\": 0, \"ticks\": \"\"}, \"type\": \"contourcarpet\"}], \"heatmap\": [{\"colorbar\": {\"outlinewidth\": 0, \"ticks\": \"\"}, \"colorscale\": [[0.0, \"#0d0887\"], [0.1111111111111111, \"#46039f\"], [0.2222222222222222, \"#7201a8\"], [0.3333333333333333, \"#9c179e\"], [0.4444444444444444, \"#bd3786\"], [0.5555555555555556, \"#d8576b\"], [0.6666666666666666, \"#ed7953\"], [0.7777777777777778, \"#fb9f3a\"], [0.8888888888888888, \"#fdca26\"], [1.0, \"#f0f921\"]], \"type\": \"heatmap\"}], \"heatmapgl\": [{\"colorbar\": {\"outlinewidth\": 0, \"ticks\": \"\"}, \"colorscale\": [[0.0, \"#0d0887\"], [0.1111111111111111, \"#46039f\"], [0.2222222222222222, \"#7201a8\"], [0.3333333333333333, \"#9c179e\"], [0.4444444444444444, \"#bd3786\"], [0.5555555555555556, \"#d8576b\"], [0.6666666666666666, \"#ed7953\"], [0.7777777777777778, \"#fb9f3a\"], [0.8888888888888888, \"#fdca26\"], [1.0, \"#f0f921\"]], \"type\": \"heatmapgl\"}], \"histogram\": [{\"marker\": {\"colorbar\": {\"outlinewidth\": 0, \"ticks\": \"\"}}, \"type\": \"histogram\"}], \"histogram2d\": [{\"colorbar\": {\"outlinewidth\": 0, \"ticks\": \"\"}, \"colorscale\": [[0.0, \"#0d0887\"], [0.1111111111111111, \"#46039f\"], [0.2222222222222222, \"#7201a8\"], [0.3333333333333333, \"#9c179e\"], [0.4444444444444444, \"#bd3786\"], [0.5555555555555556, \"#d8576b\"], [0.6666666666666666, \"#ed7953\"], [0.7777777777777778, \"#fb9f3a\"], [0.8888888888888888, \"#fdca26\"], [1.0, \"#f0f921\"]], \"type\": \"histogram2d\"}], \"histogram2dcontour\": [{\"colorbar\": {\"outlinewidth\": 0, \"ticks\": \"\"}, \"colorscale\": [[0.0, \"#0d0887\"], [0.1111111111111111, \"#46039f\"], [0.2222222222222222, \"#7201a8\"], [0.3333333333333333, \"#9c179e\"], [0.4444444444444444, \"#bd3786\"], [0.5555555555555556, \"#d8576b\"], [0.6666666666666666, \"#ed7953\"], [0.7777777777777778, \"#fb9f3a\"], [0.8888888888888888, \"#fdca26\"], [1.0, \"#f0f921\"]], \"type\": \"histogram2dcontour\"}], \"mesh3d\": [{\"colorbar\": {\"outlinewidth\": 0, \"ticks\": \"\"}, \"type\": \"mesh3d\"}], \"parcoords\": [{\"line\": {\"colorbar\": {\"outlinewidth\": 0, \"ticks\": \"\"}}, \"type\": \"parcoords\"}], \"pie\": [{\"automargin\": true, \"type\": \"pie\"}], \"scatter\": [{\"marker\": {\"colorbar\": {\"outlinewidth\": 0, \"ticks\": \"\"}}, \"type\": \"scatter\"}], \"scatter3d\": [{\"line\": {\"colorbar\": {\"outlinewidth\": 0, \"ticks\": \"\"}}, \"marker\": {\"colorbar\": {\"outlinewidth\": 0, \"ticks\": \"\"}}, \"type\": \"scatter3d\"}], \"scattercarpet\": [{\"marker\": {\"colorbar\": {\"outlinewidth\": 0, \"ticks\": \"\"}}, \"type\": \"scattercarpet\"}], \"scattergeo\": [{\"marker\": {\"colorbar\": {\"outlinewidth\": 0, \"ticks\": \"\"}}, \"type\": \"scattergeo\"}], \"scattergl\": [{\"marker\": {\"colorbar\": {\"outlinewidth\": 0, \"ticks\": \"\"}}, \"type\": \"scattergl\"}], \"scattermapbox\": [{\"marker\": {\"colorbar\": {\"outlinewidth\": 0, \"ticks\": \"\"}}, \"type\": \"scattermapbox\"}], \"scatterpolar\": [{\"marker\": {\"colorbar\": {\"outlinewidth\": 0, \"ticks\": \"\"}}, \"type\": \"scatterpolar\"}], \"scatterpolargl\": [{\"marker\": {\"colorbar\": {\"outlinewidth\": 0, \"ticks\": \"\"}}, \"type\": \"scatterpolargl\"}], \"scatterternary\": [{\"marker\": {\"colorbar\": {\"outlinewidth\": 0, \"ticks\": \"\"}}, \"type\": \"scatterternary\"}], \"surface\": [{\"colorbar\": {\"outlinewidth\": 0, \"ticks\": \"\"}, \"colorscale\": [[0.0, \"#0d0887\"], [0.1111111111111111, \"#46039f\"], [0.2222222222222222, \"#7201a8\"], [0.3333333333333333, \"#9c179e\"], [0.4444444444444444, \"#bd3786\"], [0.5555555555555556, \"#d8576b\"], [0.6666666666666666, \"#ed7953\"], [0.7777777777777778, \"#fb9f3a\"], [0.8888888888888888, \"#fdca26\"], [1.0, \"#f0f921\"]], \"type\": \"surface\"}], \"table\": [{\"cells\": {\"fill\": {\"color\": \"#EBF0F8\"}, \"line\": {\"color\": \"white\"}}, \"header\": {\"fill\": {\"color\": \"#C8D4E3\"}, \"line\": {\"color\": \"white\"}}, \"type\": \"table\"}]}, \"layout\": {\"annotationdefaults\": {\"arrowcolor\": \"#2a3f5f\", \"arrowhead\": 0, \"arrowwidth\": 1}, \"coloraxis\": {\"colorbar\": {\"outlinewidth\": 0, \"ticks\": \"\"}}, \"colorscale\": {\"diverging\": [[0, \"#8e0152\"], [0.1, \"#c51b7d\"], [0.2, \"#de77ae\"], [0.3, \"#f1b6da\"], [0.4, \"#fde0ef\"], [0.5, \"#f7f7f7\"], [0.6, \"#e6f5d0\"], [0.7, \"#b8e186\"], [0.8, \"#7fbc41\"], [0.9, \"#4d9221\"], [1, \"#276419\"]], \"sequential\": [[0.0, \"#0d0887\"], [0.1111111111111111, \"#46039f\"], [0.2222222222222222, \"#7201a8\"], [0.3333333333333333, \"#9c179e\"], [0.4444444444444444, \"#bd3786\"], [0.5555555555555556, \"#d8576b\"], [0.6666666666666666, \"#ed7953\"], [0.7777777777777778, \"#fb9f3a\"], [0.8888888888888888, \"#fdca26\"], [1.0, \"#f0f921\"]], \"sequentialminus\": [[0.0, \"#0d0887\"], [0.1111111111111111, \"#46039f\"], [0.2222222222222222, \"#7201a8\"], [0.3333333333333333, \"#9c179e\"], [0.4444444444444444, \"#bd3786\"], [0.5555555555555556, \"#d8576b\"], [0.6666666666666666, \"#ed7953\"], [0.7777777777777778, \"#fb9f3a\"], [0.8888888888888888, \"#fdca26\"], [1.0, \"#f0f921\"]]}, \"colorway\": [\"#636efa\", \"#EF553B\", \"#00cc96\", \"#ab63fa\", \"#FFA15A\", \"#19d3f3\", \"#FF6692\", \"#B6E880\", \"#FF97FF\", \"#FECB52\"], \"font\": {\"color\": \"#2a3f5f\"}, \"geo\": {\"bgcolor\": \"white\", \"lakecolor\": \"white\", \"landcolor\": \"#E5ECF6\", \"showlakes\": true, \"showland\": true, \"subunitcolor\": \"white\"}, \"hoverlabel\": {\"align\": \"left\"}, \"hovermode\": \"closest\", \"mapbox\": {\"style\": \"light\"}, \"paper_bgcolor\": \"white\", \"plot_bgcolor\": \"#E5ECF6\", \"polar\": {\"angularaxis\": {\"gridcolor\": \"white\", \"linecolor\": \"white\", \"ticks\": \"\"}, \"bgcolor\": \"#E5ECF6\", \"radialaxis\": {\"gridcolor\": \"white\", \"linecolor\": \"white\", \"ticks\": \"\"}}, \"scene\": {\"xaxis\": {\"backgroundcolor\": \"#E5ECF6\", \"gridcolor\": \"white\", \"gridwidth\": 2, \"linecolor\": \"white\", \"showbackground\": true, \"ticks\": \"\", \"zerolinecolor\": \"white\"}, \"yaxis\": {\"backgroundcolor\": \"#E5ECF6\", \"gridcolor\": \"white\", \"gridwidth\": 2, \"linecolor\": \"white\", \"showbackground\": true, \"ticks\": \"\", \"zerolinecolor\": \"white\"}, \"zaxis\": {\"backgroundcolor\": \"#E5ECF6\", \"gridcolor\": \"white\", \"gridwidth\": 2, \"linecolor\": \"white\", \"showbackground\": true, \"ticks\": \"\", \"zerolinecolor\": \"white\"}}, \"shapedefaults\": {\"line\": {\"color\": \"#2a3f5f\"}}, \"ternary\": {\"aaxis\": {\"gridcolor\": \"white\", \"linecolor\": \"white\", \"ticks\": \"\"}, \"baxis\": {\"gridcolor\": \"white\", \"linecolor\": \"white\", \"ticks\": \"\"}, \"bgcolor\": \"#E5ECF6\", \"caxis\": {\"gridcolor\": \"white\", \"linecolor\": \"white\", \"ticks\": \"\"}}, \"title\": {\"x\": 0.05}, \"xaxis\": {\"automargin\": true, \"gridcolor\": \"white\", \"linecolor\": \"white\", \"ticks\": \"\", \"title\": {\"standoff\": 15}, \"zerolinecolor\": \"white\", \"zerolinewidth\": 2}, \"yaxis\": {\"automargin\": true, \"gridcolor\": \"white\", \"linecolor\": \"white\", \"ticks\": \"\", \"title\": {\"standoff\": 15}, \"zerolinecolor\": \"white\", \"zerolinewidth\": 2}}}, \"xaxis\": {\"anchor\": \"y\", \"domain\": [0.0, 1.0], \"title\": {\"text\": \"Temperature\"}}, \"yaxis\": {\"anchor\": \"x\", \"domain\": [0.0, 1.0], \"title\": {\"text\": \"Permiability\"}}},                        {\"responsive\": true}                    ).then(function(){\n",
       "                            \n",
       "var gd = document.getElementById('1daa9a53-4253-4394-a0db-1e2b056e9218');\n",
       "var x = new MutationObserver(function (mutations, observer) {{\n",
       "        var display = window.getComputedStyle(gd).display;\n",
       "        if (!display || display === 'none') {{\n",
       "            console.log([gd, 'removed!']);\n",
       "            Plotly.purge(gd);\n",
       "            observer.disconnect();\n",
       "        }}\n",
       "}});\n",
       "\n",
       "// Listen for the removal of the full notebook cells\n",
       "var notebookContainer = gd.closest('#notebook-container');\n",
       "if (notebookContainer) {{\n",
       "    x.observe(notebookContainer, {childList: true});\n",
       "}}\n",
       "\n",
       "// Listen for the clearing of the current output cell\n",
       "var outputEl = gd.closest('.output');\n",
       "if (outputEl) {{\n",
       "    x.observe(outputEl, {childList: true});\n",
       "}}\n",
       "\n",
       "                        })                };                });            </script>        </div>"
      ]
     },
     "metadata": {},
     "output_type": "display_data"
    }
   ],
   "source": [
    "px.scatter(data,  x=\"Temperature\", y=\"Permiability\")"
   ]
  },
  {
   "cell_type": "code",
   "execution_count": 78,
   "metadata": {},
   "outputs": [
    {
     "data": {
      "application/vnd.plotly.v1+json": {
       "config": {
        "plotlyServerURL": "https://plot.ly"
       },
       "data": [
        {
         "hovertemplate": "Temperature=%{x}<br>Depth=%{y}<extra></extra>",
         "legendgroup": "",
         "marker": {
          "color": "#636efa",
          "symbol": "circle"
         },
         "mode": "markers",
         "name": "",
         "orientation": "v",
         "showlegend": false,
         "type": "scatter",
         "x": [
          102,
          105,
          82,
          97,
          104,
          120,
          98,
          195,
          195,
          110,
          110,
          90,
          54,
          75,
          80,
          55,
          100,
          100,
          100,
          110,
          110,
          165,
          140,
          82,
          105,
          129,
          108,
          83,
          101,
          99,
          152,
          149,
          190,
          200,
          200,
          200,
          95,
          84,
          105,
          82,
          83,
          100,
          100,
          90,
          130,
          104,
          90,
          90,
          130,
          125,
          90,
          85,
          80,
          90,
          100,
          100,
          100,
          100,
          100,
          100,
          90,
          135,
          95,
          90,
          95,
          80,
          1000,
          100,
          80,
          125,
          66,
          60,
          70,
          55,
          63,
          62,
          124,
          100,
          100,
          122,
          110,
          100,
          100,
          100,
          100,
          100,
          100,
          104,
          135,
          117,
          95,
          178,
          181,
          163,
          170,
          148,
          150,
          109,
          102,
          130,
          101,
          108,
          104,
          91,
          123,
          102,
          104,
          125,
          125,
          105,
          105,
          105,
          108,
          105,
          105,
          108,
          105,
          98,
          134,
          105,
          105,
          110,
          105,
          108,
          125,
          142,
          151,
          106,
          110,
          152,
          198,
          164,
          152,
          152,
          82,
          82,
          133,
          120,
          210,
          235,
          150,
          160,
          182,
          180,
          220,
          170,
          230,
          225,
          184,
          183,
          188,
          180,
          204,
          198,
          199,
          198,
          190,
          200,
          196,
          167,
          188,
          188,
          190,
          129.8,
          230,
          215,
          220,
          215,
          215,
          215,
          215,
          215,
          200,
          131,
          105,
          112,
          105,
          99,
          122,
          60,
          63,
          80,
          70,
          75,
          110,
          54,
          55,
          80,
          60,
          100,
          100,
          97,
          102,
          105,
          206,
          128,
          183,
          156,
          85,
          100,
          55,
          129.8,
          225
         ],
         "xaxis": "x",
         "y": [
          4800,
          1200,
          2680,
          4500,
          5400,
          8200,
          4900,
          6400,
          6330,
          1500,
          1200,
          800,
          800,
          175,
          300,
          1395,
          2700,
          2600,
          2600,
          1400,
          2100,
          5700,
          4655,
          9400,
          4950,
          5700,
          5400,
          2600,
          4500,
          1150,
          4850,
          4600,
          5500,
          8800,
          8300,
          9000,
          1300,
          800,
          1000,
          200,
          600,
          1300,
          1300,
          1300,
          1100,
          1100,
          1000,
          1000,
          2300,
          2100,
          800,
          1300,
          1000,
          1800,
          1500,
          1200,
          1500,
          1500,
          1500,
          1640,
          1000,
          1900,
          1250,
          1000,
          1800,
          1200,
          1300,
          1500,
          2000,
          2300,
          1480,
          1600,
          1640,
          1509,
          1800,
          1800,
          2300,
          1150,
          1480,
          2460,
          1500,
          2700,
          2700,
          2700,
          2700,
          4000,
          350,
          1100,
          6700,
          4950,
          4100,
          5000,
          5400,
          7000,
          6000,
          6400,
          9400,
          5800,
          4800,
          6800,
          5400,
          4900,
          5300,
          4200,
          7500,
          4200,
          5200,
          6300,
          6600,
          4950,
          4900,
          4950,
          5000,
          5040,
          4950,
          5000,
          4900,
          4900,
          7850,
          5250,
          5200,
          5100,
          5100,
          4850,
          5600,
          6500,
          9800,
          5100,
          5000,
          5050,
          8500,
          5000,
          5050,
          5000,
          5000,
          1400,
          4900,
          1970,
          8800,
          8800,
          6700,
          6600,
          8800,
          10000,
          8700,
          7000,
          9150,
          8300,
          5500,
          6200,
          6000,
          6000,
          9541,
          9469,
          9415,
          9333,
          9332,
          9531,
          9421,
          6500,
          4160,
          4330,
          4040,
          400,
          9500,
          9500,
          9200,
          9000,
          9000,
          8450,
          8450,
          8450,
          8800,
          2650,
          1750,
          2200,
          1900,
          1600,
          2900,
          1500,
          1200,
          1700,
          1100,
          1400,
          500,
          1000,
          250,
          450,
          1350,
          1150,
          2600,
          1100,
          5000,
          4200,
          8200,
          5300,
          5900,
          4000,
          4500,
          4900,
          1600,
          4226.6,
          8300
         ],
         "yaxis": "y"
        }
       ],
       "layout": {
        "legend": {
         "tracegroupgap": 0
        },
        "margin": {
         "t": 60
        },
        "template": {
         "data": {
          "bar": [
           {
            "error_x": {
             "color": "#2a3f5f"
            },
            "error_y": {
             "color": "#2a3f5f"
            },
            "marker": {
             "line": {
              "color": "#E5ECF6",
              "width": 0.5
             }
            },
            "type": "bar"
           }
          ],
          "barpolar": [
           {
            "marker": {
             "line": {
              "color": "#E5ECF6",
              "width": 0.5
             }
            },
            "type": "barpolar"
           }
          ],
          "carpet": [
           {
            "aaxis": {
             "endlinecolor": "#2a3f5f",
             "gridcolor": "white",
             "linecolor": "white",
             "minorgridcolor": "white",
             "startlinecolor": "#2a3f5f"
            },
            "baxis": {
             "endlinecolor": "#2a3f5f",
             "gridcolor": "white",
             "linecolor": "white",
             "minorgridcolor": "white",
             "startlinecolor": "#2a3f5f"
            },
            "type": "carpet"
           }
          ],
          "choropleth": [
           {
            "colorbar": {
             "outlinewidth": 0,
             "ticks": ""
            },
            "type": "choropleth"
           }
          ],
          "contour": [
           {
            "colorbar": {
             "outlinewidth": 0,
             "ticks": ""
            },
            "colorscale": [
             [
              0,
              "#0d0887"
             ],
             [
              0.1111111111111111,
              "#46039f"
             ],
             [
              0.2222222222222222,
              "#7201a8"
             ],
             [
              0.3333333333333333,
              "#9c179e"
             ],
             [
              0.4444444444444444,
              "#bd3786"
             ],
             [
              0.5555555555555556,
              "#d8576b"
             ],
             [
              0.6666666666666666,
              "#ed7953"
             ],
             [
              0.7777777777777778,
              "#fb9f3a"
             ],
             [
              0.8888888888888888,
              "#fdca26"
             ],
             [
              1,
              "#f0f921"
             ]
            ],
            "type": "contour"
           }
          ],
          "contourcarpet": [
           {
            "colorbar": {
             "outlinewidth": 0,
             "ticks": ""
            },
            "type": "contourcarpet"
           }
          ],
          "heatmap": [
           {
            "colorbar": {
             "outlinewidth": 0,
             "ticks": ""
            },
            "colorscale": [
             [
              0,
              "#0d0887"
             ],
             [
              0.1111111111111111,
              "#46039f"
             ],
             [
              0.2222222222222222,
              "#7201a8"
             ],
             [
              0.3333333333333333,
              "#9c179e"
             ],
             [
              0.4444444444444444,
              "#bd3786"
             ],
             [
              0.5555555555555556,
              "#d8576b"
             ],
             [
              0.6666666666666666,
              "#ed7953"
             ],
             [
              0.7777777777777778,
              "#fb9f3a"
             ],
             [
              0.8888888888888888,
              "#fdca26"
             ],
             [
              1,
              "#f0f921"
             ]
            ],
            "type": "heatmap"
           }
          ],
          "heatmapgl": [
           {
            "colorbar": {
             "outlinewidth": 0,
             "ticks": ""
            },
            "colorscale": [
             [
              0,
              "#0d0887"
             ],
             [
              0.1111111111111111,
              "#46039f"
             ],
             [
              0.2222222222222222,
              "#7201a8"
             ],
             [
              0.3333333333333333,
              "#9c179e"
             ],
             [
              0.4444444444444444,
              "#bd3786"
             ],
             [
              0.5555555555555556,
              "#d8576b"
             ],
             [
              0.6666666666666666,
              "#ed7953"
             ],
             [
              0.7777777777777778,
              "#fb9f3a"
             ],
             [
              0.8888888888888888,
              "#fdca26"
             ],
             [
              1,
              "#f0f921"
             ]
            ],
            "type": "heatmapgl"
           }
          ],
          "histogram": [
           {
            "marker": {
             "colorbar": {
              "outlinewidth": 0,
              "ticks": ""
             }
            },
            "type": "histogram"
           }
          ],
          "histogram2d": [
           {
            "colorbar": {
             "outlinewidth": 0,
             "ticks": ""
            },
            "colorscale": [
             [
              0,
              "#0d0887"
             ],
             [
              0.1111111111111111,
              "#46039f"
             ],
             [
              0.2222222222222222,
              "#7201a8"
             ],
             [
              0.3333333333333333,
              "#9c179e"
             ],
             [
              0.4444444444444444,
              "#bd3786"
             ],
             [
              0.5555555555555556,
              "#d8576b"
             ],
             [
              0.6666666666666666,
              "#ed7953"
             ],
             [
              0.7777777777777778,
              "#fb9f3a"
             ],
             [
              0.8888888888888888,
              "#fdca26"
             ],
             [
              1,
              "#f0f921"
             ]
            ],
            "type": "histogram2d"
           }
          ],
          "histogram2dcontour": [
           {
            "colorbar": {
             "outlinewidth": 0,
             "ticks": ""
            },
            "colorscale": [
             [
              0,
              "#0d0887"
             ],
             [
              0.1111111111111111,
              "#46039f"
             ],
             [
              0.2222222222222222,
              "#7201a8"
             ],
             [
              0.3333333333333333,
              "#9c179e"
             ],
             [
              0.4444444444444444,
              "#bd3786"
             ],
             [
              0.5555555555555556,
              "#d8576b"
             ],
             [
              0.6666666666666666,
              "#ed7953"
             ],
             [
              0.7777777777777778,
              "#fb9f3a"
             ],
             [
              0.8888888888888888,
              "#fdca26"
             ],
             [
              1,
              "#f0f921"
             ]
            ],
            "type": "histogram2dcontour"
           }
          ],
          "mesh3d": [
           {
            "colorbar": {
             "outlinewidth": 0,
             "ticks": ""
            },
            "type": "mesh3d"
           }
          ],
          "parcoords": [
           {
            "line": {
             "colorbar": {
              "outlinewidth": 0,
              "ticks": ""
             }
            },
            "type": "parcoords"
           }
          ],
          "pie": [
           {
            "automargin": true,
            "type": "pie"
           }
          ],
          "scatter": [
           {
            "marker": {
             "colorbar": {
              "outlinewidth": 0,
              "ticks": ""
             }
            },
            "type": "scatter"
           }
          ],
          "scatter3d": [
           {
            "line": {
             "colorbar": {
              "outlinewidth": 0,
              "ticks": ""
             }
            },
            "marker": {
             "colorbar": {
              "outlinewidth": 0,
              "ticks": ""
             }
            },
            "type": "scatter3d"
           }
          ],
          "scattercarpet": [
           {
            "marker": {
             "colorbar": {
              "outlinewidth": 0,
              "ticks": ""
             }
            },
            "type": "scattercarpet"
           }
          ],
          "scattergeo": [
           {
            "marker": {
             "colorbar": {
              "outlinewidth": 0,
              "ticks": ""
             }
            },
            "type": "scattergeo"
           }
          ],
          "scattergl": [
           {
            "marker": {
             "colorbar": {
              "outlinewidth": 0,
              "ticks": ""
             }
            },
            "type": "scattergl"
           }
          ],
          "scattermapbox": [
           {
            "marker": {
             "colorbar": {
              "outlinewidth": 0,
              "ticks": ""
             }
            },
            "type": "scattermapbox"
           }
          ],
          "scatterpolar": [
           {
            "marker": {
             "colorbar": {
              "outlinewidth": 0,
              "ticks": ""
             }
            },
            "type": "scatterpolar"
           }
          ],
          "scatterpolargl": [
           {
            "marker": {
             "colorbar": {
              "outlinewidth": 0,
              "ticks": ""
             }
            },
            "type": "scatterpolargl"
           }
          ],
          "scatterternary": [
           {
            "marker": {
             "colorbar": {
              "outlinewidth": 0,
              "ticks": ""
             }
            },
            "type": "scatterternary"
           }
          ],
          "surface": [
           {
            "colorbar": {
             "outlinewidth": 0,
             "ticks": ""
            },
            "colorscale": [
             [
              0,
              "#0d0887"
             ],
             [
              0.1111111111111111,
              "#46039f"
             ],
             [
              0.2222222222222222,
              "#7201a8"
             ],
             [
              0.3333333333333333,
              "#9c179e"
             ],
             [
              0.4444444444444444,
              "#bd3786"
             ],
             [
              0.5555555555555556,
              "#d8576b"
             ],
             [
              0.6666666666666666,
              "#ed7953"
             ],
             [
              0.7777777777777778,
              "#fb9f3a"
             ],
             [
              0.8888888888888888,
              "#fdca26"
             ],
             [
              1,
              "#f0f921"
             ]
            ],
            "type": "surface"
           }
          ],
          "table": [
           {
            "cells": {
             "fill": {
              "color": "#EBF0F8"
             },
             "line": {
              "color": "white"
             }
            },
            "header": {
             "fill": {
              "color": "#C8D4E3"
             },
             "line": {
              "color": "white"
             }
            },
            "type": "table"
           }
          ]
         },
         "layout": {
          "annotationdefaults": {
           "arrowcolor": "#2a3f5f",
           "arrowhead": 0,
           "arrowwidth": 1
          },
          "coloraxis": {
           "colorbar": {
            "outlinewidth": 0,
            "ticks": ""
           }
          },
          "colorscale": {
           "diverging": [
            [
             0,
             "#8e0152"
            ],
            [
             0.1,
             "#c51b7d"
            ],
            [
             0.2,
             "#de77ae"
            ],
            [
             0.3,
             "#f1b6da"
            ],
            [
             0.4,
             "#fde0ef"
            ],
            [
             0.5,
             "#f7f7f7"
            ],
            [
             0.6,
             "#e6f5d0"
            ],
            [
             0.7,
             "#b8e186"
            ],
            [
             0.8,
             "#7fbc41"
            ],
            [
             0.9,
             "#4d9221"
            ],
            [
             1,
             "#276419"
            ]
           ],
           "sequential": [
            [
             0,
             "#0d0887"
            ],
            [
             0.1111111111111111,
             "#46039f"
            ],
            [
             0.2222222222222222,
             "#7201a8"
            ],
            [
             0.3333333333333333,
             "#9c179e"
            ],
            [
             0.4444444444444444,
             "#bd3786"
            ],
            [
             0.5555555555555556,
             "#d8576b"
            ],
            [
             0.6666666666666666,
             "#ed7953"
            ],
            [
             0.7777777777777778,
             "#fb9f3a"
            ],
            [
             0.8888888888888888,
             "#fdca26"
            ],
            [
             1,
             "#f0f921"
            ]
           ],
           "sequentialminus": [
            [
             0,
             "#0d0887"
            ],
            [
             0.1111111111111111,
             "#46039f"
            ],
            [
             0.2222222222222222,
             "#7201a8"
            ],
            [
             0.3333333333333333,
             "#9c179e"
            ],
            [
             0.4444444444444444,
             "#bd3786"
            ],
            [
             0.5555555555555556,
             "#d8576b"
            ],
            [
             0.6666666666666666,
             "#ed7953"
            ],
            [
             0.7777777777777778,
             "#fb9f3a"
            ],
            [
             0.8888888888888888,
             "#fdca26"
            ],
            [
             1,
             "#f0f921"
            ]
           ]
          },
          "colorway": [
           "#636efa",
           "#EF553B",
           "#00cc96",
           "#ab63fa",
           "#FFA15A",
           "#19d3f3",
           "#FF6692",
           "#B6E880",
           "#FF97FF",
           "#FECB52"
          ],
          "font": {
           "color": "#2a3f5f"
          },
          "geo": {
           "bgcolor": "white",
           "lakecolor": "white",
           "landcolor": "#E5ECF6",
           "showlakes": true,
           "showland": true,
           "subunitcolor": "white"
          },
          "hoverlabel": {
           "align": "left"
          },
          "hovermode": "closest",
          "mapbox": {
           "style": "light"
          },
          "paper_bgcolor": "white",
          "plot_bgcolor": "#E5ECF6",
          "polar": {
           "angularaxis": {
            "gridcolor": "white",
            "linecolor": "white",
            "ticks": ""
           },
           "bgcolor": "#E5ECF6",
           "radialaxis": {
            "gridcolor": "white",
            "linecolor": "white",
            "ticks": ""
           }
          },
          "scene": {
           "xaxis": {
            "backgroundcolor": "#E5ECF6",
            "gridcolor": "white",
            "gridwidth": 2,
            "linecolor": "white",
            "showbackground": true,
            "ticks": "",
            "zerolinecolor": "white"
           },
           "yaxis": {
            "backgroundcolor": "#E5ECF6",
            "gridcolor": "white",
            "gridwidth": 2,
            "linecolor": "white",
            "showbackground": true,
            "ticks": "",
            "zerolinecolor": "white"
           },
           "zaxis": {
            "backgroundcolor": "#E5ECF6",
            "gridcolor": "white",
            "gridwidth": 2,
            "linecolor": "white",
            "showbackground": true,
            "ticks": "",
            "zerolinecolor": "white"
           }
          },
          "shapedefaults": {
           "line": {
            "color": "#2a3f5f"
           }
          },
          "ternary": {
           "aaxis": {
            "gridcolor": "white",
            "linecolor": "white",
            "ticks": ""
           },
           "baxis": {
            "gridcolor": "white",
            "linecolor": "white",
            "ticks": ""
           },
           "bgcolor": "#E5ECF6",
           "caxis": {
            "gridcolor": "white",
            "linecolor": "white",
            "ticks": ""
           }
          },
          "title": {
           "x": 0.05
          },
          "xaxis": {
           "automargin": true,
           "gridcolor": "white",
           "linecolor": "white",
           "ticks": "",
           "title": {
            "standoff": 15
           },
           "zerolinecolor": "white",
           "zerolinewidth": 2
          },
          "yaxis": {
           "automargin": true,
           "gridcolor": "white",
           "linecolor": "white",
           "ticks": "",
           "title": {
            "standoff": 15
           },
           "zerolinecolor": "white",
           "zerolinewidth": 2
          }
         }
        },
        "xaxis": {
         "anchor": "y",
         "domain": [
          0,
          1
         ],
         "title": {
          "text": "Temperature"
         }
        },
        "yaxis": {
         "anchor": "x",
         "domain": [
          0,
          1
         ],
         "title": {
          "text": "Depth"
         }
        }
       }
      },
      "text/html": [
       "<div>                            <div id=\"13bf00bb-c05f-451b-b893-88e1caf56beb\" class=\"plotly-graph-div\" style=\"height:525px; width:100%;\"></div>            <script type=\"text/javascript\">                require([\"plotly\"], function(Plotly) {                    window.PLOTLYENV=window.PLOTLYENV || {};                                    if (document.getElementById(\"13bf00bb-c05f-451b-b893-88e1caf56beb\")) {                    Plotly.newPlot(                        \"13bf00bb-c05f-451b-b893-88e1caf56beb\",                        [{\"hovertemplate\": \"Temperature=%{x}<br>Depth=%{y}<extra></extra>\", \"legendgroup\": \"\", \"marker\": {\"color\": \"#636efa\", \"symbol\": \"circle\"}, \"mode\": \"markers\", \"name\": \"\", \"orientation\": \"v\", \"showlegend\": false, \"type\": \"scatter\", \"x\": [102.0, 105.0, 82.0, 97.0, 104.0, 120.0, 98.0, 195.0, 195.0, 110.0, 110.0, 90.0, 54.0, 75.0, 80.0, 55.0, 100.0, 100.0, 100.0, 110.0, 110.0, 165.0, 140.0, 82.0, 105.0, 129.0, 108.0, 83.0, 101.0, 99.0, 152.0, 149.0, 190.0, 200.0, 200.0, 200.0, 95.0, 84.0, 105.0, 82.0, 83.0, 100.0, 100.0, 90.0, 130.0, 104.0, 90.0, 90.0, 130.0, 125.0, 90.0, 85.0, 80.0, 90.0, 100.0, 100.0, 100.0, 100.0, 100.0, 100.0, 90.0, 135.0, 95.0, 90.0, 95.0, 80.0, 1000.0, 100.0, 80.0, 125.0, 66.0, 60.0, 70.0, 55.0, 63.0, 62.0, 124.0, 100.0, 100.0, 122.0, 110.0, 100.0, 100.0, 100.0, 100.0, 100.0, 100.0, 104.0, 135.0, 117.0, 95.0, 178.0, 181.0, 163.0, 170.0, 148.0, 150.0, 109.0, 102.0, 130.0, 101.0, 108.0, 104.0, 91.0, 123.0, 102.0, 104.0, 125.0, 125.0, 105.0, 105.0, 105.0, 108.0, 105.0, 105.0, 108.0, 105.0, 98.0, 134.0, 105.0, 105.0, 110.0, 105.0, 108.0, 125.0, 142.0, 151.0, 106.0, 110.0, 152.0, 198.0, 164.0, 152.0, 152.0, 82.0, 82.0, 133.0, 120.0, 210.0, 235.0, 150.0, 160.0, 182.0, 180.0, 220.0, 170.0, 230.0, 225.0, 184.0, 183.0, 188.0, 180.0, 204.0, 198.0, 199.0, 198.0, 190.0, 200.0, 196.0, 167.0, 188.0, 188.0, 190.0, 129.8, 230.0, 215.0, 220.0, 215.0, 215.0, 215.0, 215.0, 215.0, 200.0, 131.0, 105.0, 112.0, 105.0, 99.0, 122.0, 60.0, 63.0, 80.0, 70.0, 75.0, 110.0, 54.0, 55.0, 80.0, 60.0, 100.0, 100.0, 97.0, 102.0, 105.0, 206.0, 128.0, 183.0, 156.0, 85.0, 100.0, 55.0, 129.8, 225.0], \"xaxis\": \"x\", \"y\": [4800.0, 1200.0, 2680.0, 4500.0, 5400.0, 8200.0, 4900.0, 6400.0, 6330.0, 1500.0, 1200.0, 800.0, 800.0, 175.0, 300.0, 1395.0, 2700.0, 2600.0, 2600.0, 1400.0, 2100.0, 5700.0, 4655.0, 9400.0, 4950.0, 5700.0, 5400.0, 2600.0, 4500.0, 1150.0, 4850.0, 4600.0, 5500.0, 8800.0, 8300.0, 9000.0, 1300.0, 800.0, 1000.0, 200.0, 600.0, 1300.0, 1300.0, 1300.0, 1100.0, 1100.0, 1000.0, 1000.0, 2300.0, 2100.0, 800.0, 1300.0, 1000.0, 1800.0, 1500.0, 1200.0, 1500.0, 1500.0, 1500.0, 1640.0, 1000.0, 1900.0, 1250.0, 1000.0, 1800.0, 1200.0, 1300.0, 1500.0, 2000.0, 2300.0, 1480.0, 1600.0, 1640.0, 1509.0, 1800.0, 1800.0, 2300.0, 1150.0, 1480.0, 2460.0, 1500.0, 2700.0, 2700.0, 2700.0, 2700.0, 4000.0, 350.0, 1100.0, 6700.0, 4950.0, 4100.0, 5000.0, 5400.0, 7000.0, 6000.0, 6400.0, 9400.0, 5800.0, 4800.0, 6800.0, 5400.0, 4900.0, 5300.0, 4200.0, 7500.0, 4200.0, 5200.0, 6300.0, 6600.0, 4950.0, 4900.0, 4950.0, 5000.0, 5040.0, 4950.0, 5000.0, 4900.0, 4900.0, 7850.0, 5250.0, 5200.0, 5100.0, 5100.0, 4850.0, 5600.0, 6500.0, 9800.0, 5100.0, 5000.0, 5050.0, 8500.0, 5000.0, 5050.0, 5000.0, 5000.0, 1400.0, 4900.0, 1970.0, 8800.0, 8800.0, 6700.0, 6600.0, 8800.0, 10000.0, 8700.0, 7000.0, 9150.0, 8300.0, 5500.0, 6200.0, 6000.0, 6000.0, 9541.0, 9469.0, 9415.0, 9333.0, 9332.0, 9531.0, 9421.0, 6500.0, 4160.0, 4330.0, 4040.0, 400.0, 9500.0, 9500.0, 9200.0, 9000.0, 9000.0, 8450.0, 8450.0, 8450.0, 8800.0, 2650.0, 1750.0, 2200.0, 1900.0, 1600.0, 2900.0, 1500.0, 1200.0, 1700.0, 1100.0, 1400.0, 500.0, 1000.0, 250.0, 450.0, 1350.0, 1150.0, 2600.0, 1100.0, 5000.0, 4200.0, 8200.0, 5300.0, 5900.0, 4000.0, 4500.0, 4900.0, 1600.0, 4226.6, 8300.0], \"yaxis\": \"y\"}],                        {\"legend\": {\"tracegroupgap\": 0}, \"margin\": {\"t\": 60}, \"template\": {\"data\": {\"bar\": [{\"error_x\": {\"color\": \"#2a3f5f\"}, \"error_y\": {\"color\": \"#2a3f5f\"}, \"marker\": {\"line\": {\"color\": \"#E5ECF6\", \"width\": 0.5}}, \"type\": \"bar\"}], \"barpolar\": [{\"marker\": {\"line\": {\"color\": \"#E5ECF6\", \"width\": 0.5}}, \"type\": \"barpolar\"}], \"carpet\": [{\"aaxis\": {\"endlinecolor\": \"#2a3f5f\", \"gridcolor\": \"white\", \"linecolor\": \"white\", \"minorgridcolor\": \"white\", \"startlinecolor\": \"#2a3f5f\"}, \"baxis\": {\"endlinecolor\": \"#2a3f5f\", \"gridcolor\": \"white\", \"linecolor\": \"white\", \"minorgridcolor\": \"white\", \"startlinecolor\": \"#2a3f5f\"}, \"type\": \"carpet\"}], \"choropleth\": [{\"colorbar\": {\"outlinewidth\": 0, \"ticks\": \"\"}, \"type\": \"choropleth\"}], \"contour\": [{\"colorbar\": {\"outlinewidth\": 0, \"ticks\": \"\"}, \"colorscale\": [[0.0, \"#0d0887\"], [0.1111111111111111, \"#46039f\"], [0.2222222222222222, \"#7201a8\"], [0.3333333333333333, \"#9c179e\"], [0.4444444444444444, \"#bd3786\"], [0.5555555555555556, \"#d8576b\"], [0.6666666666666666, \"#ed7953\"], [0.7777777777777778, \"#fb9f3a\"], [0.8888888888888888, \"#fdca26\"], [1.0, \"#f0f921\"]], \"type\": \"contour\"}], \"contourcarpet\": [{\"colorbar\": {\"outlinewidth\": 0, \"ticks\": \"\"}, \"type\": \"contourcarpet\"}], \"heatmap\": [{\"colorbar\": {\"outlinewidth\": 0, \"ticks\": \"\"}, \"colorscale\": [[0.0, \"#0d0887\"], [0.1111111111111111, \"#46039f\"], [0.2222222222222222, \"#7201a8\"], [0.3333333333333333, \"#9c179e\"], [0.4444444444444444, \"#bd3786\"], [0.5555555555555556, \"#d8576b\"], [0.6666666666666666, \"#ed7953\"], [0.7777777777777778, \"#fb9f3a\"], [0.8888888888888888, \"#fdca26\"], [1.0, \"#f0f921\"]], \"type\": \"heatmap\"}], \"heatmapgl\": [{\"colorbar\": {\"outlinewidth\": 0, \"ticks\": \"\"}, \"colorscale\": [[0.0, \"#0d0887\"], [0.1111111111111111, \"#46039f\"], [0.2222222222222222, \"#7201a8\"], [0.3333333333333333, \"#9c179e\"], [0.4444444444444444, \"#bd3786\"], [0.5555555555555556, \"#d8576b\"], [0.6666666666666666, \"#ed7953\"], [0.7777777777777778, \"#fb9f3a\"], [0.8888888888888888, \"#fdca26\"], [1.0, \"#f0f921\"]], \"type\": \"heatmapgl\"}], \"histogram\": [{\"marker\": {\"colorbar\": {\"outlinewidth\": 0, \"ticks\": \"\"}}, \"type\": \"histogram\"}], \"histogram2d\": [{\"colorbar\": {\"outlinewidth\": 0, \"ticks\": \"\"}, \"colorscale\": [[0.0, \"#0d0887\"], [0.1111111111111111, \"#46039f\"], [0.2222222222222222, \"#7201a8\"], [0.3333333333333333, \"#9c179e\"], [0.4444444444444444, \"#bd3786\"], [0.5555555555555556, \"#d8576b\"], [0.6666666666666666, \"#ed7953\"], [0.7777777777777778, \"#fb9f3a\"], [0.8888888888888888, \"#fdca26\"], [1.0, \"#f0f921\"]], \"type\": \"histogram2d\"}], \"histogram2dcontour\": [{\"colorbar\": {\"outlinewidth\": 0, \"ticks\": \"\"}, \"colorscale\": [[0.0, \"#0d0887\"], [0.1111111111111111, \"#46039f\"], [0.2222222222222222, \"#7201a8\"], [0.3333333333333333, \"#9c179e\"], [0.4444444444444444, \"#bd3786\"], [0.5555555555555556, \"#d8576b\"], [0.6666666666666666, \"#ed7953\"], [0.7777777777777778, \"#fb9f3a\"], [0.8888888888888888, \"#fdca26\"], [1.0, \"#f0f921\"]], \"type\": \"histogram2dcontour\"}], \"mesh3d\": [{\"colorbar\": {\"outlinewidth\": 0, \"ticks\": \"\"}, \"type\": \"mesh3d\"}], \"parcoords\": [{\"line\": {\"colorbar\": {\"outlinewidth\": 0, \"ticks\": \"\"}}, \"type\": \"parcoords\"}], \"pie\": [{\"automargin\": true, \"type\": \"pie\"}], \"scatter\": [{\"marker\": {\"colorbar\": {\"outlinewidth\": 0, \"ticks\": \"\"}}, \"type\": \"scatter\"}], \"scatter3d\": [{\"line\": {\"colorbar\": {\"outlinewidth\": 0, \"ticks\": \"\"}}, \"marker\": {\"colorbar\": {\"outlinewidth\": 0, \"ticks\": \"\"}}, \"type\": \"scatter3d\"}], \"scattercarpet\": [{\"marker\": {\"colorbar\": {\"outlinewidth\": 0, \"ticks\": \"\"}}, \"type\": \"scattercarpet\"}], \"scattergeo\": [{\"marker\": {\"colorbar\": {\"outlinewidth\": 0, \"ticks\": \"\"}}, \"type\": \"scattergeo\"}], \"scattergl\": [{\"marker\": {\"colorbar\": {\"outlinewidth\": 0, \"ticks\": \"\"}}, \"type\": \"scattergl\"}], \"scattermapbox\": [{\"marker\": {\"colorbar\": {\"outlinewidth\": 0, \"ticks\": \"\"}}, \"type\": \"scattermapbox\"}], \"scatterpolar\": [{\"marker\": {\"colorbar\": {\"outlinewidth\": 0, \"ticks\": \"\"}}, \"type\": \"scatterpolar\"}], \"scatterpolargl\": [{\"marker\": {\"colorbar\": {\"outlinewidth\": 0, \"ticks\": \"\"}}, \"type\": \"scatterpolargl\"}], \"scatterternary\": [{\"marker\": {\"colorbar\": {\"outlinewidth\": 0, \"ticks\": \"\"}}, \"type\": \"scatterternary\"}], \"surface\": [{\"colorbar\": {\"outlinewidth\": 0, \"ticks\": \"\"}, \"colorscale\": [[0.0, \"#0d0887\"], [0.1111111111111111, \"#46039f\"], [0.2222222222222222, \"#7201a8\"], [0.3333333333333333, \"#9c179e\"], [0.4444444444444444, \"#bd3786\"], [0.5555555555555556, \"#d8576b\"], [0.6666666666666666, \"#ed7953\"], [0.7777777777777778, \"#fb9f3a\"], [0.8888888888888888, \"#fdca26\"], [1.0, \"#f0f921\"]], \"type\": \"surface\"}], \"table\": [{\"cells\": {\"fill\": {\"color\": \"#EBF0F8\"}, \"line\": {\"color\": \"white\"}}, \"header\": {\"fill\": {\"color\": \"#C8D4E3\"}, \"line\": {\"color\": \"white\"}}, \"type\": \"table\"}]}, \"layout\": {\"annotationdefaults\": {\"arrowcolor\": \"#2a3f5f\", \"arrowhead\": 0, \"arrowwidth\": 1}, \"coloraxis\": {\"colorbar\": {\"outlinewidth\": 0, \"ticks\": \"\"}}, \"colorscale\": {\"diverging\": [[0, \"#8e0152\"], [0.1, \"#c51b7d\"], [0.2, \"#de77ae\"], [0.3, \"#f1b6da\"], [0.4, \"#fde0ef\"], [0.5, \"#f7f7f7\"], [0.6, \"#e6f5d0\"], [0.7, \"#b8e186\"], [0.8, \"#7fbc41\"], [0.9, \"#4d9221\"], [1, \"#276419\"]], \"sequential\": [[0.0, \"#0d0887\"], [0.1111111111111111, \"#46039f\"], [0.2222222222222222, \"#7201a8\"], [0.3333333333333333, \"#9c179e\"], [0.4444444444444444, \"#bd3786\"], [0.5555555555555556, \"#d8576b\"], [0.6666666666666666, \"#ed7953\"], [0.7777777777777778, \"#fb9f3a\"], [0.8888888888888888, \"#fdca26\"], [1.0, \"#f0f921\"]], \"sequentialminus\": [[0.0, \"#0d0887\"], [0.1111111111111111, \"#46039f\"], [0.2222222222222222, \"#7201a8\"], [0.3333333333333333, \"#9c179e\"], [0.4444444444444444, \"#bd3786\"], [0.5555555555555556, \"#d8576b\"], [0.6666666666666666, \"#ed7953\"], [0.7777777777777778, \"#fb9f3a\"], [0.8888888888888888, \"#fdca26\"], [1.0, \"#f0f921\"]]}, \"colorway\": [\"#636efa\", \"#EF553B\", \"#00cc96\", \"#ab63fa\", \"#FFA15A\", \"#19d3f3\", \"#FF6692\", \"#B6E880\", \"#FF97FF\", \"#FECB52\"], \"font\": {\"color\": \"#2a3f5f\"}, \"geo\": {\"bgcolor\": \"white\", \"lakecolor\": \"white\", \"landcolor\": \"#E5ECF6\", \"showlakes\": true, \"showland\": true, \"subunitcolor\": \"white\"}, \"hoverlabel\": {\"align\": \"left\"}, \"hovermode\": \"closest\", \"mapbox\": {\"style\": \"light\"}, \"paper_bgcolor\": \"white\", \"plot_bgcolor\": \"#E5ECF6\", \"polar\": {\"angularaxis\": {\"gridcolor\": \"white\", \"linecolor\": \"white\", \"ticks\": \"\"}, \"bgcolor\": \"#E5ECF6\", \"radialaxis\": {\"gridcolor\": \"white\", \"linecolor\": \"white\", \"ticks\": \"\"}}, \"scene\": {\"xaxis\": {\"backgroundcolor\": \"#E5ECF6\", \"gridcolor\": \"white\", \"gridwidth\": 2, \"linecolor\": \"white\", \"showbackground\": true, \"ticks\": \"\", \"zerolinecolor\": \"white\"}, \"yaxis\": {\"backgroundcolor\": \"#E5ECF6\", \"gridcolor\": \"white\", \"gridwidth\": 2, \"linecolor\": \"white\", \"showbackground\": true, \"ticks\": \"\", \"zerolinecolor\": \"white\"}, \"zaxis\": {\"backgroundcolor\": \"#E5ECF6\", \"gridcolor\": \"white\", \"gridwidth\": 2, \"linecolor\": \"white\", \"showbackground\": true, \"ticks\": \"\", \"zerolinecolor\": \"white\"}}, \"shapedefaults\": {\"line\": {\"color\": \"#2a3f5f\"}}, \"ternary\": {\"aaxis\": {\"gridcolor\": \"white\", \"linecolor\": \"white\", \"ticks\": \"\"}, \"baxis\": {\"gridcolor\": \"white\", \"linecolor\": \"white\", \"ticks\": \"\"}, \"bgcolor\": \"#E5ECF6\", \"caxis\": {\"gridcolor\": \"white\", \"linecolor\": \"white\", \"ticks\": \"\"}}, \"title\": {\"x\": 0.05}, \"xaxis\": {\"automargin\": true, \"gridcolor\": \"white\", \"linecolor\": \"white\", \"ticks\": \"\", \"title\": {\"standoff\": 15}, \"zerolinecolor\": \"white\", \"zerolinewidth\": 2}, \"yaxis\": {\"automargin\": true, \"gridcolor\": \"white\", \"linecolor\": \"white\", \"ticks\": \"\", \"title\": {\"standoff\": 15}, \"zerolinecolor\": \"white\", \"zerolinewidth\": 2}}}, \"xaxis\": {\"anchor\": \"y\", \"domain\": [0.0, 1.0], \"title\": {\"text\": \"Temperature\"}}, \"yaxis\": {\"anchor\": \"x\", \"domain\": [0.0, 1.0], \"title\": {\"text\": \"Depth\"}}},                        {\"responsive\": true}                    ).then(function(){\n",
       "                            \n",
       "var gd = document.getElementById('13bf00bb-c05f-451b-b893-88e1caf56beb');\n",
       "var x = new MutationObserver(function (mutations, observer) {{\n",
       "        var display = window.getComputedStyle(gd).display;\n",
       "        if (!display || display === 'none') {{\n",
       "            console.log([gd, 'removed!']);\n",
       "            Plotly.purge(gd);\n",
       "            observer.disconnect();\n",
       "        }}\n",
       "}});\n",
       "\n",
       "// Listen for the removal of the full notebook cells\n",
       "var notebookContainer = gd.closest('#notebook-container');\n",
       "if (notebookContainer) {{\n",
       "    x.observe(notebookContainer, {childList: true});\n",
       "}}\n",
       "\n",
       "// Listen for the clearing of the current output cell\n",
       "var outputEl = gd.closest('.output');\n",
       "if (outputEl) {{\n",
       "    x.observe(outputEl, {childList: true});\n",
       "}}\n",
       "\n",
       "                        })                };                });            </script>        </div>"
      ]
     },
     "metadata": {},
     "output_type": "display_data"
    }
   ],
   "source": [
    "px.scatter(data,  x=\"Temperature\", y=\"Depth\")"
   ]
  },
  {
   "cell_type": "code",
   "execution_count": 79,
   "metadata": {},
   "outputs": [
    {
     "data": {
      "application/vnd.plotly.v1+json": {
       "config": {
        "plotlyServerURL": "https://plot.ly"
       },
       "data": [
        {
         "hovertemplate": "Temperature=%{x}<br>Oil_Saturation=%{y}<extra></extra>",
         "legendgroup": "",
         "marker": {
          "color": "#636efa",
          "symbol": "circle"
         },
         "mode": "markers",
         "name": "",
         "orientation": "v",
         "showlegend": false,
         "type": "scatter",
         "x": [
          102,
          105,
          82,
          97,
          104,
          120,
          98,
          195,
          195,
          110,
          110,
          90,
          54,
          75,
          80,
          55,
          100,
          100,
          100,
          110,
          110,
          165,
          140,
          82,
          105,
          129,
          108,
          83,
          101,
          99,
          152,
          149,
          190,
          200,
          200,
          200,
          95,
          84,
          105,
          82,
          83,
          100,
          100,
          90,
          130,
          104,
          90,
          90,
          130,
          125,
          90,
          85,
          80,
          90,
          100,
          100,
          100,
          100,
          100,
          100,
          90,
          135,
          95,
          90,
          95,
          80,
          1000,
          100,
          80,
          125,
          66,
          60,
          70,
          55,
          63,
          62,
          124,
          100,
          100,
          122,
          110,
          100,
          100,
          100,
          100,
          100,
          100,
          104,
          135,
          117,
          95,
          178,
          181,
          163,
          170,
          148,
          150,
          109,
          102,
          130,
          101,
          108,
          104,
          91,
          123,
          102,
          104,
          125,
          125,
          105,
          105,
          105,
          108,
          105,
          105,
          108,
          105,
          98,
          134,
          105,
          105,
          110,
          105,
          108,
          125,
          142,
          151,
          106,
          110,
          152,
          198,
          164,
          152,
          152,
          82,
          82,
          133,
          120,
          210,
          235,
          150,
          160,
          182,
          180,
          220,
          170,
          230,
          225,
          184,
          183,
          188,
          180,
          204,
          198,
          199,
          198,
          190,
          200,
          196,
          167,
          188,
          188,
          190,
          129.8,
          230,
          215,
          220,
          215,
          215,
          215,
          215,
          215,
          200,
          131,
          105,
          112,
          105,
          99,
          122,
          60,
          63,
          80,
          70,
          75,
          110,
          54,
          55,
          80,
          60,
          100,
          100,
          97,
          102,
          105,
          206,
          128,
          183,
          156,
          85,
          100,
          55,
          129.8,
          225
         ],
         "xaxis": "x",
         "y": [
          50,
          57,
          60,
          35,
          39,
          50,
          35,
          67,
          67,
          45,
          50,
          65,
          85,
          55,
          48,
          70,
          70,
          7,
          70,
          58,
          75,
          30,
          45,
          45,
          55,
          60,
          60,
          60,
          60,
          32,
          37,
          45,
          45,
          85,
          83,
          32,
          60,
          55,
          65,
          60,
          60,
          70,
          70,
          60,
          75,
          65,
          75,
          60,
          55,
          55,
          60,
          70,
          70,
          60,
          50,
          53,
          60,
          50,
          60,
          44,
          50,
          46,
          85,
          50,
          45,
          50,
          80,
          65,
          70,
          58,
          90,
          60,
          85,
          70,
          0.8,
          80,
          76,
          70,
          70,
          70,
          80,
          50,
          70,
          80,
          70,
          62,
          60,
          75,
          78,
          70,
          80,
          49,
          50,
          50,
          46,
          40,
          55,
          49,
          40,
          38,
          43,
          89,
          40,
          48,
          38,
          47,
          47,
          47,
          40,
          47,
          42,
          70,
          50,
          75,
          51,
          49,
          56,
          30,
          65,
          80,
          80,
          43,
          80,
          26.5,
          60,
          60,
          60,
          60,
          54.4,
          42,
          86,
          30,
          60,
          60,
          75,
          75,
          38,
          50,
          50,
          45,
          80,
          80,
          70,
          70,
          75,
          75,
          55,
          30,
          92,
          52,
          52,
          50,
          80,
          82,
          88,
          93,
          84,
          87,
          91,
          93,
          90,
          88,
          73.5,
          94,
          52,
          50,
          50,
          55,
          55,
          55,
          55,
          55,
          75,
          88,
          32,
          32,
          39,
          32,
          53,
          70,
          75,
          60,
          60,
          65,
          65,
          85,
          60,
          85,
          70,
          70,
          50,
          80,
          60,
          60,
          60,
          60,
          50,
          50,
          65,
          65,
          85,
          60,
          30
         ],
         "yaxis": "y"
        }
       ],
       "layout": {
        "legend": {
         "tracegroupgap": 0
        },
        "margin": {
         "t": 60
        },
        "template": {
         "data": {
          "bar": [
           {
            "error_x": {
             "color": "#2a3f5f"
            },
            "error_y": {
             "color": "#2a3f5f"
            },
            "marker": {
             "line": {
              "color": "#E5ECF6",
              "width": 0.5
             }
            },
            "type": "bar"
           }
          ],
          "barpolar": [
           {
            "marker": {
             "line": {
              "color": "#E5ECF6",
              "width": 0.5
             }
            },
            "type": "barpolar"
           }
          ],
          "carpet": [
           {
            "aaxis": {
             "endlinecolor": "#2a3f5f",
             "gridcolor": "white",
             "linecolor": "white",
             "minorgridcolor": "white",
             "startlinecolor": "#2a3f5f"
            },
            "baxis": {
             "endlinecolor": "#2a3f5f",
             "gridcolor": "white",
             "linecolor": "white",
             "minorgridcolor": "white",
             "startlinecolor": "#2a3f5f"
            },
            "type": "carpet"
           }
          ],
          "choropleth": [
           {
            "colorbar": {
             "outlinewidth": 0,
             "ticks": ""
            },
            "type": "choropleth"
           }
          ],
          "contour": [
           {
            "colorbar": {
             "outlinewidth": 0,
             "ticks": ""
            },
            "colorscale": [
             [
              0,
              "#0d0887"
             ],
             [
              0.1111111111111111,
              "#46039f"
             ],
             [
              0.2222222222222222,
              "#7201a8"
             ],
             [
              0.3333333333333333,
              "#9c179e"
             ],
             [
              0.4444444444444444,
              "#bd3786"
             ],
             [
              0.5555555555555556,
              "#d8576b"
             ],
             [
              0.6666666666666666,
              "#ed7953"
             ],
             [
              0.7777777777777778,
              "#fb9f3a"
             ],
             [
              0.8888888888888888,
              "#fdca26"
             ],
             [
              1,
              "#f0f921"
             ]
            ],
            "type": "contour"
           }
          ],
          "contourcarpet": [
           {
            "colorbar": {
             "outlinewidth": 0,
             "ticks": ""
            },
            "type": "contourcarpet"
           }
          ],
          "heatmap": [
           {
            "colorbar": {
             "outlinewidth": 0,
             "ticks": ""
            },
            "colorscale": [
             [
              0,
              "#0d0887"
             ],
             [
              0.1111111111111111,
              "#46039f"
             ],
             [
              0.2222222222222222,
              "#7201a8"
             ],
             [
              0.3333333333333333,
              "#9c179e"
             ],
             [
              0.4444444444444444,
              "#bd3786"
             ],
             [
              0.5555555555555556,
              "#d8576b"
             ],
             [
              0.6666666666666666,
              "#ed7953"
             ],
             [
              0.7777777777777778,
              "#fb9f3a"
             ],
             [
              0.8888888888888888,
              "#fdca26"
             ],
             [
              1,
              "#f0f921"
             ]
            ],
            "type": "heatmap"
           }
          ],
          "heatmapgl": [
           {
            "colorbar": {
             "outlinewidth": 0,
             "ticks": ""
            },
            "colorscale": [
             [
              0,
              "#0d0887"
             ],
             [
              0.1111111111111111,
              "#46039f"
             ],
             [
              0.2222222222222222,
              "#7201a8"
             ],
             [
              0.3333333333333333,
              "#9c179e"
             ],
             [
              0.4444444444444444,
              "#bd3786"
             ],
             [
              0.5555555555555556,
              "#d8576b"
             ],
             [
              0.6666666666666666,
              "#ed7953"
             ],
             [
              0.7777777777777778,
              "#fb9f3a"
             ],
             [
              0.8888888888888888,
              "#fdca26"
             ],
             [
              1,
              "#f0f921"
             ]
            ],
            "type": "heatmapgl"
           }
          ],
          "histogram": [
           {
            "marker": {
             "colorbar": {
              "outlinewidth": 0,
              "ticks": ""
             }
            },
            "type": "histogram"
           }
          ],
          "histogram2d": [
           {
            "colorbar": {
             "outlinewidth": 0,
             "ticks": ""
            },
            "colorscale": [
             [
              0,
              "#0d0887"
             ],
             [
              0.1111111111111111,
              "#46039f"
             ],
             [
              0.2222222222222222,
              "#7201a8"
             ],
             [
              0.3333333333333333,
              "#9c179e"
             ],
             [
              0.4444444444444444,
              "#bd3786"
             ],
             [
              0.5555555555555556,
              "#d8576b"
             ],
             [
              0.6666666666666666,
              "#ed7953"
             ],
             [
              0.7777777777777778,
              "#fb9f3a"
             ],
             [
              0.8888888888888888,
              "#fdca26"
             ],
             [
              1,
              "#f0f921"
             ]
            ],
            "type": "histogram2d"
           }
          ],
          "histogram2dcontour": [
           {
            "colorbar": {
             "outlinewidth": 0,
             "ticks": ""
            },
            "colorscale": [
             [
              0,
              "#0d0887"
             ],
             [
              0.1111111111111111,
              "#46039f"
             ],
             [
              0.2222222222222222,
              "#7201a8"
             ],
             [
              0.3333333333333333,
              "#9c179e"
             ],
             [
              0.4444444444444444,
              "#bd3786"
             ],
             [
              0.5555555555555556,
              "#d8576b"
             ],
             [
              0.6666666666666666,
              "#ed7953"
             ],
             [
              0.7777777777777778,
              "#fb9f3a"
             ],
             [
              0.8888888888888888,
              "#fdca26"
             ],
             [
              1,
              "#f0f921"
             ]
            ],
            "type": "histogram2dcontour"
           }
          ],
          "mesh3d": [
           {
            "colorbar": {
             "outlinewidth": 0,
             "ticks": ""
            },
            "type": "mesh3d"
           }
          ],
          "parcoords": [
           {
            "line": {
             "colorbar": {
              "outlinewidth": 0,
              "ticks": ""
             }
            },
            "type": "parcoords"
           }
          ],
          "pie": [
           {
            "automargin": true,
            "type": "pie"
           }
          ],
          "scatter": [
           {
            "marker": {
             "colorbar": {
              "outlinewidth": 0,
              "ticks": ""
             }
            },
            "type": "scatter"
           }
          ],
          "scatter3d": [
           {
            "line": {
             "colorbar": {
              "outlinewidth": 0,
              "ticks": ""
             }
            },
            "marker": {
             "colorbar": {
              "outlinewidth": 0,
              "ticks": ""
             }
            },
            "type": "scatter3d"
           }
          ],
          "scattercarpet": [
           {
            "marker": {
             "colorbar": {
              "outlinewidth": 0,
              "ticks": ""
             }
            },
            "type": "scattercarpet"
           }
          ],
          "scattergeo": [
           {
            "marker": {
             "colorbar": {
              "outlinewidth": 0,
              "ticks": ""
             }
            },
            "type": "scattergeo"
           }
          ],
          "scattergl": [
           {
            "marker": {
             "colorbar": {
              "outlinewidth": 0,
              "ticks": ""
             }
            },
            "type": "scattergl"
           }
          ],
          "scattermapbox": [
           {
            "marker": {
             "colorbar": {
              "outlinewidth": 0,
              "ticks": ""
             }
            },
            "type": "scattermapbox"
           }
          ],
          "scatterpolar": [
           {
            "marker": {
             "colorbar": {
              "outlinewidth": 0,
              "ticks": ""
             }
            },
            "type": "scatterpolar"
           }
          ],
          "scatterpolargl": [
           {
            "marker": {
             "colorbar": {
              "outlinewidth": 0,
              "ticks": ""
             }
            },
            "type": "scatterpolargl"
           }
          ],
          "scatterternary": [
           {
            "marker": {
             "colorbar": {
              "outlinewidth": 0,
              "ticks": ""
             }
            },
            "type": "scatterternary"
           }
          ],
          "surface": [
           {
            "colorbar": {
             "outlinewidth": 0,
             "ticks": ""
            },
            "colorscale": [
             [
              0,
              "#0d0887"
             ],
             [
              0.1111111111111111,
              "#46039f"
             ],
             [
              0.2222222222222222,
              "#7201a8"
             ],
             [
              0.3333333333333333,
              "#9c179e"
             ],
             [
              0.4444444444444444,
              "#bd3786"
             ],
             [
              0.5555555555555556,
              "#d8576b"
             ],
             [
              0.6666666666666666,
              "#ed7953"
             ],
             [
              0.7777777777777778,
              "#fb9f3a"
             ],
             [
              0.8888888888888888,
              "#fdca26"
             ],
             [
              1,
              "#f0f921"
             ]
            ],
            "type": "surface"
           }
          ],
          "table": [
           {
            "cells": {
             "fill": {
              "color": "#EBF0F8"
             },
             "line": {
              "color": "white"
             }
            },
            "header": {
             "fill": {
              "color": "#C8D4E3"
             },
             "line": {
              "color": "white"
             }
            },
            "type": "table"
           }
          ]
         },
         "layout": {
          "annotationdefaults": {
           "arrowcolor": "#2a3f5f",
           "arrowhead": 0,
           "arrowwidth": 1
          },
          "coloraxis": {
           "colorbar": {
            "outlinewidth": 0,
            "ticks": ""
           }
          },
          "colorscale": {
           "diverging": [
            [
             0,
             "#8e0152"
            ],
            [
             0.1,
             "#c51b7d"
            ],
            [
             0.2,
             "#de77ae"
            ],
            [
             0.3,
             "#f1b6da"
            ],
            [
             0.4,
             "#fde0ef"
            ],
            [
             0.5,
             "#f7f7f7"
            ],
            [
             0.6,
             "#e6f5d0"
            ],
            [
             0.7,
             "#b8e186"
            ],
            [
             0.8,
             "#7fbc41"
            ],
            [
             0.9,
             "#4d9221"
            ],
            [
             1,
             "#276419"
            ]
           ],
           "sequential": [
            [
             0,
             "#0d0887"
            ],
            [
             0.1111111111111111,
             "#46039f"
            ],
            [
             0.2222222222222222,
             "#7201a8"
            ],
            [
             0.3333333333333333,
             "#9c179e"
            ],
            [
             0.4444444444444444,
             "#bd3786"
            ],
            [
             0.5555555555555556,
             "#d8576b"
            ],
            [
             0.6666666666666666,
             "#ed7953"
            ],
            [
             0.7777777777777778,
             "#fb9f3a"
            ],
            [
             0.8888888888888888,
             "#fdca26"
            ],
            [
             1,
             "#f0f921"
            ]
           ],
           "sequentialminus": [
            [
             0,
             "#0d0887"
            ],
            [
             0.1111111111111111,
             "#46039f"
            ],
            [
             0.2222222222222222,
             "#7201a8"
            ],
            [
             0.3333333333333333,
             "#9c179e"
            ],
            [
             0.4444444444444444,
             "#bd3786"
            ],
            [
             0.5555555555555556,
             "#d8576b"
            ],
            [
             0.6666666666666666,
             "#ed7953"
            ],
            [
             0.7777777777777778,
             "#fb9f3a"
            ],
            [
             0.8888888888888888,
             "#fdca26"
            ],
            [
             1,
             "#f0f921"
            ]
           ]
          },
          "colorway": [
           "#636efa",
           "#EF553B",
           "#00cc96",
           "#ab63fa",
           "#FFA15A",
           "#19d3f3",
           "#FF6692",
           "#B6E880",
           "#FF97FF",
           "#FECB52"
          ],
          "font": {
           "color": "#2a3f5f"
          },
          "geo": {
           "bgcolor": "white",
           "lakecolor": "white",
           "landcolor": "#E5ECF6",
           "showlakes": true,
           "showland": true,
           "subunitcolor": "white"
          },
          "hoverlabel": {
           "align": "left"
          },
          "hovermode": "closest",
          "mapbox": {
           "style": "light"
          },
          "paper_bgcolor": "white",
          "plot_bgcolor": "#E5ECF6",
          "polar": {
           "angularaxis": {
            "gridcolor": "white",
            "linecolor": "white",
            "ticks": ""
           },
           "bgcolor": "#E5ECF6",
           "radialaxis": {
            "gridcolor": "white",
            "linecolor": "white",
            "ticks": ""
           }
          },
          "scene": {
           "xaxis": {
            "backgroundcolor": "#E5ECF6",
            "gridcolor": "white",
            "gridwidth": 2,
            "linecolor": "white",
            "showbackground": true,
            "ticks": "",
            "zerolinecolor": "white"
           },
           "yaxis": {
            "backgroundcolor": "#E5ECF6",
            "gridcolor": "white",
            "gridwidth": 2,
            "linecolor": "white",
            "showbackground": true,
            "ticks": "",
            "zerolinecolor": "white"
           },
           "zaxis": {
            "backgroundcolor": "#E5ECF6",
            "gridcolor": "white",
            "gridwidth": 2,
            "linecolor": "white",
            "showbackground": true,
            "ticks": "",
            "zerolinecolor": "white"
           }
          },
          "shapedefaults": {
           "line": {
            "color": "#2a3f5f"
           }
          },
          "ternary": {
           "aaxis": {
            "gridcolor": "white",
            "linecolor": "white",
            "ticks": ""
           },
           "baxis": {
            "gridcolor": "white",
            "linecolor": "white",
            "ticks": ""
           },
           "bgcolor": "#E5ECF6",
           "caxis": {
            "gridcolor": "white",
            "linecolor": "white",
            "ticks": ""
           }
          },
          "title": {
           "x": 0.05
          },
          "xaxis": {
           "automargin": true,
           "gridcolor": "white",
           "linecolor": "white",
           "ticks": "",
           "title": {
            "standoff": 15
           },
           "zerolinecolor": "white",
           "zerolinewidth": 2
          },
          "yaxis": {
           "automargin": true,
           "gridcolor": "white",
           "linecolor": "white",
           "ticks": "",
           "title": {
            "standoff": 15
           },
           "zerolinecolor": "white",
           "zerolinewidth": 2
          }
         }
        },
        "xaxis": {
         "anchor": "y",
         "domain": [
          0,
          1
         ],
         "title": {
          "text": "Temperature"
         }
        },
        "yaxis": {
         "anchor": "x",
         "domain": [
          0,
          1
         ],
         "title": {
          "text": "Oil_Saturation"
         }
        }
       }
      },
      "text/html": [
       "<div>                            <div id=\"4e632431-6316-4779-a360-92793589251a\" class=\"plotly-graph-div\" style=\"height:525px; width:100%;\"></div>            <script type=\"text/javascript\">                require([\"plotly\"], function(Plotly) {                    window.PLOTLYENV=window.PLOTLYENV || {};                                    if (document.getElementById(\"4e632431-6316-4779-a360-92793589251a\")) {                    Plotly.newPlot(                        \"4e632431-6316-4779-a360-92793589251a\",                        [{\"hovertemplate\": \"Temperature=%{x}<br>Oil_Saturation=%{y}<extra></extra>\", \"legendgroup\": \"\", \"marker\": {\"color\": \"#636efa\", \"symbol\": \"circle\"}, \"mode\": \"markers\", \"name\": \"\", \"orientation\": \"v\", \"showlegend\": false, \"type\": \"scatter\", \"x\": [102.0, 105.0, 82.0, 97.0, 104.0, 120.0, 98.0, 195.0, 195.0, 110.0, 110.0, 90.0, 54.0, 75.0, 80.0, 55.0, 100.0, 100.0, 100.0, 110.0, 110.0, 165.0, 140.0, 82.0, 105.0, 129.0, 108.0, 83.0, 101.0, 99.0, 152.0, 149.0, 190.0, 200.0, 200.0, 200.0, 95.0, 84.0, 105.0, 82.0, 83.0, 100.0, 100.0, 90.0, 130.0, 104.0, 90.0, 90.0, 130.0, 125.0, 90.0, 85.0, 80.0, 90.0, 100.0, 100.0, 100.0, 100.0, 100.0, 100.0, 90.0, 135.0, 95.0, 90.0, 95.0, 80.0, 1000.0, 100.0, 80.0, 125.0, 66.0, 60.0, 70.0, 55.0, 63.0, 62.0, 124.0, 100.0, 100.0, 122.0, 110.0, 100.0, 100.0, 100.0, 100.0, 100.0, 100.0, 104.0, 135.0, 117.0, 95.0, 178.0, 181.0, 163.0, 170.0, 148.0, 150.0, 109.0, 102.0, 130.0, 101.0, 108.0, 104.0, 91.0, 123.0, 102.0, 104.0, 125.0, 125.0, 105.0, 105.0, 105.0, 108.0, 105.0, 105.0, 108.0, 105.0, 98.0, 134.0, 105.0, 105.0, 110.0, 105.0, 108.0, 125.0, 142.0, 151.0, 106.0, 110.0, 152.0, 198.0, 164.0, 152.0, 152.0, 82.0, 82.0, 133.0, 120.0, 210.0, 235.0, 150.0, 160.0, 182.0, 180.0, 220.0, 170.0, 230.0, 225.0, 184.0, 183.0, 188.0, 180.0, 204.0, 198.0, 199.0, 198.0, 190.0, 200.0, 196.0, 167.0, 188.0, 188.0, 190.0, 129.8, 230.0, 215.0, 220.0, 215.0, 215.0, 215.0, 215.0, 215.0, 200.0, 131.0, 105.0, 112.0, 105.0, 99.0, 122.0, 60.0, 63.0, 80.0, 70.0, 75.0, 110.0, 54.0, 55.0, 80.0, 60.0, 100.0, 100.0, 97.0, 102.0, 105.0, 206.0, 128.0, 183.0, 156.0, 85.0, 100.0, 55.0, 129.8, 225.0], \"xaxis\": \"x\", \"y\": [50.0, 57.0, 60.0, 35.0, 39.0, 50.0, 35.0, 67.0, 67.0, 45.0, 50.0, 65.0, 85.0, 55.0, 48.0, 70.0, 70.0, 7.0, 70.0, 58.0, 75.0, 30.0, 45.0, 45.0, 55.0, 60.0, 60.0, 60.0, 60.0, 32.0, 37.0, 45.0, 45.0, 85.0, 83.0, 32.0, 60.0, 55.0, 65.0, 60.0, 60.0, 70.0, 70.0, 60.0, 75.0, 65.0, 75.0, 60.0, 55.0, 55.0, 60.0, 70.0, 70.0, 60.0, 50.0, 53.0, 60.0, 50.0, 60.0, 44.0, 50.0, 46.0, 85.0, 50.0, 45.0, 50.0, 80.0, 65.0, 70.0, 58.0, 90.0, 60.0, 85.0, 70.0, 0.8, 80.0, 76.0, 70.0, 70.0, 70.0, 80.0, 50.0, 70.0, 80.0, 70.0, 62.0, 60.0, 75.0, 78.0, 70.0, 80.0, 49.0, 50.0, 50.0, 46.0, 40.0, 55.0, 49.0, 40.0, 38.0, 43.0, 89.0, 40.0, 48.0, 38.0, 47.0, 47.0, 47.0, 40.0, 47.0, 42.0, 70.0, 50.0, 75.0, 51.0, 49.0, 56.0, 30.0, 65.0, 80.0, 80.0, 43.0, 80.0, 26.5, 60.0, 60.0, 60.0, 60.0, 54.4, 42.0, 86.0, 30.0, 60.0, 60.0, 75.0, 75.0, 38.0, 50.0, 50.0, 45.0, 80.0, 80.0, 70.0, 70.0, 75.0, 75.0, 55.0, 30.0, 92.0, 52.0, 52.0, 50.0, 80.0, 82.0, 88.0, 93.0, 84.0, 87.0, 91.0, 93.0, 90.0, 88.0, 73.5, 94.0, 52.0, 50.0, 50.0, 55.0, 55.0, 55.0, 55.0, 55.0, 75.0, 88.0, 32.0, 32.0, 39.0, 32.0, 53.0, 70.0, 75.0, 60.0, 60.0, 65.0, 65.0, 85.0, 60.0, 85.0, 70.0, 70.0, 50.0, 80.0, 60.0, 60.0, 60.0, 60.0, 50.0, 50.0, 65.0, 65.0, 85.0, 60.0, 30.0], \"yaxis\": \"y\"}],                        {\"legend\": {\"tracegroupgap\": 0}, \"margin\": {\"t\": 60}, \"template\": {\"data\": {\"bar\": [{\"error_x\": {\"color\": \"#2a3f5f\"}, \"error_y\": {\"color\": \"#2a3f5f\"}, \"marker\": {\"line\": {\"color\": \"#E5ECF6\", \"width\": 0.5}}, \"type\": \"bar\"}], \"barpolar\": [{\"marker\": {\"line\": {\"color\": \"#E5ECF6\", \"width\": 0.5}}, \"type\": \"barpolar\"}], \"carpet\": [{\"aaxis\": {\"endlinecolor\": \"#2a3f5f\", \"gridcolor\": \"white\", \"linecolor\": \"white\", \"minorgridcolor\": \"white\", \"startlinecolor\": \"#2a3f5f\"}, \"baxis\": {\"endlinecolor\": \"#2a3f5f\", \"gridcolor\": \"white\", \"linecolor\": \"white\", \"minorgridcolor\": \"white\", \"startlinecolor\": \"#2a3f5f\"}, \"type\": \"carpet\"}], \"choropleth\": [{\"colorbar\": {\"outlinewidth\": 0, \"ticks\": \"\"}, \"type\": \"choropleth\"}], \"contour\": [{\"colorbar\": {\"outlinewidth\": 0, \"ticks\": \"\"}, \"colorscale\": [[0.0, \"#0d0887\"], [0.1111111111111111, \"#46039f\"], [0.2222222222222222, \"#7201a8\"], [0.3333333333333333, \"#9c179e\"], [0.4444444444444444, \"#bd3786\"], [0.5555555555555556, \"#d8576b\"], [0.6666666666666666, \"#ed7953\"], [0.7777777777777778, \"#fb9f3a\"], [0.8888888888888888, \"#fdca26\"], [1.0, \"#f0f921\"]], \"type\": \"contour\"}], \"contourcarpet\": [{\"colorbar\": {\"outlinewidth\": 0, \"ticks\": \"\"}, \"type\": \"contourcarpet\"}], \"heatmap\": [{\"colorbar\": {\"outlinewidth\": 0, \"ticks\": \"\"}, \"colorscale\": [[0.0, \"#0d0887\"], [0.1111111111111111, \"#46039f\"], [0.2222222222222222, \"#7201a8\"], [0.3333333333333333, \"#9c179e\"], [0.4444444444444444, \"#bd3786\"], [0.5555555555555556, \"#d8576b\"], [0.6666666666666666, \"#ed7953\"], [0.7777777777777778, \"#fb9f3a\"], [0.8888888888888888, \"#fdca26\"], [1.0, \"#f0f921\"]], \"type\": \"heatmap\"}], \"heatmapgl\": [{\"colorbar\": {\"outlinewidth\": 0, \"ticks\": \"\"}, \"colorscale\": [[0.0, \"#0d0887\"], [0.1111111111111111, \"#46039f\"], [0.2222222222222222, \"#7201a8\"], [0.3333333333333333, \"#9c179e\"], [0.4444444444444444, \"#bd3786\"], [0.5555555555555556, \"#d8576b\"], [0.6666666666666666, \"#ed7953\"], [0.7777777777777778, \"#fb9f3a\"], [0.8888888888888888, \"#fdca26\"], [1.0, \"#f0f921\"]], \"type\": \"heatmapgl\"}], \"histogram\": [{\"marker\": {\"colorbar\": {\"outlinewidth\": 0, \"ticks\": \"\"}}, \"type\": \"histogram\"}], \"histogram2d\": [{\"colorbar\": {\"outlinewidth\": 0, \"ticks\": \"\"}, \"colorscale\": [[0.0, \"#0d0887\"], [0.1111111111111111, \"#46039f\"], [0.2222222222222222, \"#7201a8\"], [0.3333333333333333, \"#9c179e\"], [0.4444444444444444, \"#bd3786\"], [0.5555555555555556, \"#d8576b\"], [0.6666666666666666, \"#ed7953\"], [0.7777777777777778, \"#fb9f3a\"], [0.8888888888888888, \"#fdca26\"], [1.0, \"#f0f921\"]], \"type\": \"histogram2d\"}], \"histogram2dcontour\": [{\"colorbar\": {\"outlinewidth\": 0, \"ticks\": \"\"}, \"colorscale\": [[0.0, \"#0d0887\"], [0.1111111111111111, \"#46039f\"], [0.2222222222222222, \"#7201a8\"], [0.3333333333333333, \"#9c179e\"], [0.4444444444444444, \"#bd3786\"], [0.5555555555555556, \"#d8576b\"], [0.6666666666666666, \"#ed7953\"], [0.7777777777777778, \"#fb9f3a\"], [0.8888888888888888, \"#fdca26\"], [1.0, \"#f0f921\"]], \"type\": \"histogram2dcontour\"}], \"mesh3d\": [{\"colorbar\": {\"outlinewidth\": 0, \"ticks\": \"\"}, \"type\": \"mesh3d\"}], \"parcoords\": [{\"line\": {\"colorbar\": {\"outlinewidth\": 0, \"ticks\": \"\"}}, \"type\": \"parcoords\"}], \"pie\": [{\"automargin\": true, \"type\": \"pie\"}], \"scatter\": [{\"marker\": {\"colorbar\": {\"outlinewidth\": 0, \"ticks\": \"\"}}, \"type\": \"scatter\"}], \"scatter3d\": [{\"line\": {\"colorbar\": {\"outlinewidth\": 0, \"ticks\": \"\"}}, \"marker\": {\"colorbar\": {\"outlinewidth\": 0, \"ticks\": \"\"}}, \"type\": \"scatter3d\"}], \"scattercarpet\": [{\"marker\": {\"colorbar\": {\"outlinewidth\": 0, \"ticks\": \"\"}}, \"type\": \"scattercarpet\"}], \"scattergeo\": [{\"marker\": {\"colorbar\": {\"outlinewidth\": 0, \"ticks\": \"\"}}, \"type\": \"scattergeo\"}], \"scattergl\": [{\"marker\": {\"colorbar\": {\"outlinewidth\": 0, \"ticks\": \"\"}}, \"type\": \"scattergl\"}], \"scattermapbox\": [{\"marker\": {\"colorbar\": {\"outlinewidth\": 0, \"ticks\": \"\"}}, \"type\": \"scattermapbox\"}], \"scatterpolar\": [{\"marker\": {\"colorbar\": {\"outlinewidth\": 0, \"ticks\": \"\"}}, \"type\": \"scatterpolar\"}], \"scatterpolargl\": [{\"marker\": {\"colorbar\": {\"outlinewidth\": 0, \"ticks\": \"\"}}, \"type\": \"scatterpolargl\"}], \"scatterternary\": [{\"marker\": {\"colorbar\": {\"outlinewidth\": 0, \"ticks\": \"\"}}, \"type\": \"scatterternary\"}], \"surface\": [{\"colorbar\": {\"outlinewidth\": 0, \"ticks\": \"\"}, \"colorscale\": [[0.0, \"#0d0887\"], [0.1111111111111111, \"#46039f\"], [0.2222222222222222, \"#7201a8\"], [0.3333333333333333, \"#9c179e\"], [0.4444444444444444, \"#bd3786\"], [0.5555555555555556, \"#d8576b\"], [0.6666666666666666, \"#ed7953\"], [0.7777777777777778, \"#fb9f3a\"], [0.8888888888888888, \"#fdca26\"], [1.0, \"#f0f921\"]], \"type\": \"surface\"}], \"table\": [{\"cells\": {\"fill\": {\"color\": \"#EBF0F8\"}, \"line\": {\"color\": \"white\"}}, \"header\": {\"fill\": {\"color\": \"#C8D4E3\"}, \"line\": {\"color\": \"white\"}}, \"type\": \"table\"}]}, \"layout\": {\"annotationdefaults\": {\"arrowcolor\": \"#2a3f5f\", \"arrowhead\": 0, \"arrowwidth\": 1}, \"coloraxis\": {\"colorbar\": {\"outlinewidth\": 0, \"ticks\": \"\"}}, \"colorscale\": {\"diverging\": [[0, \"#8e0152\"], [0.1, \"#c51b7d\"], [0.2, \"#de77ae\"], [0.3, \"#f1b6da\"], [0.4, \"#fde0ef\"], [0.5, \"#f7f7f7\"], [0.6, \"#e6f5d0\"], [0.7, \"#b8e186\"], [0.8, \"#7fbc41\"], [0.9, \"#4d9221\"], [1, \"#276419\"]], \"sequential\": [[0.0, \"#0d0887\"], [0.1111111111111111, \"#46039f\"], [0.2222222222222222, \"#7201a8\"], [0.3333333333333333, \"#9c179e\"], [0.4444444444444444, \"#bd3786\"], [0.5555555555555556, \"#d8576b\"], [0.6666666666666666, \"#ed7953\"], [0.7777777777777778, \"#fb9f3a\"], [0.8888888888888888, \"#fdca26\"], [1.0, \"#f0f921\"]], \"sequentialminus\": [[0.0, \"#0d0887\"], [0.1111111111111111, \"#46039f\"], [0.2222222222222222, \"#7201a8\"], [0.3333333333333333, \"#9c179e\"], [0.4444444444444444, \"#bd3786\"], [0.5555555555555556, \"#d8576b\"], [0.6666666666666666, \"#ed7953\"], [0.7777777777777778, \"#fb9f3a\"], [0.8888888888888888, \"#fdca26\"], [1.0, \"#f0f921\"]]}, \"colorway\": [\"#636efa\", \"#EF553B\", \"#00cc96\", \"#ab63fa\", \"#FFA15A\", \"#19d3f3\", \"#FF6692\", \"#B6E880\", \"#FF97FF\", \"#FECB52\"], \"font\": {\"color\": \"#2a3f5f\"}, \"geo\": {\"bgcolor\": \"white\", \"lakecolor\": \"white\", \"landcolor\": \"#E5ECF6\", \"showlakes\": true, \"showland\": true, \"subunitcolor\": \"white\"}, \"hoverlabel\": {\"align\": \"left\"}, \"hovermode\": \"closest\", \"mapbox\": {\"style\": \"light\"}, \"paper_bgcolor\": \"white\", \"plot_bgcolor\": \"#E5ECF6\", \"polar\": {\"angularaxis\": {\"gridcolor\": \"white\", \"linecolor\": \"white\", \"ticks\": \"\"}, \"bgcolor\": \"#E5ECF6\", \"radialaxis\": {\"gridcolor\": \"white\", \"linecolor\": \"white\", \"ticks\": \"\"}}, \"scene\": {\"xaxis\": {\"backgroundcolor\": \"#E5ECF6\", \"gridcolor\": \"white\", \"gridwidth\": 2, \"linecolor\": \"white\", \"showbackground\": true, \"ticks\": \"\", \"zerolinecolor\": \"white\"}, \"yaxis\": {\"backgroundcolor\": \"#E5ECF6\", \"gridcolor\": \"white\", \"gridwidth\": 2, \"linecolor\": \"white\", \"showbackground\": true, \"ticks\": \"\", \"zerolinecolor\": \"white\"}, \"zaxis\": {\"backgroundcolor\": \"#E5ECF6\", \"gridcolor\": \"white\", \"gridwidth\": 2, \"linecolor\": \"white\", \"showbackground\": true, \"ticks\": \"\", \"zerolinecolor\": \"white\"}}, \"shapedefaults\": {\"line\": {\"color\": \"#2a3f5f\"}}, \"ternary\": {\"aaxis\": {\"gridcolor\": \"white\", \"linecolor\": \"white\", \"ticks\": \"\"}, \"baxis\": {\"gridcolor\": \"white\", \"linecolor\": \"white\", \"ticks\": \"\"}, \"bgcolor\": \"#E5ECF6\", \"caxis\": {\"gridcolor\": \"white\", \"linecolor\": \"white\", \"ticks\": \"\"}}, \"title\": {\"x\": 0.05}, \"xaxis\": {\"automargin\": true, \"gridcolor\": \"white\", \"linecolor\": \"white\", \"ticks\": \"\", \"title\": {\"standoff\": 15}, \"zerolinecolor\": \"white\", \"zerolinewidth\": 2}, \"yaxis\": {\"automargin\": true, \"gridcolor\": \"white\", \"linecolor\": \"white\", \"ticks\": \"\", \"title\": {\"standoff\": 15}, \"zerolinecolor\": \"white\", \"zerolinewidth\": 2}}}, \"xaxis\": {\"anchor\": \"y\", \"domain\": [0.0, 1.0], \"title\": {\"text\": \"Temperature\"}}, \"yaxis\": {\"anchor\": \"x\", \"domain\": [0.0, 1.0], \"title\": {\"text\": \"Oil_Saturation\"}}},                        {\"responsive\": true}                    ).then(function(){\n",
       "                            \n",
       "var gd = document.getElementById('4e632431-6316-4779-a360-92793589251a');\n",
       "var x = new MutationObserver(function (mutations, observer) {{\n",
       "        var display = window.getComputedStyle(gd).display;\n",
       "        if (!display || display === 'none') {{\n",
       "            console.log([gd, 'removed!']);\n",
       "            Plotly.purge(gd);\n",
       "            observer.disconnect();\n",
       "        }}\n",
       "}});\n",
       "\n",
       "// Listen for the removal of the full notebook cells\n",
       "var notebookContainer = gd.closest('#notebook-container');\n",
       "if (notebookContainer) {{\n",
       "    x.observe(notebookContainer, {childList: true});\n",
       "}}\n",
       "\n",
       "// Listen for the clearing of the current output cell\n",
       "var outputEl = gd.closest('.output');\n",
       "if (outputEl) {{\n",
       "    x.observe(outputEl, {childList: true});\n",
       "}}\n",
       "\n",
       "                        })                };                });            </script>        </div>"
      ]
     },
     "metadata": {},
     "output_type": "display_data"
    }
   ],
   "source": [
    "px.scatter(data,  x=\"Temperature\", y=\"Oil_Saturation\")"
   ]
  },
  {
   "cell_type": "code",
   "execution_count": 80,
   "metadata": {},
   "outputs": [
    {
     "data": {
      "application/vnd.plotly.v1+json": {
       "config": {
        "plotlyServerURL": "https://plot.ly"
       },
       "data": [
        {
         "hovertemplate": "Temperature=%{x}<br>Gravity=%{y}<extra></extra>",
         "legendgroup": "",
         "marker": {
          "color": "#636efa",
          "symbol": "circle"
         },
         "mode": "markers",
         "name": "",
         "orientation": "v",
         "showlegend": false,
         "type": "scatter",
         "x": [
          102,
          105,
          82,
          97,
          104,
          120,
          98,
          195,
          195,
          110,
          110,
          90,
          54,
          75,
          80,
          55,
          100,
          100,
          100,
          110,
          110,
          165,
          140,
          82,
          105,
          129,
          108,
          83,
          101,
          99,
          152,
          149,
          190,
          200,
          200,
          200,
          95,
          84,
          105,
          82,
          83,
          100,
          100,
          90,
          130,
          104,
          90,
          90,
          130,
          125,
          90,
          85,
          80,
          90,
          100,
          100,
          100,
          100,
          100,
          100,
          90,
          135,
          95,
          90,
          95,
          80,
          1000,
          100,
          80,
          125,
          66,
          60,
          70,
          55,
          63,
          62,
          124,
          100,
          100,
          122,
          110,
          100,
          100,
          100,
          100,
          100,
          100,
          104,
          135,
          117,
          95,
          178,
          181,
          163,
          170,
          148,
          150,
          109,
          102,
          130,
          101,
          108,
          104,
          91,
          123,
          102,
          104,
          125,
          125,
          105,
          105,
          105,
          108,
          105,
          105,
          108,
          105,
          98,
          134,
          105,
          105,
          110,
          105,
          108,
          125,
          142,
          151,
          106,
          110,
          152,
          198,
          164,
          152,
          152,
          82,
          82,
          133,
          120,
          210,
          235,
          150,
          160,
          182,
          180,
          220,
          170,
          230,
          225,
          184,
          183,
          188,
          180,
          204,
          198,
          199,
          198,
          190,
          200,
          196,
          167,
          188,
          188,
          190,
          129.8,
          230,
          215,
          220,
          215,
          215,
          215,
          215,
          215,
          200,
          131,
          105,
          112,
          105,
          99,
          122,
          60,
          63,
          80,
          70,
          75,
          110,
          54,
          55,
          80,
          60,
          100,
          100,
          97,
          102,
          105,
          206,
          128,
          183,
          156,
          85,
          100,
          55,
          129.8,
          225
         ],
         "xaxis": "x",
         "y": [
          34,
          19,
          40,
          41,
          42,
          33,
          34,
          43,
          44,
          30,
          13,
          14,
          20,
          12.7,
          13.9,
          10,
          25,
          25,
          25,
          17,
          17,
          31,
          28,
          38,
          32,
          42,
          33,
          36,
          40,
          35,
          22,
          30,
          39,
          33,
          33,
          30,
          13,
          10,
          14,
          13,
          12,
          12,
          13,
          13,
          11,
          13,
          12.5,
          14,
          12,
          11,
          10,
          14,
          13,
          13,
          13,
          12,
          12,
          11,
          12,
          14,
          13,
          12,
          13,
          14,
          14.8,
          14,
          16,
          12,
          13,
          13,
          13,
          12,
          12,
          10.2,
          8,
          8,
          13,
          15,
          15,
          21,
          10,
          25,
          25,
          25,
          25,
          22,
          22,
          11,
          39,
          38,
          35,
          35,
          35,
          35,
          35,
          35,
          38,
          30,
          32,
          40,
          40,
          34,
          44,
          34,
          40,
          35,
          43,
          39,
          43,
          31,
          31,
          31,
          31,
          34,
          31,
          31,
          32,
          34,
          28,
          34,
          33,
          34,
          32,
          32,
          41,
          44,
          43.5,
          33,
          33,
          22,
          11,
          34,
          22.8,
          22.8,
          22.8,
          30,
          42,
          35,
          27,
          26,
          24,
          25,
          27,
          38,
          27,
          22,
          41,
          41,
          39,
          40,
          38,
          48,
          43.2,
          43.6,
          40.9,
          41.1,
          43.4,
          45.4,
          41.3,
          38,
          37,
          40,
          38,
          19,
          38,
          33,
          33,
          33,
          33,
          31,
          32,
          31,
          33,
          9.3,
          39,
          39,
          37,
          35,
          39,
          13,
          15,
          13,
          14,
          14,
          19,
          16,
          17.6,
          11,
          20,
          15,
          25,
          18,
          34,
          35,
          41.5,
          41,
          36,
          39.4,
          18,
          20,
          10,
          26.9,
          41
         ],
         "yaxis": "y"
        }
       ],
       "layout": {
        "legend": {
         "tracegroupgap": 0
        },
        "margin": {
         "t": 60
        },
        "template": {
         "data": {
          "bar": [
           {
            "error_x": {
             "color": "#2a3f5f"
            },
            "error_y": {
             "color": "#2a3f5f"
            },
            "marker": {
             "line": {
              "color": "#E5ECF6",
              "width": 0.5
             }
            },
            "type": "bar"
           }
          ],
          "barpolar": [
           {
            "marker": {
             "line": {
              "color": "#E5ECF6",
              "width": 0.5
             }
            },
            "type": "barpolar"
           }
          ],
          "carpet": [
           {
            "aaxis": {
             "endlinecolor": "#2a3f5f",
             "gridcolor": "white",
             "linecolor": "white",
             "minorgridcolor": "white",
             "startlinecolor": "#2a3f5f"
            },
            "baxis": {
             "endlinecolor": "#2a3f5f",
             "gridcolor": "white",
             "linecolor": "white",
             "minorgridcolor": "white",
             "startlinecolor": "#2a3f5f"
            },
            "type": "carpet"
           }
          ],
          "choropleth": [
           {
            "colorbar": {
             "outlinewidth": 0,
             "ticks": ""
            },
            "type": "choropleth"
           }
          ],
          "contour": [
           {
            "colorbar": {
             "outlinewidth": 0,
             "ticks": ""
            },
            "colorscale": [
             [
              0,
              "#0d0887"
             ],
             [
              0.1111111111111111,
              "#46039f"
             ],
             [
              0.2222222222222222,
              "#7201a8"
             ],
             [
              0.3333333333333333,
              "#9c179e"
             ],
             [
              0.4444444444444444,
              "#bd3786"
             ],
             [
              0.5555555555555556,
              "#d8576b"
             ],
             [
              0.6666666666666666,
              "#ed7953"
             ],
             [
              0.7777777777777778,
              "#fb9f3a"
             ],
             [
              0.8888888888888888,
              "#fdca26"
             ],
             [
              1,
              "#f0f921"
             ]
            ],
            "type": "contour"
           }
          ],
          "contourcarpet": [
           {
            "colorbar": {
             "outlinewidth": 0,
             "ticks": ""
            },
            "type": "contourcarpet"
           }
          ],
          "heatmap": [
           {
            "colorbar": {
             "outlinewidth": 0,
             "ticks": ""
            },
            "colorscale": [
             [
              0,
              "#0d0887"
             ],
             [
              0.1111111111111111,
              "#46039f"
             ],
             [
              0.2222222222222222,
              "#7201a8"
             ],
             [
              0.3333333333333333,
              "#9c179e"
             ],
             [
              0.4444444444444444,
              "#bd3786"
             ],
             [
              0.5555555555555556,
              "#d8576b"
             ],
             [
              0.6666666666666666,
              "#ed7953"
             ],
             [
              0.7777777777777778,
              "#fb9f3a"
             ],
             [
              0.8888888888888888,
              "#fdca26"
             ],
             [
              1,
              "#f0f921"
             ]
            ],
            "type": "heatmap"
           }
          ],
          "heatmapgl": [
           {
            "colorbar": {
             "outlinewidth": 0,
             "ticks": ""
            },
            "colorscale": [
             [
              0,
              "#0d0887"
             ],
             [
              0.1111111111111111,
              "#46039f"
             ],
             [
              0.2222222222222222,
              "#7201a8"
             ],
             [
              0.3333333333333333,
              "#9c179e"
             ],
             [
              0.4444444444444444,
              "#bd3786"
             ],
             [
              0.5555555555555556,
              "#d8576b"
             ],
             [
              0.6666666666666666,
              "#ed7953"
             ],
             [
              0.7777777777777778,
              "#fb9f3a"
             ],
             [
              0.8888888888888888,
              "#fdca26"
             ],
             [
              1,
              "#f0f921"
             ]
            ],
            "type": "heatmapgl"
           }
          ],
          "histogram": [
           {
            "marker": {
             "colorbar": {
              "outlinewidth": 0,
              "ticks": ""
             }
            },
            "type": "histogram"
           }
          ],
          "histogram2d": [
           {
            "colorbar": {
             "outlinewidth": 0,
             "ticks": ""
            },
            "colorscale": [
             [
              0,
              "#0d0887"
             ],
             [
              0.1111111111111111,
              "#46039f"
             ],
             [
              0.2222222222222222,
              "#7201a8"
             ],
             [
              0.3333333333333333,
              "#9c179e"
             ],
             [
              0.4444444444444444,
              "#bd3786"
             ],
             [
              0.5555555555555556,
              "#d8576b"
             ],
             [
              0.6666666666666666,
              "#ed7953"
             ],
             [
              0.7777777777777778,
              "#fb9f3a"
             ],
             [
              0.8888888888888888,
              "#fdca26"
             ],
             [
              1,
              "#f0f921"
             ]
            ],
            "type": "histogram2d"
           }
          ],
          "histogram2dcontour": [
           {
            "colorbar": {
             "outlinewidth": 0,
             "ticks": ""
            },
            "colorscale": [
             [
              0,
              "#0d0887"
             ],
             [
              0.1111111111111111,
              "#46039f"
             ],
             [
              0.2222222222222222,
              "#7201a8"
             ],
             [
              0.3333333333333333,
              "#9c179e"
             ],
             [
              0.4444444444444444,
              "#bd3786"
             ],
             [
              0.5555555555555556,
              "#d8576b"
             ],
             [
              0.6666666666666666,
              "#ed7953"
             ],
             [
              0.7777777777777778,
              "#fb9f3a"
             ],
             [
              0.8888888888888888,
              "#fdca26"
             ],
             [
              1,
              "#f0f921"
             ]
            ],
            "type": "histogram2dcontour"
           }
          ],
          "mesh3d": [
           {
            "colorbar": {
             "outlinewidth": 0,
             "ticks": ""
            },
            "type": "mesh3d"
           }
          ],
          "parcoords": [
           {
            "line": {
             "colorbar": {
              "outlinewidth": 0,
              "ticks": ""
             }
            },
            "type": "parcoords"
           }
          ],
          "pie": [
           {
            "automargin": true,
            "type": "pie"
           }
          ],
          "scatter": [
           {
            "marker": {
             "colorbar": {
              "outlinewidth": 0,
              "ticks": ""
             }
            },
            "type": "scatter"
           }
          ],
          "scatter3d": [
           {
            "line": {
             "colorbar": {
              "outlinewidth": 0,
              "ticks": ""
             }
            },
            "marker": {
             "colorbar": {
              "outlinewidth": 0,
              "ticks": ""
             }
            },
            "type": "scatter3d"
           }
          ],
          "scattercarpet": [
           {
            "marker": {
             "colorbar": {
              "outlinewidth": 0,
              "ticks": ""
             }
            },
            "type": "scattercarpet"
           }
          ],
          "scattergeo": [
           {
            "marker": {
             "colorbar": {
              "outlinewidth": 0,
              "ticks": ""
             }
            },
            "type": "scattergeo"
           }
          ],
          "scattergl": [
           {
            "marker": {
             "colorbar": {
              "outlinewidth": 0,
              "ticks": ""
             }
            },
            "type": "scattergl"
           }
          ],
          "scattermapbox": [
           {
            "marker": {
             "colorbar": {
              "outlinewidth": 0,
              "ticks": ""
             }
            },
            "type": "scattermapbox"
           }
          ],
          "scatterpolar": [
           {
            "marker": {
             "colorbar": {
              "outlinewidth": 0,
              "ticks": ""
             }
            },
            "type": "scatterpolar"
           }
          ],
          "scatterpolargl": [
           {
            "marker": {
             "colorbar": {
              "outlinewidth": 0,
              "ticks": ""
             }
            },
            "type": "scatterpolargl"
           }
          ],
          "scatterternary": [
           {
            "marker": {
             "colorbar": {
              "outlinewidth": 0,
              "ticks": ""
             }
            },
            "type": "scatterternary"
           }
          ],
          "surface": [
           {
            "colorbar": {
             "outlinewidth": 0,
             "ticks": ""
            },
            "colorscale": [
             [
              0,
              "#0d0887"
             ],
             [
              0.1111111111111111,
              "#46039f"
             ],
             [
              0.2222222222222222,
              "#7201a8"
             ],
             [
              0.3333333333333333,
              "#9c179e"
             ],
             [
              0.4444444444444444,
              "#bd3786"
             ],
             [
              0.5555555555555556,
              "#d8576b"
             ],
             [
              0.6666666666666666,
              "#ed7953"
             ],
             [
              0.7777777777777778,
              "#fb9f3a"
             ],
             [
              0.8888888888888888,
              "#fdca26"
             ],
             [
              1,
              "#f0f921"
             ]
            ],
            "type": "surface"
           }
          ],
          "table": [
           {
            "cells": {
             "fill": {
              "color": "#EBF0F8"
             },
             "line": {
              "color": "white"
             }
            },
            "header": {
             "fill": {
              "color": "#C8D4E3"
             },
             "line": {
              "color": "white"
             }
            },
            "type": "table"
           }
          ]
         },
         "layout": {
          "annotationdefaults": {
           "arrowcolor": "#2a3f5f",
           "arrowhead": 0,
           "arrowwidth": 1
          },
          "coloraxis": {
           "colorbar": {
            "outlinewidth": 0,
            "ticks": ""
           }
          },
          "colorscale": {
           "diverging": [
            [
             0,
             "#8e0152"
            ],
            [
             0.1,
             "#c51b7d"
            ],
            [
             0.2,
             "#de77ae"
            ],
            [
             0.3,
             "#f1b6da"
            ],
            [
             0.4,
             "#fde0ef"
            ],
            [
             0.5,
             "#f7f7f7"
            ],
            [
             0.6,
             "#e6f5d0"
            ],
            [
             0.7,
             "#b8e186"
            ],
            [
             0.8,
             "#7fbc41"
            ],
            [
             0.9,
             "#4d9221"
            ],
            [
             1,
             "#276419"
            ]
           ],
           "sequential": [
            [
             0,
             "#0d0887"
            ],
            [
             0.1111111111111111,
             "#46039f"
            ],
            [
             0.2222222222222222,
             "#7201a8"
            ],
            [
             0.3333333333333333,
             "#9c179e"
            ],
            [
             0.4444444444444444,
             "#bd3786"
            ],
            [
             0.5555555555555556,
             "#d8576b"
            ],
            [
             0.6666666666666666,
             "#ed7953"
            ],
            [
             0.7777777777777778,
             "#fb9f3a"
            ],
            [
             0.8888888888888888,
             "#fdca26"
            ],
            [
             1,
             "#f0f921"
            ]
           ],
           "sequentialminus": [
            [
             0,
             "#0d0887"
            ],
            [
             0.1111111111111111,
             "#46039f"
            ],
            [
             0.2222222222222222,
             "#7201a8"
            ],
            [
             0.3333333333333333,
             "#9c179e"
            ],
            [
             0.4444444444444444,
             "#bd3786"
            ],
            [
             0.5555555555555556,
             "#d8576b"
            ],
            [
             0.6666666666666666,
             "#ed7953"
            ],
            [
             0.7777777777777778,
             "#fb9f3a"
            ],
            [
             0.8888888888888888,
             "#fdca26"
            ],
            [
             1,
             "#f0f921"
            ]
           ]
          },
          "colorway": [
           "#636efa",
           "#EF553B",
           "#00cc96",
           "#ab63fa",
           "#FFA15A",
           "#19d3f3",
           "#FF6692",
           "#B6E880",
           "#FF97FF",
           "#FECB52"
          ],
          "font": {
           "color": "#2a3f5f"
          },
          "geo": {
           "bgcolor": "white",
           "lakecolor": "white",
           "landcolor": "#E5ECF6",
           "showlakes": true,
           "showland": true,
           "subunitcolor": "white"
          },
          "hoverlabel": {
           "align": "left"
          },
          "hovermode": "closest",
          "mapbox": {
           "style": "light"
          },
          "paper_bgcolor": "white",
          "plot_bgcolor": "#E5ECF6",
          "polar": {
           "angularaxis": {
            "gridcolor": "white",
            "linecolor": "white",
            "ticks": ""
           },
           "bgcolor": "#E5ECF6",
           "radialaxis": {
            "gridcolor": "white",
            "linecolor": "white",
            "ticks": ""
           }
          },
          "scene": {
           "xaxis": {
            "backgroundcolor": "#E5ECF6",
            "gridcolor": "white",
            "gridwidth": 2,
            "linecolor": "white",
            "showbackground": true,
            "ticks": "",
            "zerolinecolor": "white"
           },
           "yaxis": {
            "backgroundcolor": "#E5ECF6",
            "gridcolor": "white",
            "gridwidth": 2,
            "linecolor": "white",
            "showbackground": true,
            "ticks": "",
            "zerolinecolor": "white"
           },
           "zaxis": {
            "backgroundcolor": "#E5ECF6",
            "gridcolor": "white",
            "gridwidth": 2,
            "linecolor": "white",
            "showbackground": true,
            "ticks": "",
            "zerolinecolor": "white"
           }
          },
          "shapedefaults": {
           "line": {
            "color": "#2a3f5f"
           }
          },
          "ternary": {
           "aaxis": {
            "gridcolor": "white",
            "linecolor": "white",
            "ticks": ""
           },
           "baxis": {
            "gridcolor": "white",
            "linecolor": "white",
            "ticks": ""
           },
           "bgcolor": "#E5ECF6",
           "caxis": {
            "gridcolor": "white",
            "linecolor": "white",
            "ticks": ""
           }
          },
          "title": {
           "x": 0.05
          },
          "xaxis": {
           "automargin": true,
           "gridcolor": "white",
           "linecolor": "white",
           "ticks": "",
           "title": {
            "standoff": 15
           },
           "zerolinecolor": "white",
           "zerolinewidth": 2
          },
          "yaxis": {
           "automargin": true,
           "gridcolor": "white",
           "linecolor": "white",
           "ticks": "",
           "title": {
            "standoff": 15
           },
           "zerolinecolor": "white",
           "zerolinewidth": 2
          }
         }
        },
        "xaxis": {
         "anchor": "y",
         "domain": [
          0,
          1
         ],
         "title": {
          "text": "Temperature"
         }
        },
        "yaxis": {
         "anchor": "x",
         "domain": [
          0,
          1
         ],
         "title": {
          "text": "Gravity"
         }
        }
       }
      },
      "text/html": [
       "<div>                            <div id=\"a7ef602e-9476-4d27-82f1-fa4ec0bf61b8\" class=\"plotly-graph-div\" style=\"height:525px; width:100%;\"></div>            <script type=\"text/javascript\">                require([\"plotly\"], function(Plotly) {                    window.PLOTLYENV=window.PLOTLYENV || {};                                    if (document.getElementById(\"a7ef602e-9476-4d27-82f1-fa4ec0bf61b8\")) {                    Plotly.newPlot(                        \"a7ef602e-9476-4d27-82f1-fa4ec0bf61b8\",                        [{\"hovertemplate\": \"Temperature=%{x}<br>Gravity=%{y}<extra></extra>\", \"legendgroup\": \"\", \"marker\": {\"color\": \"#636efa\", \"symbol\": \"circle\"}, \"mode\": \"markers\", \"name\": \"\", \"orientation\": \"v\", \"showlegend\": false, \"type\": \"scatter\", \"x\": [102.0, 105.0, 82.0, 97.0, 104.0, 120.0, 98.0, 195.0, 195.0, 110.0, 110.0, 90.0, 54.0, 75.0, 80.0, 55.0, 100.0, 100.0, 100.0, 110.0, 110.0, 165.0, 140.0, 82.0, 105.0, 129.0, 108.0, 83.0, 101.0, 99.0, 152.0, 149.0, 190.0, 200.0, 200.0, 200.0, 95.0, 84.0, 105.0, 82.0, 83.0, 100.0, 100.0, 90.0, 130.0, 104.0, 90.0, 90.0, 130.0, 125.0, 90.0, 85.0, 80.0, 90.0, 100.0, 100.0, 100.0, 100.0, 100.0, 100.0, 90.0, 135.0, 95.0, 90.0, 95.0, 80.0, 1000.0, 100.0, 80.0, 125.0, 66.0, 60.0, 70.0, 55.0, 63.0, 62.0, 124.0, 100.0, 100.0, 122.0, 110.0, 100.0, 100.0, 100.0, 100.0, 100.0, 100.0, 104.0, 135.0, 117.0, 95.0, 178.0, 181.0, 163.0, 170.0, 148.0, 150.0, 109.0, 102.0, 130.0, 101.0, 108.0, 104.0, 91.0, 123.0, 102.0, 104.0, 125.0, 125.0, 105.0, 105.0, 105.0, 108.0, 105.0, 105.0, 108.0, 105.0, 98.0, 134.0, 105.0, 105.0, 110.0, 105.0, 108.0, 125.0, 142.0, 151.0, 106.0, 110.0, 152.0, 198.0, 164.0, 152.0, 152.0, 82.0, 82.0, 133.0, 120.0, 210.0, 235.0, 150.0, 160.0, 182.0, 180.0, 220.0, 170.0, 230.0, 225.0, 184.0, 183.0, 188.0, 180.0, 204.0, 198.0, 199.0, 198.0, 190.0, 200.0, 196.0, 167.0, 188.0, 188.0, 190.0, 129.8, 230.0, 215.0, 220.0, 215.0, 215.0, 215.0, 215.0, 215.0, 200.0, 131.0, 105.0, 112.0, 105.0, 99.0, 122.0, 60.0, 63.0, 80.0, 70.0, 75.0, 110.0, 54.0, 55.0, 80.0, 60.0, 100.0, 100.0, 97.0, 102.0, 105.0, 206.0, 128.0, 183.0, 156.0, 85.0, 100.0, 55.0, 129.8, 225.0], \"xaxis\": \"x\", \"y\": [34.0, 19.0, 40.0, 41.0, 42.0, 33.0, 34.0, 43.0, 44.0, 30.0, 13.0, 14.0, 20.0, 12.7, 13.9, 10.0, 25.0, 25.0, 25.0, 17.0, 17.0, 31.0, 28.0, 38.0, 32.0, 42.0, 33.0, 36.0, 40.0, 35.0, 22.0, 30.0, 39.0, 33.0, 33.0, 30.0, 13.0, 10.0, 14.0, 13.0, 12.0, 12.0, 13.0, 13.0, 11.0, 13.0, 12.5, 14.0, 12.0, 11.0, 10.0, 14.0, 13.0, 13.0, 13.0, 12.0, 12.0, 11.0, 12.0, 14.0, 13.0, 12.0, 13.0, 14.0, 14.8, 14.0, 16.0, 12.0, 13.0, 13.0, 13.0, 12.0, 12.0, 10.2, 8.0, 8.0, 13.0, 15.0, 15.0, 21.0, 10.0, 25.0, 25.0, 25.0, 25.0, 22.0, 22.0, 11.0, 39.0, 38.0, 35.0, 35.0, 35.0, 35.0, 35.0, 35.0, 38.0, 30.0, 32.0, 40.0, 40.0, 34.0, 44.0, 34.0, 40.0, 35.0, 43.0, 39.0, 43.0, 31.0, 31.0, 31.0, 31.0, 34.0, 31.0, 31.0, 32.0, 34.0, 28.0, 34.0, 33.0, 34.0, 32.0, 32.0, 41.0, 44.0, 43.5, 33.0, 33.0, 22.0, 11.0, 34.0, 22.8, 22.8, 22.8, 30.0, 42.0, 35.0, 27.0, 26.0, 24.0, 25.0, 27.0, 38.0, 27.0, 22.0, 41.0, 41.0, 39.0, 40.0, 38.0, 48.0, 43.2, 43.6, 40.9, 41.1, 43.4, 45.4, 41.3, 38.0, 37.0, 40.0, 38.0, 19.0, 38.0, 33.0, 33.0, 33.0, 33.0, 31.0, 32.0, 31.0, 33.0, 9.3, 39.0, 39.0, 37.0, 35.0, 39.0, 13.0, 15.0, 13.0, 14.0, 14.0, 19.0, 16.0, 17.6, 11.0, 20.0, 15.0, 25.0, 18.0, 34.0, 35.0, 41.5, 41.0, 36.0, 39.4, 18.0, 20.0, 10.0, 26.9, 41.0], \"yaxis\": \"y\"}],                        {\"legend\": {\"tracegroupgap\": 0}, \"margin\": {\"t\": 60}, \"template\": {\"data\": {\"bar\": [{\"error_x\": {\"color\": \"#2a3f5f\"}, \"error_y\": {\"color\": \"#2a3f5f\"}, \"marker\": {\"line\": {\"color\": \"#E5ECF6\", \"width\": 0.5}}, \"type\": \"bar\"}], \"barpolar\": [{\"marker\": {\"line\": {\"color\": \"#E5ECF6\", \"width\": 0.5}}, \"type\": \"barpolar\"}], \"carpet\": [{\"aaxis\": {\"endlinecolor\": \"#2a3f5f\", \"gridcolor\": \"white\", \"linecolor\": \"white\", \"minorgridcolor\": \"white\", \"startlinecolor\": \"#2a3f5f\"}, \"baxis\": {\"endlinecolor\": \"#2a3f5f\", \"gridcolor\": \"white\", \"linecolor\": \"white\", \"minorgridcolor\": \"white\", \"startlinecolor\": \"#2a3f5f\"}, \"type\": \"carpet\"}], \"choropleth\": [{\"colorbar\": {\"outlinewidth\": 0, \"ticks\": \"\"}, \"type\": \"choropleth\"}], \"contour\": [{\"colorbar\": {\"outlinewidth\": 0, \"ticks\": \"\"}, \"colorscale\": [[0.0, \"#0d0887\"], [0.1111111111111111, \"#46039f\"], [0.2222222222222222, \"#7201a8\"], [0.3333333333333333, \"#9c179e\"], [0.4444444444444444, \"#bd3786\"], [0.5555555555555556, \"#d8576b\"], [0.6666666666666666, \"#ed7953\"], [0.7777777777777778, \"#fb9f3a\"], [0.8888888888888888, \"#fdca26\"], [1.0, \"#f0f921\"]], \"type\": \"contour\"}], \"contourcarpet\": [{\"colorbar\": {\"outlinewidth\": 0, \"ticks\": \"\"}, \"type\": \"contourcarpet\"}], \"heatmap\": [{\"colorbar\": {\"outlinewidth\": 0, \"ticks\": \"\"}, \"colorscale\": [[0.0, \"#0d0887\"], [0.1111111111111111, \"#46039f\"], [0.2222222222222222, \"#7201a8\"], [0.3333333333333333, \"#9c179e\"], [0.4444444444444444, \"#bd3786\"], [0.5555555555555556, \"#d8576b\"], [0.6666666666666666, \"#ed7953\"], [0.7777777777777778, \"#fb9f3a\"], [0.8888888888888888, \"#fdca26\"], [1.0, \"#f0f921\"]], \"type\": \"heatmap\"}], \"heatmapgl\": [{\"colorbar\": {\"outlinewidth\": 0, \"ticks\": \"\"}, \"colorscale\": [[0.0, \"#0d0887\"], [0.1111111111111111, \"#46039f\"], [0.2222222222222222, \"#7201a8\"], [0.3333333333333333, \"#9c179e\"], [0.4444444444444444, \"#bd3786\"], [0.5555555555555556, \"#d8576b\"], [0.6666666666666666, \"#ed7953\"], [0.7777777777777778, \"#fb9f3a\"], [0.8888888888888888, \"#fdca26\"], [1.0, \"#f0f921\"]], \"type\": \"heatmapgl\"}], \"histogram\": [{\"marker\": {\"colorbar\": {\"outlinewidth\": 0, \"ticks\": \"\"}}, \"type\": \"histogram\"}], \"histogram2d\": [{\"colorbar\": {\"outlinewidth\": 0, \"ticks\": \"\"}, \"colorscale\": [[0.0, \"#0d0887\"], [0.1111111111111111, \"#46039f\"], [0.2222222222222222, \"#7201a8\"], [0.3333333333333333, \"#9c179e\"], [0.4444444444444444, \"#bd3786\"], [0.5555555555555556, \"#d8576b\"], [0.6666666666666666, \"#ed7953\"], [0.7777777777777778, \"#fb9f3a\"], [0.8888888888888888, \"#fdca26\"], [1.0, \"#f0f921\"]], \"type\": \"histogram2d\"}], \"histogram2dcontour\": [{\"colorbar\": {\"outlinewidth\": 0, \"ticks\": \"\"}, \"colorscale\": [[0.0, \"#0d0887\"], [0.1111111111111111, \"#46039f\"], [0.2222222222222222, \"#7201a8\"], [0.3333333333333333, \"#9c179e\"], [0.4444444444444444, \"#bd3786\"], [0.5555555555555556, \"#d8576b\"], [0.6666666666666666, \"#ed7953\"], [0.7777777777777778, \"#fb9f3a\"], [0.8888888888888888, \"#fdca26\"], [1.0, \"#f0f921\"]], \"type\": \"histogram2dcontour\"}], \"mesh3d\": [{\"colorbar\": {\"outlinewidth\": 0, \"ticks\": \"\"}, \"type\": \"mesh3d\"}], \"parcoords\": [{\"line\": {\"colorbar\": {\"outlinewidth\": 0, \"ticks\": \"\"}}, \"type\": \"parcoords\"}], \"pie\": [{\"automargin\": true, \"type\": \"pie\"}], \"scatter\": [{\"marker\": {\"colorbar\": {\"outlinewidth\": 0, \"ticks\": \"\"}}, \"type\": \"scatter\"}], \"scatter3d\": [{\"line\": {\"colorbar\": {\"outlinewidth\": 0, \"ticks\": \"\"}}, \"marker\": {\"colorbar\": {\"outlinewidth\": 0, \"ticks\": \"\"}}, \"type\": \"scatter3d\"}], \"scattercarpet\": [{\"marker\": {\"colorbar\": {\"outlinewidth\": 0, \"ticks\": \"\"}}, \"type\": \"scattercarpet\"}], \"scattergeo\": [{\"marker\": {\"colorbar\": {\"outlinewidth\": 0, \"ticks\": \"\"}}, \"type\": \"scattergeo\"}], \"scattergl\": [{\"marker\": {\"colorbar\": {\"outlinewidth\": 0, \"ticks\": \"\"}}, \"type\": \"scattergl\"}], \"scattermapbox\": [{\"marker\": {\"colorbar\": {\"outlinewidth\": 0, \"ticks\": \"\"}}, \"type\": \"scattermapbox\"}], \"scatterpolar\": [{\"marker\": {\"colorbar\": {\"outlinewidth\": 0, \"ticks\": \"\"}}, \"type\": \"scatterpolar\"}], \"scatterpolargl\": [{\"marker\": {\"colorbar\": {\"outlinewidth\": 0, \"ticks\": \"\"}}, \"type\": \"scatterpolargl\"}], \"scatterternary\": [{\"marker\": {\"colorbar\": {\"outlinewidth\": 0, \"ticks\": \"\"}}, \"type\": \"scatterternary\"}], \"surface\": [{\"colorbar\": {\"outlinewidth\": 0, \"ticks\": \"\"}, \"colorscale\": [[0.0, \"#0d0887\"], [0.1111111111111111, \"#46039f\"], [0.2222222222222222, \"#7201a8\"], [0.3333333333333333, \"#9c179e\"], [0.4444444444444444, \"#bd3786\"], [0.5555555555555556, \"#d8576b\"], [0.6666666666666666, \"#ed7953\"], [0.7777777777777778, \"#fb9f3a\"], [0.8888888888888888, \"#fdca26\"], [1.0, \"#f0f921\"]], \"type\": \"surface\"}], \"table\": [{\"cells\": {\"fill\": {\"color\": \"#EBF0F8\"}, \"line\": {\"color\": \"white\"}}, \"header\": {\"fill\": {\"color\": \"#C8D4E3\"}, \"line\": {\"color\": \"white\"}}, \"type\": \"table\"}]}, \"layout\": {\"annotationdefaults\": {\"arrowcolor\": \"#2a3f5f\", \"arrowhead\": 0, \"arrowwidth\": 1}, \"coloraxis\": {\"colorbar\": {\"outlinewidth\": 0, \"ticks\": \"\"}}, \"colorscale\": {\"diverging\": [[0, \"#8e0152\"], [0.1, \"#c51b7d\"], [0.2, \"#de77ae\"], [0.3, \"#f1b6da\"], [0.4, \"#fde0ef\"], [0.5, \"#f7f7f7\"], [0.6, \"#e6f5d0\"], [0.7, \"#b8e186\"], [0.8, \"#7fbc41\"], [0.9, \"#4d9221\"], [1, \"#276419\"]], \"sequential\": [[0.0, \"#0d0887\"], [0.1111111111111111, \"#46039f\"], [0.2222222222222222, \"#7201a8\"], [0.3333333333333333, \"#9c179e\"], [0.4444444444444444, \"#bd3786\"], [0.5555555555555556, \"#d8576b\"], [0.6666666666666666, \"#ed7953\"], [0.7777777777777778, \"#fb9f3a\"], [0.8888888888888888, \"#fdca26\"], [1.0, \"#f0f921\"]], \"sequentialminus\": [[0.0, \"#0d0887\"], [0.1111111111111111, \"#46039f\"], [0.2222222222222222, \"#7201a8\"], [0.3333333333333333, \"#9c179e\"], [0.4444444444444444, \"#bd3786\"], [0.5555555555555556, \"#d8576b\"], [0.6666666666666666, \"#ed7953\"], [0.7777777777777778, \"#fb9f3a\"], [0.8888888888888888, \"#fdca26\"], [1.0, \"#f0f921\"]]}, \"colorway\": [\"#636efa\", \"#EF553B\", \"#00cc96\", \"#ab63fa\", \"#FFA15A\", \"#19d3f3\", \"#FF6692\", \"#B6E880\", \"#FF97FF\", \"#FECB52\"], \"font\": {\"color\": \"#2a3f5f\"}, \"geo\": {\"bgcolor\": \"white\", \"lakecolor\": \"white\", \"landcolor\": \"#E5ECF6\", \"showlakes\": true, \"showland\": true, \"subunitcolor\": \"white\"}, \"hoverlabel\": {\"align\": \"left\"}, \"hovermode\": \"closest\", \"mapbox\": {\"style\": \"light\"}, \"paper_bgcolor\": \"white\", \"plot_bgcolor\": \"#E5ECF6\", \"polar\": {\"angularaxis\": {\"gridcolor\": \"white\", \"linecolor\": \"white\", \"ticks\": \"\"}, \"bgcolor\": \"#E5ECF6\", \"radialaxis\": {\"gridcolor\": \"white\", \"linecolor\": \"white\", \"ticks\": \"\"}}, \"scene\": {\"xaxis\": {\"backgroundcolor\": \"#E5ECF6\", \"gridcolor\": \"white\", \"gridwidth\": 2, \"linecolor\": \"white\", \"showbackground\": true, \"ticks\": \"\", \"zerolinecolor\": \"white\"}, \"yaxis\": {\"backgroundcolor\": \"#E5ECF6\", \"gridcolor\": \"white\", \"gridwidth\": 2, \"linecolor\": \"white\", \"showbackground\": true, \"ticks\": \"\", \"zerolinecolor\": \"white\"}, \"zaxis\": {\"backgroundcolor\": \"#E5ECF6\", \"gridcolor\": \"white\", \"gridwidth\": 2, \"linecolor\": \"white\", \"showbackground\": true, \"ticks\": \"\", \"zerolinecolor\": \"white\"}}, \"shapedefaults\": {\"line\": {\"color\": \"#2a3f5f\"}}, \"ternary\": {\"aaxis\": {\"gridcolor\": \"white\", \"linecolor\": \"white\", \"ticks\": \"\"}, \"baxis\": {\"gridcolor\": \"white\", \"linecolor\": \"white\", \"ticks\": \"\"}, \"bgcolor\": \"#E5ECF6\", \"caxis\": {\"gridcolor\": \"white\", \"linecolor\": \"white\", \"ticks\": \"\"}}, \"title\": {\"x\": 0.05}, \"xaxis\": {\"automargin\": true, \"gridcolor\": \"white\", \"linecolor\": \"white\", \"ticks\": \"\", \"title\": {\"standoff\": 15}, \"zerolinecolor\": \"white\", \"zerolinewidth\": 2}, \"yaxis\": {\"automargin\": true, \"gridcolor\": \"white\", \"linecolor\": \"white\", \"ticks\": \"\", \"title\": {\"standoff\": 15}, \"zerolinecolor\": \"white\", \"zerolinewidth\": 2}}}, \"xaxis\": {\"anchor\": \"y\", \"domain\": [0.0, 1.0], \"title\": {\"text\": \"Temperature\"}}, \"yaxis\": {\"anchor\": \"x\", \"domain\": [0.0, 1.0], \"title\": {\"text\": \"Gravity\"}}},                        {\"responsive\": true}                    ).then(function(){\n",
       "                            \n",
       "var gd = document.getElementById('a7ef602e-9476-4d27-82f1-fa4ec0bf61b8');\n",
       "var x = new MutationObserver(function (mutations, observer) {{\n",
       "        var display = window.getComputedStyle(gd).display;\n",
       "        if (!display || display === 'none') {{\n",
       "            console.log([gd, 'removed!']);\n",
       "            Plotly.purge(gd);\n",
       "            observer.disconnect();\n",
       "        }}\n",
       "}});\n",
       "\n",
       "// Listen for the removal of the full notebook cells\n",
       "var notebookContainer = gd.closest('#notebook-container');\n",
       "if (notebookContainer) {{\n",
       "    x.observe(notebookContainer, {childList: true});\n",
       "}}\n",
       "\n",
       "// Listen for the clearing of the current output cell\n",
       "var outputEl = gd.closest('.output');\n",
       "if (outputEl) {{\n",
       "    x.observe(outputEl, {childList: true});\n",
       "}}\n",
       "\n",
       "                        })                };                });            </script>        </div>"
      ]
     },
     "metadata": {},
     "output_type": "display_data"
    }
   ],
   "source": [
    "px.scatter(data,  x=\"Temperature\", y=\"Gravity\")"
   ]
  },
  {
   "cell_type": "markdown",
   "metadata": {},
   "source": [
    "Finally, this Pair plot shows scatter plots of all feature variables, as well as the statistic distribution of each of them in the diagonal."
   ]
  },
  {
   "cell_type": "code",
   "execution_count": 81,
   "metadata": {},
   "outputs": [
    {
     "data": {
      "text/plain": [
       "<seaborn.axisgrid.PairGrid at 0x1bceaf0acd0>"
      ]
     },
     "execution_count": 81,
     "metadata": {},
     "output_type": "execute_result"
    },
    {
     "data": {
      "image/png": "[encoded data removed]",
      "text/plain": [
       "<Figure size 1374x1260 with 56 Axes>"
      ]
     },
     "metadata": {
      "needs_background": "light"
     },
     "output_type": "display_data"
    }
   ],
   "source": [
    "sns.pairplot(data, hue=\"EOR_Method\")"
   ]
  },
  {
   "cell_type": "markdown",
   "metadata": {},
   "source": [
    "## 3.2) Data Preprocessing"
   ]
  },
  {
   "cell_type": "markdown",
   "metadata": {},
   "source": [
    "This step is split into 3 parts, which are: \n",
    "1) Data cleaning by using a heatmap in order to look for null data \n",
    "2) Correlation matrix used for checking the relationship among the feature variables, as well as identify if there is multicollinearity\n",
    "3) Feature selection \n",
    "4) Data transforming, where the numerical variables are normalized,  whereas the categorical variables were labeled and encoded."
   ]
  },
  {
   "cell_type": "markdown",
   "metadata": {},
   "source": [
    "### 3.2.1) Data Cleaning\n",
    "\n",
    "This heatmap helps us to confirm that there is no presence of any null data."
   ]
  },
  {
   "cell_type": "code",
   "execution_count": 82,
   "metadata": {},
   "outputs": [
    {
     "data": {
      "text/plain": [
       "<AxesSubplot:>"
      ]
     },
     "execution_count": 82,
     "metadata": {},
     "output_type": "execute_result"
    },
    {
     "data": {
      "image/png": "[encoded data removed]",
      "text/plain": [
       "<Figure size 432x288 with 2 Axes>"
      ]
     },
     "metadata": {
      "needs_background": "light"
     },
     "output_type": "display_data"
    }
   ],
   "source": [
    "sns.heatmap(data.isnull()) "
   ]
  },
  {
   "cell_type": "markdown",
   "metadata": {},
   "source": [
    "### 3.2.2) Correlation Matrix\n",
    "\n",
    "\n",
    "Regarding this correlation matrix, there is no presence of multicollinearity because the correlation among all feature variables are less than 80%."
   ]
  },
  {
   "cell_type": "code",
   "execution_count": 83,
   "metadata": {},
   "outputs": [
    {
     "data": {
      "text/plain": [
       "<AxesSubplot:>"
      ]
     },
     "execution_count": 83,
     "metadata": {},
     "output_type": "execute_result"
    },
    {
     "data": {
      "image/png": "[encoded data removed]",
      "text/plain": [
       "<Figure size 720x576 with 2 Axes>"
      ]
     },
     "metadata": {
      "needs_background": "light"
     },
     "output_type": "display_data"
    }
   ],
   "source": [
    "f, ax = plt.subplots(figsize=(10, 8))\n",
    "corr = data.corr()\n",
    "sns.heatmap(corr, annot=True, mask=np.zeros_like(corr, dtype=np.bool), ax=ax)"
   ]
  },
  {
   "cell_type": "markdown",
   "metadata": {},
   "source": [
    "### 3.2.3) Feature Selection\n",
    "\n",
    "This step is performed in order to know the importance that represents each feature variable with the target variable as this is categorical."
   ]
  },
  {
   "cell_type": "code",
   "execution_count": 84,
   "metadata": {},
   "outputs": [],
   "source": [
    "# Feature Selection (Feature importance)\n",
    "X = data.iloc[:,2:9].values #Feature Variables\n",
    "y = data.iloc[:,1:2].values # Target Variable"
   ]
  },
  {
   "cell_type": "code",
   "execution_count": 85,
   "metadata": {},
   "outputs": [
    {
     "name": "stderr",
     "output_type": "stream",
     "text": [
      "<ipython-input-85-941600bec294>:5: DataConversionWarning:\n",
      "\n",
      "A column-vector y was passed when a 1d array was expected. Please change the shape of y to (n_samples,), for example using ravel().\n",
      "\n"
     ]
    },
    {
     "name": "stdout",
     "output_type": "stream",
     "text": [
      "[0.11515864 0.11154995 0.23022156 0.23805882 0.09098884 0.13469745\n",
      " 0.07932473]\n"
     ]
    }
   ],
   "source": [
    "# The next codes are used to desploy the importance between each feature variable with the target variable\n",
    "from sklearn.ensemble import ExtraTreesClassifier\n",
    "import matplotlib.pyplot as plt\n",
    "model = ExtraTreesClassifier()\n",
    "model.fit(X,y)\n",
    "print(model.feature_importances_) #use inbuilt class feature_importances of tree based classifiers"
   ]
  },
  {
   "cell_type": "markdown",
   "metadata": {},
   "source": [
    "### 3.2.4) Data Transforming\n",
    "\n",
    "Here, the numerical variables (features) were normalized because is easier for the models to work with ranges between 0 - 1. On the other hand, the categorical variable (EOR methods) was labeled and encoded because the programming languages can not understand words but numbers."
   ]
  },
  {
   "cell_type": "code",
   "execution_count": 86,
   "metadata": {},
   "outputs": [],
   "source": [
    "from sklearn.preprocessing import MinMaxScaler # Normalization of the numerical variables\n",
    "sc = MinMaxScaler()\n",
    "X = sc.fit_transform(X)\n",
    "from sklearn.preprocessing import LabelEncoder # Data Labeling for categorical variable\n",
    "le = LabelEncoder()\n",
    "dfle = data\n",
    "dfle.EOR_Method = le.fit_transform(dfle.EOR_Method)\n",
    "from sklearn.preprocessing import OneHotEncoder # Encoding of categorical variable\n",
    "ohe = OneHotEncoder()\n",
    "y = ohe.fit_transform(y).toarray()"
   ]
  },
  {
   "cell_type": "markdown",
   "metadata": {},
   "source": [
    "# 4) Data Split and model training\n",
    "\n",
    "The dataset was split into 80% for training and 20% for testing"
   ]
  },
  {
   "cell_type": "code",
   "execution_count": 87,
   "metadata": {},
   "outputs": [],
   "source": [
    "\n",
    "from sklearn.model_selection import train_test_split\n",
    "X_train,X_test,y_train,y_test = train_test_split(X,y,test_size = 0.2,random_state = 0)"
   ]
  },
  {
   "cell_type": "markdown",
   "metadata": {},
   "source": [
    "## 4.1) Model training using the KNN algorithm\n",
    "\n",
    "This model was trained using its main parameter (n_neighbors)."
   ]
  },
  {
   "cell_type": "code",
   "execution_count": 88,
   "metadata": {},
   "outputs": [
    {
     "data": {
      "text/plain": [
       "KNeighborsClassifier(metric='euclidean', n_neighbors=2)"
      ]
     },
     "execution_count": 88,
     "metadata": {},
     "output_type": "execute_result"
    }
   ],
   "source": [
    "from sklearn.neighbors import KNeighborsClassifier\n",
    "Knn = KNeighborsClassifier(n_neighbors = 2, p=2, metric= 'euclidean')\n",
    "Knn.fit(X_train, y_train)"
   ]
  },
  {
   "cell_type": "markdown",
   "metadata": {},
   "source": [
    "## 4.2) Model training using the decision tree algorithm\n",
    "\n",
    "This model was trained with one of its main parameters (max_depth)."
   ]
  },
  {
   "cell_type": "code",
   "execution_count": 89,
   "metadata": {},
   "outputs": [
    {
     "data": {
      "text/plain": [
       "DecisionTreeClassifier(max_depth=1)"
      ]
     },
     "execution_count": 89,
     "metadata": {},
     "output_type": "execute_result"
    }
   ],
   "source": [
    "from sklearn.tree import DecisionTreeClassifier\n",
    "arbol = DecisionTreeClassifier(max_depth = 1)\n",
    "arbol.fit(X_train, y_train)"
   ]
  },
  {
   "cell_type": "markdown",
   "metadata": {},
   "source": [
    "# 5) Model Evaluation"
   ]
  },
  {
   "cell_type": "markdown",
   "metadata": {},
   "source": [
    "## 5.1) KNN Algorithm"
   ]
  },
  {
   "cell_type": "code",
   "execution_count": 90,
   "metadata": {},
   "outputs": [
    {
     "data": {
      "text/plain": [
       "0.8395061728395061"
      ]
     },
     "execution_count": 90,
     "metadata": {},
     "output_type": "execute_result"
    }
   ],
   "source": [
    "Knn.score(X_train, y_train)"
   ]
  },
  {
   "cell_type": "code",
   "execution_count": 91,
   "metadata": {},
   "outputs": [
    {
     "data": {
      "text/plain": [
       "0.7317073170731707"
      ]
     },
     "execution_count": 91,
     "metadata": {},
     "output_type": "execute_result"
    }
   ],
   "source": [
    "Knn.score(X_test, y_test)"
   ]
  },
  {
   "cell_type": "code",
   "execution_count": 92,
   "metadata": {},
   "outputs": [
    {
     "data": {
      "image/png": "[encoded data removed]",
      "text/plain": [
       "<Figure size 432x288 with 1 Axes>"
      ]
     },
     "metadata": {
      "needs_background": "light"
     },
     "output_type": "display_data"
    }
   ],
   "source": [
    "# Plot of Accuracy vs K values using the training and testing data\n",
    "neighbors = np.arange(1, 30) \n",
    "train_accuracy = np.empty(len(neighbors)) \n",
    "test_accuracy = np.empty(len(neighbors))\n",
    "for i, k in enumerate(neighbors): \n",
    "    knn = KNeighborsClassifier(n_neighbors=k) \n",
    "    knn.fit(X_train, y_train)\n",
    "    train_accuracy[i] = knn.score(X_train, y_train) \n",
    "    test_accuracy[i] = knn.score(X_test, y_test)\n",
    "plt.plot(neighbors, test_accuracy, label = 'Test') \n",
    "plt.plot(neighbors, train_accuracy, label = 'Train') \n",
    "plt.legend() \n",
    "plt.xlabel('K_neighbors') \n",
    "plt.ylabel('Accuracy') \n",
    "plt.show() "
   ]
  },
  {
   "cell_type": "markdown",
   "metadata": {},
   "source": [
    "## 5.2) DT Algorithm"
   ]
  },
  {
   "cell_type": "code",
   "execution_count": 93,
   "metadata": {},
   "outputs": [
    {
     "data": {
      "text/plain": [
       "0.7345679012345679"
      ]
     },
     "execution_count": 93,
     "metadata": {},
     "output_type": "execute_result"
    }
   ],
   "source": [
    "arbol.score(X_train, y_train)"
   ]
  },
  {
   "cell_type": "code",
   "execution_count": 94,
   "metadata": {},
   "outputs": [
    {
     "data": {
      "text/plain": [
       "0.7560975609756098"
      ]
     },
     "execution_count": 94,
     "metadata": {},
     "output_type": "execute_result"
    }
   ],
   "source": [
    "arbol.score(X_test, y_test)"
   ]
  },
  {
   "cell_type": "code",
   "execution_count": 95,
   "metadata": {},
   "outputs": [
    {
     "data": {
      "image/png": "[encoded data removed]",
      "text/plain": [
       "<Figure size 432x288 with 1 Axes>"
      ]
     },
     "metadata": {
      "needs_background": "light"
     },
     "output_type": "display_data"
    }
   ],
   "source": [
    "# Plot of Accuracy vs max depth values using the training and testing data\n",
    "max_depth = np.arange(1, 9)\n",
    "train_accuracy = np.empty(len(max_depth))\n",
    "test_accuracy = np.empty(len(max_depth))\n",
    "for i, r in enumerate(max_depth):\n",
    "    Tree = DecisionTreeClassifier(max_depth=r)\n",
    "    Tree.fit(X_train, y_train)\n",
    "    train_accuracy[i] = Tree.score(X_train, y_train)\n",
    "    test_accuracy[i] = Tree.score(X_test, y_test)\n",
    "plt.plot(max_depth, test_accuracy, label = 'Test')\n",
    "plt.plot(max_depth, train_accuracy, label = 'Train')\n",
    "plt.legend()\n",
    "plt.xlabel('max_depth_values')\n",
    "plt.ylabel('Accuracy')\n",
    "plt.show()"
   ]
  },
  {
   "cell_type": "markdown",
   "metadata": {},
   "source": [
    "# 6) Model deployment (Predictions)"
   ]
  },
  {
   "cell_type": "code",
   "execution_count": 96,
   "metadata": {},
   "outputs": [],
   "source": [
    "def predict(Porosity=29, Permiability=4689, Depth=1200 ,Gravity=8, Viscocity=490058, Temperature=150, Oil_Saturation=38.4):\n",
    "  cnames = ['Porosity', 'Permiability', 'Depth', 'Gravity', 'Viscocity', 'Temperature', 'Oil_Saturation']\n",
    "  data = [[Porosity, Permiability, Depth, Gravity, Viscocity, Temperature, Oil_Saturation]]\n",
    "  my_X = pd.DataFrame(data=data, columns=cnames)\n",
    "  my_X = sc.transform(my_X)\n",
    "  return Knn.predict(my_X)"
   ]
  },
  {
   "cell_type": "code",
   "execution_count": 97,
   "metadata": {},
   "outputs": [
    {
     "name": "stdout",
     "output_type": "stream",
     "text": [
      "Steam Injection\n"
     ]
    }
   ],
   "source": [
    "if np.argmax(predict())==0:\n",
    "    print('CO2 Injection')\n",
    "elif np.argmax(predict())==1:\n",
    "    print('Combustion')\n",
    "elif np.argmax(predict())==2:\n",
    "    print('HC Injection')\n",
    "elif np.argmax(predict())==3:\n",
    "    print('Polymer')\n",
    "elif np.argmax(predict())==4:\n",
    "    print('Steam Injection')"
   ]
  },
  {
   "cell_type": "code",
   "execution_count": 98,
   "metadata": {},
   "outputs": [
    {
     "data": {
      "text/plain": [
       "array([[0., 0., 0., 0., 1.]])"
      ]
     },
     "execution_count": 98,
     "metadata": {},
     "output_type": "execute_result"
    }
   ],
   "source": [
    "predict()"
   ]
  }
 ],
 "metadata": {
  "kernelspec": {
   "display_name": "Python 3",
   "language": "python",
   "name": "python3"
  },
  "language_info": {
   "codemirror_mode": {
    "name": "ipython",
    "version": 3
   },
   "file_extension": ".py",
   "mimetype": "text/x-python",
   "name": "python",
   "nbconvert_exporter": "python",
   "pygments_lexer": "ipython3",
   "version": "3.8.5"
  }
 },
 "nbformat": 4,
 "nbformat_minor": 2
}
